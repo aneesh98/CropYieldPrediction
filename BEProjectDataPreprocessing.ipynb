{
  "nbformat": 4,
  "nbformat_minor": 0,
  "metadata": {
    "colab": {
      "name": "BEProjectDataPreprocessing.ipynb",
      "provenance": []
    },
    "kernelspec": {
      "name": "python3",
      "display_name": "Python 3"
    },
    "accelerator": "GPU"
  },
  "cells": [
    {
      "cell_type": "code",
      "metadata": {
        "id": "9wV9yRm2_O0c",
        "colab_type": "code",
        "colab": {}
      },
      "source": [
        "import pandas as pd\n",
        "import numpy as np\n",
        "import tensorflow as tf\n",
        "import matplotlib.pyplot as plt\n",
        "df_rice = pd.read_csv('Rice.csv')\n",
        "df_soil = pd.read_csv('Soil.csv')\n",
        "c1 = df_rice.columns.values[0]\n",
        "column_names = ['District', 'Block_name', 'Year', 'Yield']\n",
        "total_rows = df_rice.shape[0]\n",
        "years = []\n",
        "k = 2\n",
        "for i in range(2000, 2017):\n",
        "  years.append([i, k])\n",
        "  k += 1\n",
        "cyear = []\n",
        "District = []\n",
        "Block_name = []\n",
        "Yield = []\n",
        "df_rice.iloc[1:,0]\n",
        "curr_district = \"\""
      ],
      "execution_count": 0,
      "outputs": []
    },
    {
      "cell_type": "code",
      "metadata": {
        "id": "Jg2WQxdqSwsf",
        "colab_type": "code",
        "colab": {
          "base_uri": "https://localhost:8080/",
          "height": 34
        },
        "outputId": "6dfcaf01-0b8f-439e-e7e0-5d44bdb9959e"
      },
      "source": [
        "print(total_rows)"
      ],
      "execution_count": 70,
      "outputs": [
        {
          "output_type": "stream",
          "text": [
            "394\n"
          ],
          "name": "stdout"
        }
      ]
    },
    {
      "cell_type": "code",
      "metadata": {
        "id": "VmOIBhI6JdKN",
        "colab_type": "code",
        "colab": {
          "base_uri": "https://localhost:8080/",
          "height": 34
        },
        "outputId": "dc1c5668-1c78-40de-ac9e-87d84d2fdfea"
      },
      "source": [
        "print(len(cyear))\n",
        "def extract_csv(df):\n",
        "  for year in years:\n",
        "    for row in range(1, total_rows):\n",
        "      if df.iloc[row,0][0] == \"R\":\n",
        "        curr_district = df.iloc[row,1]\n",
        "        continue\n",
        "      else:\n",
        "        cyear.append(int(year[0]))\n",
        "        if curr_district == 'A.Nagar':\n",
        "          curr_district = 'Ahmadnagar'\n",
        "        District.append(curr_district)\n",
        "        if df.iloc[row, 1] == 'A.Nagar':\n",
        "            Block_name.append('Ahmadnagar')\n",
        "        else:\n",
        "            Block_name.append(df.iloc[row, 1])\n",
        "        Yield.append(float(df.iloc[row, year[1]]))\n",
        "  return cyear, District, Block_name, Yield\n"
      ],
      "execution_count": 122,
      "outputs": [
        {
          "output_type": "stream",
          "text": [
            "0\n"
          ],
          "name": "stdout"
        }
      ]
    },
    {
      "cell_type": "code",
      "metadata": {
        "id": "hmvdN64YOWkb",
        "colab_type": "code",
        "colab": {}
      },
      "source": [
        "cyear, District, Block_name, Yield = extract_csv(df_rice)"
      ],
      "execution_count": 0,
      "outputs": []
    },
    {
      "cell_type": "code",
      "metadata": {
        "id": "vrJThtd8NHxZ",
        "colab_type": "code",
        "colab": {}
      },
      "source": [
        "new_rice = {'District':District, 'Block_name':Block_name, 'Year':cyear, 'Yield':Yield}\n",
        "df_nrice = pd.DataFrame(new_rice)\n",
        "df_nrice.head()\n",
        "df_nrice.to_csv('Restructured_Data.csv', index=False)"
      ],
      "execution_count": 0,
      "outputs": []
    },
    {
      "cell_type": "code",
      "metadata": {
        "id": "zZBWoalhQoEx",
        "colab_type": "code",
        "colab": {}
      },
      "source": [
        "import seaborn as sns\n",
        "\n",
        "\n",
        "def getCrossTab(feature_name, label, dataframe):\n",
        "  data_ct = pd.crosstab(dataframe[feature_name], dataframe[label], margins = False)\n",
        "  return data_ct\n",
        "\n",
        "def drawBoxPlot(feature, label, df_, subplots = False, nrows = 0, ncolumns = 0):\n",
        "  if not subplots:\n",
        "    sns.boxplot(x=label, y = feature, data = df_)\n",
        "  else:\n",
        "    fig, ax = plt.subplots(nrows, ncolumns, figsize = (15,15))\n",
        "    fig.subplots_adjust(hspace = 0.8, wspace = 0.8)\n",
        "    d = 0\n",
        "    for row in range(nrows):\n",
        "      for col in range(ncolumns):\n",
        "        sns.boxplot(x=label, y=feature[d], data=df_, ax = ax[row, col])\n",
        "        d += 1\n",
        "        if d >= len(feature):\n",
        "          return\n",
        "\n",
        "def drawHist(feature, df_, subplots = False, nrows = 0, ncolumns = 0):\n",
        "  if not subplots:\n",
        "    plt.hist(df_[feature])\n",
        "  else:\n",
        "    fig, ax = plt.subplots(nrows, ncolumns, figsize = (15,15))\n",
        "    fig.subplots_adjust(hspace = 0.8, wspace = 0.8)\n",
        "    d = 0\n",
        "    for row in range(nrows):\n",
        "      for col in range(ncolumns):\n",
        "        ax[row, col].hist(df_[feature[d]])\n",
        "        ax[row, col].set_xlabel(feature[d])\n",
        "        d += 1\n",
        "        if d >= len(feature):\n",
        "          return"
      ],
      "execution_count": 0,
      "outputs": []
    },
    {
      "cell_type": "code",
      "metadata": {
        "id": "-mUYcVNqQvOx",
        "colab_type": "code",
        "colab": {}
      },
      "source": [
        "df_nrice.loc[:,'Yield'] = df_nrice['Yield'].astype(dtype = 'float64')"
      ],
      "execution_count": 0,
      "outputs": []
    },
    {
      "cell_type": "code",
      "metadata": {
        "id": "luUimkl9VpSH",
        "colab_type": "code",
        "colab": {}
      },
      "source": [
        "from sklearn.impute import SimpleImputer\n",
        "imp = SimpleImputer(strategy='median')\n",
        "df_nrice['Yield'] = imp.fit_transform(df_nrice['Yield'].values.reshape(-1,1))"
      ],
      "execution_count": 0,
      "outputs": []
    },
    {
      "cell_type": "code",
      "metadata": {
        "id": "7vdC-HxpRB8G",
        "colab_type": "code",
        "colab": {
          "base_uri": "https://localhost:8080/",
          "height": 436
        },
        "outputId": "e1f26946-5b6e-435b-fac2-21707aa8bb18"
      },
      "source": [
        "df_agg = ((df_nrice.groupby(['District', 'Year'])).mean()).loc[:,['Yield']]\n",
        "df_agg"
      ],
      "execution_count": 125,
      "outputs": [
        {
          "output_type": "execute_result",
          "data": {
            "text/html": [
              "<div>\n",
              "<style scoped>\n",
              "    .dataframe tbody tr th:only-of-type {\n",
              "        vertical-align: middle;\n",
              "    }\n",
              "\n",
              "    .dataframe tbody tr th {\n",
              "        vertical-align: top;\n",
              "    }\n",
              "\n",
              "    .dataframe thead th {\n",
              "        text-align: right;\n",
              "    }\n",
              "</style>\n",
              "<table border=\"1\" class=\"dataframe\">\n",
              "  <thead>\n",
              "    <tr style=\"text-align: right;\">\n",
              "      <th></th>\n",
              "      <th></th>\n",
              "      <th>Yield</th>\n",
              "    </tr>\n",
              "    <tr>\n",
              "      <th>District</th>\n",
              "      <th>Year</th>\n",
              "      <th></th>\n",
              "    </tr>\n",
              "  </thead>\n",
              "  <tbody>\n",
              "    <tr>\n",
              "      <th rowspan=\"5\" valign=\"top\">Ahmadnagar</th>\n",
              "      <th>2000</th>\n",
              "      <td>599.0</td>\n",
              "    </tr>\n",
              "    <tr>\n",
              "      <th>2001</th>\n",
              "      <td>500.0</td>\n",
              "    </tr>\n",
              "    <tr>\n",
              "      <th>2002</th>\n",
              "      <td>224.3</td>\n",
              "    </tr>\n",
              "    <tr>\n",
              "      <th>2003</th>\n",
              "      <td>947.1</td>\n",
              "    </tr>\n",
              "    <tr>\n",
              "      <th>2004</th>\n",
              "      <td>836.0</td>\n",
              "    </tr>\n",
              "    <tr>\n",
              "      <th>...</th>\n",
              "      <th>...</th>\n",
              "      <td>...</td>\n",
              "    </tr>\n",
              "    <tr>\n",
              "      <th rowspan=\"5\" valign=\"top\">Yavatmal</th>\n",
              "      <th>2012</th>\n",
              "      <td>NaN</td>\n",
              "    </tr>\n",
              "    <tr>\n",
              "      <th>2013</th>\n",
              "      <td>NaN</td>\n",
              "    </tr>\n",
              "    <tr>\n",
              "      <th>2014</th>\n",
              "      <td>NaN</td>\n",
              "    </tr>\n",
              "    <tr>\n",
              "      <th>2015</th>\n",
              "      <td>NaN</td>\n",
              "    </tr>\n",
              "    <tr>\n",
              "      <th>2016</th>\n",
              "      <td>NaN</td>\n",
              "    </tr>\n",
              "  </tbody>\n",
              "</table>\n",
              "<p>595 rows × 1 columns</p>\n",
              "</div>"
            ],
            "text/plain": [
              "                 Yield\n",
              "District   Year       \n",
              "Ahmadnagar 2000  599.0\n",
              "           2001  500.0\n",
              "           2002  224.3\n",
              "           2003  947.1\n",
              "           2004  836.0\n",
              "...                ...\n",
              "Yavatmal   2012    NaN\n",
              "           2013    NaN\n",
              "           2014    NaN\n",
              "           2015    NaN\n",
              "           2016    NaN\n",
              "\n",
              "[595 rows x 1 columns]"
            ]
          },
          "metadata": {
            "tags": []
          },
          "execution_count": 125
        }
      ]
    },
    {
      "cell_type": "code",
      "metadata": {
        "id": "_yW8Edg5FMMG",
        "colab_type": "code",
        "colab": {
          "base_uri": "https://localhost:8080/",
          "height": 443
        },
        "outputId": "f13f5dcd-9c23-4555-d6a5-d8bf21ea7491"
      },
      "source": [
        "(df_soil[(df_soil['DISTRICT'] == 'Ratnagiri') & (df_soil['YEAR_OBS']>=2000)]).groupby()"
      ],
      "execution_count": 88,
      "outputs": [
        {
          "output_type": "execute_result",
          "data": {
            "text/html": [
              "<div>\n",
              "<style scoped>\n",
              "    .dataframe tbody tr th:only-of-type {\n",
              "        vertical-align: middle;\n",
              "    }\n",
              "\n",
              "    .dataframe tbody tr th {\n",
              "        vertical-align: top;\n",
              "    }\n",
              "\n",
              "    .dataframe thead th {\n",
              "        text-align: right;\n",
              "    }\n",
              "</style>\n",
              "<table border=\"1\" class=\"dataframe\">\n",
              "  <thead>\n",
              "    <tr style=\"text-align: right;\">\n",
              "      <th></th>\n",
              "      <th>x</th>\n",
              "      <th>DISTRICT</th>\n",
              "      <th>TEH_NAME</th>\n",
              "      <th>BLOCK_NAME</th>\n",
              "      <th>LAT</th>\n",
              "      <th>LON</th>\n",
              "      <th>SITE_NAME</th>\n",
              "      <th>YEAR_OBS</th>\n",
              "      <th>RAINFALL</th>\n",
              "      <th>GRDWTR</th>\n",
              "      <th>SOIL_TYPE</th>\n",
              "      <th>Soil_Score</th>\n",
              "      <th>Elevation</th>\n",
              "      <th>Indexing</th>\n",
              "    </tr>\n",
              "  </thead>\n",
              "  <tbody>\n",
              "    <tr>\n",
              "      <th>840</th>\n",
              "      <td>MS</td>\n",
              "      <td>Ratnagiri</td>\n",
              "      <td>Guhagar</td>\n",
              "      <td>Dapoli</td>\n",
              "      <td>17.762500</td>\n",
              "      <td>73.191667</td>\n",
              "      <td>Dapoli</td>\n",
              "      <td>2010</td>\n",
              "      <td>4201.70</td>\n",
              "      <td>5.58</td>\n",
              "      <td>Laterite</td>\n",
              "      <td>3</td>\n",
              "      <td>14</td>\n",
              "      <td>16836.54</td>\n",
              "    </tr>\n",
              "    <tr>\n",
              "      <th>841</th>\n",
              "      <td>MS</td>\n",
              "      <td>Ratnagiri</td>\n",
              "      <td>Kherdi</td>\n",
              "      <td>Lanja</td>\n",
              "      <td>16.790278</td>\n",
              "      <td>73.575556</td>\n",
              "      <td>Vankhed</td>\n",
              "      <td>2010</td>\n",
              "      <td>4201.70</td>\n",
              "      <td>4.286666667</td>\n",
              "      <td>Laterite</td>\n",
              "      <td>3</td>\n",
              "      <td>12</td>\n",
              "      <td>16831.66</td>\n",
              "    </tr>\n",
              "    <tr>\n",
              "      <th>842</th>\n",
              "      <td>MS</td>\n",
              "      <td>Ratnagiri</td>\n",
              "      <td>Khed</td>\n",
              "      <td>Khed</td>\n",
              "      <td>17.766667</td>\n",
              "      <td>73.416667</td>\n",
              "      <td>Kalvane</td>\n",
              "      <td>2010</td>\n",
              "      <td>4201.70</td>\n",
              "      <td>3.89</td>\n",
              "      <td>Laterite</td>\n",
              "      <td>3</td>\n",
              "      <td>616</td>\n",
              "      <td>17132.47</td>\n",
              "    </tr>\n",
              "    <tr>\n",
              "      <th>843</th>\n",
              "      <td>MS</td>\n",
              "      <td>Ratnagiri</td>\n",
              "      <td>Guhagar</td>\n",
              "      <td>Dapoli</td>\n",
              "      <td>17.590000</td>\n",
              "      <td>73.176944</td>\n",
              "      <td>Dabhol</td>\n",
              "      <td>2010</td>\n",
              "      <td>4201.70</td>\n",
              "      <td>4.696666667</td>\n",
              "      <td>Laterite</td>\n",
              "      <td>3</td>\n",
              "      <td>14</td>\n",
              "      <td>16833.89</td>\n",
              "    </tr>\n",
              "    <tr>\n",
              "      <th>844</th>\n",
              "      <td>MS</td>\n",
              "      <td>Ratnagiri</td>\n",
              "      <td>Guhagar</td>\n",
              "      <td>Dapoli</td>\n",
              "      <td>17.783889</td>\n",
              "      <td>73.238611</td>\n",
              "      <td>Karanjani</td>\n",
              "      <td>2010</td>\n",
              "      <td>4201.70</td>\n",
              "      <td>5.766666667</td>\n",
              "      <td>Laterite</td>\n",
              "      <td>3</td>\n",
              "      <td>14</td>\n",
              "      <td>16837.1</td>\n",
              "    </tr>\n",
              "    <tr>\n",
              "      <th>...</th>\n",
              "      <td>...</td>\n",
              "      <td>...</td>\n",
              "      <td>...</td>\n",
              "      <td>...</td>\n",
              "      <td>...</td>\n",
              "      <td>...</td>\n",
              "      <td>...</td>\n",
              "      <td>...</td>\n",
              "      <td>...</td>\n",
              "      <td>...</td>\n",
              "      <td>...</td>\n",
              "      <td>...</td>\n",
              "      <td>...</td>\n",
              "      <td>...</td>\n",
              "    </tr>\n",
              "    <tr>\n",
              "      <th>13587</th>\n",
              "      <td>MS</td>\n",
              "      <td>Ratnagiri</td>\n",
              "      <td>Nachane</td>\n",
              "      <td>Ratnagiri</td>\n",
              "      <td>16.912500</td>\n",
              "      <td>73.347222</td>\n",
              "      <td>Pomendi (Kh)</td>\n",
              "      <td>2000</td>\n",
              "      <td>4619.05</td>\n",
              "      <td>3.9675</td>\n",
              "      <td>Laterite</td>\n",
              "      <td>3</td>\n",
              "      <td>129</td>\n",
              "      <td>18558.6025</td>\n",
              "    </tr>\n",
              "    <tr>\n",
              "      <th>13588</th>\n",
              "      <td>MS</td>\n",
              "      <td>Ratnagiri</td>\n",
              "      <td>Rajapur</td>\n",
              "      <td>Rajapur</td>\n",
              "      <td>16.650000</td>\n",
              "      <td>73.516667</td>\n",
              "      <td>Rajapur</td>\n",
              "      <td>2000</td>\n",
              "      <td>4619.05</td>\n",
              "      <td>12.005</td>\n",
              "      <td>Laterite</td>\n",
              "      <td>3</td>\n",
              "      <td>34</td>\n",
              "      <td>18535.215</td>\n",
              "    </tr>\n",
              "    <tr>\n",
              "      <th>13589</th>\n",
              "      <td>MS</td>\n",
              "      <td>Ratnagiri</td>\n",
              "      <td>Rajapur</td>\n",
              "      <td>Rajapur</td>\n",
              "      <td>16.655833</td>\n",
              "      <td>73.430556</td>\n",
              "      <td>Solgaon</td>\n",
              "      <td>2000</td>\n",
              "      <td>4619.05</td>\n",
              "      <td>4.8675</td>\n",
              "      <td>Laterite</td>\n",
              "      <td>3</td>\n",
              "      <td>34</td>\n",
              "      <td>18513.8025</td>\n",
              "    </tr>\n",
              "    <tr>\n",
              "      <th>13590</th>\n",
              "      <td>MS</td>\n",
              "      <td>Ratnagiri</td>\n",
              "      <td>Rajapur</td>\n",
              "      <td>Rajapur</td>\n",
              "      <td>16.700000</td>\n",
              "      <td>73.700000</td>\n",
              "      <td>Raipatan</td>\n",
              "      <td>2000</td>\n",
              "      <td>4619.05</td>\n",
              "      <td>3.59</td>\n",
              "      <td>Laterite</td>\n",
              "      <td>3</td>\n",
              "      <td>34</td>\n",
              "      <td>18509.97</td>\n",
              "    </tr>\n",
              "    <tr>\n",
              "      <th>13591</th>\n",
              "      <td>MS</td>\n",
              "      <td>Ratnagiri</td>\n",
              "      <td>Guhagar</td>\n",
              "      <td>Dapoli</td>\n",
              "      <td>17.590000</td>\n",
              "      <td>73.176944</td>\n",
              "      <td>Dabhol</td>\n",
              "      <td>2000</td>\n",
              "      <td>4619.05</td>\n",
              "      <td>4.523333333</td>\n",
              "      <td>Laterite</td>\n",
              "      <td>3</td>\n",
              "      <td>14</td>\n",
              "      <td>18502.77</td>\n",
              "    </tr>\n",
              "  </tbody>\n",
              "</table>\n",
              "<p>524 rows × 14 columns</p>\n",
              "</div>"
            ],
            "text/plain": [
              "        x   DISTRICT TEH_NAME  ... Soil_Score  Elevation    Indexing\n",
              "840    MS  Ratnagiri  Guhagar  ...          3         14    16836.54\n",
              "841    MS  Ratnagiri   Kherdi  ...          3         12    16831.66\n",
              "842    MS  Ratnagiri     Khed  ...          3        616    17132.47\n",
              "843    MS  Ratnagiri  Guhagar  ...          3         14    16833.89\n",
              "844    MS  Ratnagiri  Guhagar  ...          3         14     16837.1\n",
              "...    ..        ...      ...  ...        ...        ...         ...\n",
              "13587  MS  Ratnagiri  Nachane  ...          3        129  18558.6025\n",
              "13588  MS  Ratnagiri  Rajapur  ...          3         34   18535.215\n",
              "13589  MS  Ratnagiri  Rajapur  ...          3         34  18513.8025\n",
              "13590  MS  Ratnagiri  Rajapur  ...          3         34    18509.97\n",
              "13591  MS  Ratnagiri  Guhagar  ...          3         14    18502.77\n",
              "\n",
              "[524 rows x 14 columns]"
            ]
          },
          "metadata": {
            "tags": []
          },
          "execution_count": 88
        }
      ]
    },
    {
      "cell_type": "code",
      "metadata": {
        "id": "Z9LZXFU3Xmwh",
        "colab_type": "code",
        "colab": {
          "base_uri": "https://localhost:8080/",
          "height": 282
        },
        "outputId": "1b86eb42-fe73-4f35-a030-531350a76983"
      },
      "source": [
        "x = (df_soil[(df_soil['DISTRICT'] == 'Ratnagiri') & (df_soil['YEAR_OBS']>=2000)]).groupby(['YEAR_OBS']).mean().loc[:,'RAINFALL']\n",
        "y = df_nrice[(df_nrice['District'] == 'Ratnagiri') & (df_nrice['Year'] <=2010)].groupby(['Year']).mean().loc[:,['Yield']]\n",
        "plt.scatter(x,y)"
      ],
      "execution_count": 113,
      "outputs": [
        {
          "output_type": "execute_result",
          "data": {
            "text/plain": [
              "<matplotlib.collections.PathCollection at 0x7f64c9e2ea20>"
            ]
          },
          "metadata": {
            "tags": []
          },
          "execution_count": 113
        },
        {
          "output_type": "display_data",
          "data": {
            "image/png": "[encoded data removed]",
            "text/plain": [
              "<Figure size 432x288 with 1 Axes>"
            ]
          },
          "metadata": {
            "tags": []
          }
        }
      ]
    },
    {
      "cell_type": "code",
      "metadata": {
        "id": "G5D3wiaMZiRF",
        "colab_type": "code",
        "colab": {
          "base_uri": "https://localhost:8080/",
          "height": 282
        },
        "outputId": "b7c508e4-1a97-4761-c300-65148e80cbf6"
      },
      "source": [
        "x = (df_soil[(df_soil['DISTRICT'] == 'Sindhudurg') & (df_soil['YEAR_OBS']>=2000)]).groupby(['YEAR_OBS']).mean().loc[:,'RAINFALL']\n",
        "y = df_nrice[(df_nrice['District'] == 'Sindhudurg') & (df_nrice['Year'] <=2010)].groupby(['Year']).mean().loc[:,['Yield']]\n",
        "plt.scatter(x,y)"
      ],
      "execution_count": 114,
      "outputs": [
        {
          "output_type": "execute_result",
          "data": {
            "text/plain": [
              "<matplotlib.collections.PathCollection at 0x7f64c9e01b00>"
            ]
          },
          "metadata": {
            "tags": []
          },
          "execution_count": 114
        },
        {
          "output_type": "display_data",
          "data": {
            "image/png": "[encoded data removed]",
            "text/plain": [
              "<Figure size 432x288 with 1 Axes>"
            ]
          },
          "metadata": {
            "tags": []
          }
        }
      ]
    },
    {
      "cell_type": "code",
      "metadata": {
        "id": "Ts-CUi1bZsb7",
        "colab_type": "code",
        "colab": {
          "base_uri": "https://localhost:8080/",
          "height": 282
        },
        "outputId": "855c5483-b0ba-4d04-f93a-a3d2802ae752"
      },
      "source": [
        "x = (df_soil[(df_soil['YEAR_OBS']>=2000)]).groupby(['DISTRICT','YEAR_OBS']).mean().loc[:,'RAINFALL']\n",
        "y = df_nrice[(df_nrice['Year'] <=2010)].groupby(['District','Year']).mean().loc[:,['Yield']]\n",
        "plt.scatter(x,y)"
      ],
      "execution_count": 115,
      "outputs": [
        {
          "output_type": "execute_result",
          "data": {
            "text/plain": [
              "<matplotlib.collections.PathCollection at 0x7f64c9ddaa20>"
            ]
          },
          "metadata": {
            "tags": []
          },
          "execution_count": 115
        },
        {
          "output_type": "display_data",
          "data": {
            "image/png": "[encoded data removed]",
            "text/plain": [
              "<Figure size 432x288 with 1 Axes>"
            ]
          },
          "metadata": {
            "tags": []
          }
        }
      ]
    },
    {
      "cell_type": "code",
      "metadata": {
        "id": "HLxClYoVaPGR",
        "colab_type": "code",
        "colab": {
          "base_uri": "https://localhost:8080/",
          "height": 34
        },
        "outputId": "712172f8-c268-4e5c-8bab-21bb24ccd9ce"
      },
      "source": [
        "df_soil[df_soil['YEAR_OBS'] >= 2000].shape, df_nrice[df_nrice['Year'] <= 2010].shape"
      ],
      "execution_count": 129,
      "outputs": [
        {
          "output_type": "execute_result",
          "data": {
            "text/plain": [
              "((13955, 14), (3938, 4))"
            ]
          },
          "metadata": {
            "tags": []
          },
          "execution_count": 129
        }
      ]
    },
    {
      "cell_type": "code",
      "metadata": {
        "id": "bpK7nq4agm7R",
        "colab_type": "code",
        "colab": {
          "base_uri": "https://localhost:8080/",
          "height": 230
        },
        "outputId": "9019419e-77d0-4b60-8b07-a8354199cb14"
      },
      "source": [
        "df_soil['SOIL_TYPE']"
      ],
      "execution_count": 132,
      "outputs": [
        {
          "output_type": "execute_result",
          "data": {
            "text/plain": [
              "0        Black\n",
              "1        Black\n",
              "2        Black\n",
              "3        Black\n",
              "4        Black\n",
              "         ...  \n",
              "19021    Black\n",
              "19022    Black\n",
              "19023    Black\n",
              "19024    Black\n",
              "19025    Black\n",
              "Name: SOIL_TYPE, Length: 19026, dtype: object"
            ]
          },
          "metadata": {
            "tags": []
          },
          "execution_count": 132
        }
      ]
    },
    {
      "cell_type": "code",
      "metadata": {
        "id": "v3hm6eh_Fd8t",
        "colab_type": "code",
        "colab": {
          "base_uri": "https://localhost:8080/",
          "height": 436
        },
        "outputId": "de74d4ce-7810-4343-b057-b8408954eb83"
      },
      "source": [
        "(df_soil.groupby(['DISTRICT', 'YEAR_OBS']).mean()).loc[:,['RAINFALL']]"
      ],
      "execution_count": 14,
      "outputs": [
        {
          "output_type": "execute_result",
          "data": {
            "text/html": [
              "<div>\n",
              "<style scoped>\n",
              "    .dataframe tbody tr th:only-of-type {\n",
              "        vertical-align: middle;\n",
              "    }\n",
              "\n",
              "    .dataframe tbody tr th {\n",
              "        vertical-align: top;\n",
              "    }\n",
              "\n",
              "    .dataframe thead th {\n",
              "        text-align: right;\n",
              "    }\n",
              "</style>\n",
              "<table border=\"1\" class=\"dataframe\">\n",
              "  <thead>\n",
              "    <tr style=\"text-align: right;\">\n",
              "      <th></th>\n",
              "      <th></th>\n",
              "      <th>RAINFALL</th>\n",
              "    </tr>\n",
              "    <tr>\n",
              "      <th>DISTRICT</th>\n",
              "      <th>YEAR_OBS</th>\n",
              "      <th></th>\n",
              "    </tr>\n",
              "  </thead>\n",
              "  <tbody>\n",
              "    <tr>\n",
              "      <th rowspan=\"5\" valign=\"top\">Ahmadnagar</th>\n",
              "      <th>1996</th>\n",
              "      <td>965.080</td>\n",
              "    </tr>\n",
              "    <tr>\n",
              "      <th>1997</th>\n",
              "      <td>953.641</td>\n",
              "    </tr>\n",
              "    <tr>\n",
              "      <th>1998</th>\n",
              "      <td>940.414</td>\n",
              "    </tr>\n",
              "    <tr>\n",
              "      <th>1999</th>\n",
              "      <td>825.431</td>\n",
              "    </tr>\n",
              "    <tr>\n",
              "      <th>2000</th>\n",
              "      <td>595.302</td>\n",
              "    </tr>\n",
              "    <tr>\n",
              "      <th>...</th>\n",
              "      <th>...</th>\n",
              "      <td>...</td>\n",
              "    </tr>\n",
              "    <tr>\n",
              "      <th rowspan=\"5\" valign=\"top\">Yavatmal</th>\n",
              "      <th>2006</th>\n",
              "      <td>1290.000</td>\n",
              "    </tr>\n",
              "    <tr>\n",
              "      <th>2007</th>\n",
              "      <td>796.100</td>\n",
              "    </tr>\n",
              "    <tr>\n",
              "      <th>2008</th>\n",
              "      <td>704.500</td>\n",
              "    </tr>\n",
              "    <tr>\n",
              "      <th>2009</th>\n",
              "      <td>570.000</td>\n",
              "    </tr>\n",
              "    <tr>\n",
              "      <th>2010</th>\n",
              "      <td>1201.700</td>\n",
              "    </tr>\n",
              "  </tbody>\n",
              "</table>\n",
              "<p>525 rows × 1 columns</p>\n",
              "</div>"
            ],
            "text/plain": [
              "                     RAINFALL\n",
              "DISTRICT   YEAR_OBS          \n",
              "Ahmadnagar 1996       965.080\n",
              "           1997       953.641\n",
              "           1998       940.414\n",
              "           1999       825.431\n",
              "           2000       595.302\n",
              "...                       ...\n",
              "Yavatmal   2006      1290.000\n",
              "           2007       796.100\n",
              "           2008       704.500\n",
              "           2009       570.000\n",
              "           2010      1201.700\n",
              "\n",
              "[525 rows x 1 columns]"
            ]
          },
          "metadata": {
            "tags": []
          },
          "execution_count": 14
        }
      ]
    },
    {
      "cell_type": "code",
      "metadata": {
        "id": "PiEbIimxk631",
        "colab_type": "code",
        "colab": {}
      },
      "source": [
        "df_soil = df_soil.replace('#DIV/0!', 0)\n",
        "df_soil['GRDWTR'] = df_soil['GRDWTR'].astype('float64')\n",
        "df_soil['Indexing'] = df_soil['Indexing'].astype('float64')"
      ],
      "execution_count": 0,
      "outputs": []
    },
    {
      "cell_type": "code",
      "metadata": {
        "id": "lWGR16TPejO2",
        "colab_type": "code",
        "colab": {
          "base_uri": "https://localhost:8080/",
          "height": 478
        },
        "outputId": "a7d2c03d-ee82-4185-ff7e-64efe2bacd73"
      },
      "source": [
        "x = df_soil.groupby(['DISTRICT','BLOCK_NAME','YEAR_OBS']).aggregate({'BLOCK_NAME':'max','DISTRICT':'max','YEAR_OBS':'max','RAINFALL':np.mean, 'GRDWTR':np.mean, 'Indexing':np.mean,'Soil_Score':'max','SOIL_TYPE':'max','Elevation':'max'})\n",
        "print(x.columns.values)\n",
        "# x = x.loc[(x['DISTRICT'] == 'Ratnagiri') & (x['YEAR_OBS']>=2000),:]\n",
        "y = df_nrice\n",
        "print(x.head(20))"
      ],
      "execution_count": 205,
      "outputs": [
        {
          "output_type": "stream",
          "text": [
            "['BLOCK_NAME' 'DISTRICT' 'YEAR_OBS' 'RAINFALL' 'GRDWTR' 'Indexing'\n",
            " 'Soil_Score' 'SOIL_TYPE' 'Elevation']\n",
            "                               BLOCK_NAME    DISTRICT  ...  SOIL_TYPE  Elevation\n",
            "DISTRICT   BLOCK_NAME YEAR_OBS                         ...                      \n",
            "Ahmadnagar Akola      1996          Akola  Ahmadnagar  ...      Black        649\n",
            "                      1997          Akola  Ahmadnagar  ...      Black        649\n",
            "                      1998          Akola  Ahmadnagar  ...      Black        649\n",
            "                      1999          Akola  Ahmadnagar  ...      Black        649\n",
            "                      2000          Akola  Ahmadnagar  ...      Black        649\n",
            "                      2001          Akola  Ahmadnagar  ...      Black        649\n",
            "                      2002          Akola  Ahmadnagar  ...      Black        649\n",
            "                      2003          Akola  Ahmadnagar  ...      Black        649\n",
            "                      2004          Akola  Ahmadnagar  ...      Black        649\n",
            "                      2005          Akola  Ahmadnagar  ...      Black        649\n",
            "                      2006          Akola  Ahmadnagar  ...      Black        649\n",
            "                      2007          Akola  Ahmadnagar  ...      Black        649\n",
            "                      2008          Akola  Ahmadnagar  ...      Black        649\n",
            "                      2009          Akola  Ahmadnagar  ...      Black        649\n",
            "                      2010          Akola  Ahmadnagar  ...      Black        649\n",
            "           Jamkhed    1996        Jamkhed  Ahmadnagar  ...      Black        650\n",
            "                      1997        Jamkhed  Ahmadnagar  ...      Black        650\n",
            "                      1998        Jamkhed  Ahmadnagar  ...      Black        650\n",
            "                      1999        Jamkhed  Ahmadnagar  ...      Black        650\n",
            "                      2000        Jamkhed  Ahmadnagar  ...      Black        650\n",
            "\n",
            "[20 rows x 9 columns]\n"
          ],
          "name": "stdout"
        }
      ]
    },
    {
      "cell_type": "code",
      "metadata": {
        "id": "0-kzAc_SmBZG",
        "colab_type": "code",
        "colab": {
          "base_uri": "https://localhost:8080/",
          "height": 90
        },
        "outputId": "8f2dc295-919e-406a-d2ef-2cd97f29e0d6"
      },
      "source": [
        "distsoil = list(set(df_soil['DISTRICT']))\n",
        "districe = list(set(df_nrice['District']))\n",
        "matched = []\n",
        "for k in districe:\n",
        "  if k in distsoil:\n",
        "    matched.append(k)\n",
        "print(matched)\n",
        "print(len(matched), len(districe))\n",
        "unmatched = [r for r in districe if r not in matched]\n",
        "print(unmatched)"
      ],
      "execution_count": 206,
      "outputs": [
        {
          "output_type": "stream",
          "text": [
            "['Pune', 'Nashik', 'Dhule', 'Amravati', 'Chandrapur', 'Satara', 'Latur', 'Bhandara', 'Nagpur', 'Yavatmal', 'Osmanabad', 'Wardha', 'Ahmadnagar', 'Jalna', 'Thane', 'Solapur', 'Ratnagiri', 'Aurangabad', 'Nandurbar', 'Washim', 'Akola', 'Kolhapur', 'Hingoli', 'Parbhani', 'Jalgaon', 'Nanded', 'Sindhudurg']\n",
            "27 35\n",
            "['Beed', 'Gadchiroli', 'Gondia', 'Sangali', 'Raigad', 'Gr.Bombay', 'Buldhana', 'Palghar']\n"
          ],
          "name": "stdout"
        }
      ]
    },
    {
      "cell_type": "code",
      "metadata": {
        "id": "7qxwopVUoHwC",
        "colab_type": "code",
        "colab": {
          "base_uri": "https://localhost:8080/",
          "height": 34
        },
        "outputId": "6fab5a51-1208-43f8-d5c8-43efef89d5f1"
      },
      "source": [
        "df_nnrice = df_nrice[(df_nrice['District'].isin(matched)) & (df_nrice['Year'] <= 2010)]\n",
        "df_nnrice.columns.values"
      ],
      "execution_count": 207,
      "outputs": [
        {
          "output_type": "execute_result",
          "data": {
            "text/plain": [
              "array(['District', 'Block_name', 'Year', 'Yield'], dtype=object)"
            ]
          },
          "metadata": {
            "tags": []
          },
          "execution_count": 207
        }
      ]
    },
    {
      "cell_type": "code",
      "metadata": {
        "id": "sTRm60o_pJYG",
        "colab_type": "code",
        "colab": {
          "base_uri": "https://localhost:8080/",
          "height": 52
        },
        "outputId": "cdd01b61-ca76-432a-917d-8393332ba161"
      },
      "source": [
        "x = x[x['YEAR_OBS']>=2000]\n",
        "x = x.rename(columns = {\"YEAR_OBS\": \"Year\", \"BLOCK_NAME\":\"Block_name\", \"DISTRICT\":\"District\"})\n",
        "x.columns.values"
      ],
      "execution_count": 208,
      "outputs": [
        {
          "output_type": "execute_result",
          "data": {
            "text/plain": [
              "array(['Block_name', 'District', 'Year', 'RAINFALL', 'GRDWTR', 'Indexing',\n",
              "       'Soil_Score', 'SOIL_TYPE', 'Elevation'], dtype=object)"
            ]
          },
          "metadata": {
            "tags": []
          },
          "execution_count": 208
        }
      ]
    },
    {
      "cell_type": "code",
      "metadata": {
        "id": "q3BhCILlrBDW",
        "colab_type": "code",
        "colab": {
          "base_uri": "https://localhost:8080/",
          "height": 265
        },
        "outputId": "e737acb5-bbf4-497c-ae9c-283348fc4567"
      },
      "source": [
        "merged = pd.merge(x, df_nnrice, on = [\"Year\", \"Block_name\", \"District\"])\n",
        "print(merged)"
      ],
      "execution_count": 239,
      "outputs": [
        {
          "output_type": "stream",
          "text": [
            "     Block_name    District  Year  ...  SOIL_TYPE  Elevation    Yield\n",
            "0         Akola  Ahmadnagar  2000  ...      Black        649   599.00\n",
            "1         Akola  Ahmadnagar  2001  ...      Black        649   500.00\n",
            "2         Akola  Ahmadnagar  2002  ...      Black        649   224.30\n",
            "3         Akola  Ahmadnagar  2003  ...      Black        649   947.10\n",
            "4         Akola  Ahmadnagar  2004  ...      Black        649   836.00\n",
            "...         ...         ...   ...  ...        ...        ...      ...\n",
            "2142   Yavatmal    Yavatmal  2006  ...      Black        457   431.00\n",
            "2143   Yavatmal    Yavatmal  2007  ...      Black        457   831.00\n",
            "2144   Yavatmal    Yavatmal  2008  ...      Black        457  1203.75\n",
            "2145   Yavatmal    Yavatmal  2009  ...      Black        457  1203.75\n",
            "2146   Yavatmal    Yavatmal  2010  ...      Black        457  1203.75\n",
            "\n",
            "[2147 rows x 10 columns]\n"
          ],
          "name": "stdout"
        }
      ]
    },
    {
      "cell_type": "code",
      "metadata": {
        "id": "7Pj-Gg2ssO6X",
        "colab_type": "code",
        "colab": {
          "base_uri": "https://localhost:8080/",
          "height": 284
        },
        "outputId": "8b847113-6e9b-4a4f-c872-551bb72fe31c"
      },
      "source": [
        "%matplotlib inline\n",
        "drawBoxPlot('Yield', 'SOIL_TYPE', merged)"
      ],
      "execution_count": 244,
      "outputs": [
        {
          "output_type": "display_data",
          "data": {
            "image/png": "[encoded data removed]",
            "text/plain": [
              "<Figure size 432x288 with 1 Axes>"
            ]
          },
          "metadata": {
            "tags": []
          }
        }
      ]
    },
    {
      "cell_type": "code",
      "metadata": {
        "id": "yUD9LaATtiWc",
        "colab_type": "code",
        "colab": {
          "base_uri": "https://localhost:8080/",
          "height": 281
        },
        "outputId": "b6d191e3-356f-48fc-d0b9-b53ab48ba1d4"
      },
      "source": [
        "drawBoxPlot('Yield', 'Soil_Score', merged)"
      ],
      "execution_count": 214,
      "outputs": [
        {
          "output_type": "display_data",
          "data": {
            "image/png": "[encoded data removed]",
            "text/plain": [
              "<Figure size 432x288 with 1 Axes>"
            ]
          },
          "metadata": {
            "tags": []
          }
        }
      ]
    },
    {
      "cell_type": "markdown",
      "metadata": {
        "id": "NQnga5YDtCf4",
        "colab_type": "text"
      },
      "source": [
        "The dots in the plots above are indicative of outliers"
      ]
    },
    {
      "cell_type": "code",
      "metadata": {
        "id": "eYvvtpCwtp-B",
        "colab_type": "code",
        "colab": {
          "base_uri": "https://localhost:8080/",
          "height": 744
        },
        "outputId": "518999ed-cf9c-4b48-9c7c-7144974f9cdb"
      },
      "source": [
        "columns = ['RAINFALL', 'SOIL_TYPE', 'Soil_Score', 'Elevation', 'Yield']\n",
        "sns.pairplot(merged[columns])"
      ],
      "execution_count": 217,
      "outputs": [
        {
          "output_type": "execute_result",
          "data": {
            "text/plain": [
              "<seaborn.axisgrid.PairGrid at 0x7f64cd0703c8>"
            ]
          },
          "metadata": {
            "tags": []
          },
          "execution_count": 217
        },
        {
          "output_type": "display_data",
          "data": {
            "image/png": "[encoded data removed]",
            "text/plain": [
              "<Figure size 720x720 with 20 Axes>"
            ]
          },
          "metadata": {
            "tags": []
          }
        }
      ]
    },
    {
      "cell_type": "code",
      "metadata": {
        "id": "JptSp4opuLRt",
        "colab_type": "code",
        "colab": {
          "base_uri": "https://localhost:8080/",
          "height": 592
        },
        "outputId": "069d938c-519f-4c24-db9f-3b326f835f41"
      },
      "source": [
        "%matplotlib inline\n",
        "sns.set(font_scale = 1)\n",
        "cmap_, ax = plt.subplots(figsize = (10,10))\n",
        "corr = merged[columns].corr(method = 'pearson')\n",
        "# cmap = sns.diverging_palette(220, 10, as_cmap = True)\n",
        "sns.heatmap(corr, cmap = cmap, square = True, \n",
        "            ax=ax, annot=True,\n",
        "           annot_kws = {'fontsize': 10})"
      ],
      "execution_count": 229,
      "outputs": [
        {
          "output_type": "execute_result",
          "data": {
            "text/plain": [
              "<matplotlib.axes._subplots.AxesSubplot at 0x7f64c8152278>"
            ]
          },
          "metadata": {
            "tags": []
          },
          "execution_count": 229
        },
        {
          "output_type": "display_data",
          "data": {
            "image/png": "[encoded data removed]",
            "text/plain": [
              "<Figure size 720x720 with 2 Axes>"
            ]
          },
          "metadata": {
            "tags": []
          }
        }
      ]
    },
    {
      "cell_type": "code",
      "metadata": {
        "id": "VeS8-LSMvhTu",
        "colab_type": "code",
        "colab": {
          "base_uri": "https://localhost:8080/",
          "height": 1000
        },
        "outputId": "4bdb3122-0370-4c75-a674-4768b0c3560d"
      },
      "source": [
        "from sklearn.model_selection import train_test_split\n",
        "from sklearn.ensemble import RandomForestRegressor\n",
        "from sklearn.preprocessing import MinMaxScaler, LabelEncoder\n",
        "mm = MinMaxScaler()\n",
        "le = LabelEncoder()\n",
        "merged['SOIL_TYPE'] = le.fit_transform(merged['SOIL_TYPE'])\n",
        "# merged[[k for k in columns if k != 'SOIL_TYPE']] = mm.fit(merged[[k for k in columns if k != 'SOIL_TYPE']])\n",
        "X_train, X_test, y_train, y_test =train_test_split(merged[columns[:-1]], merged['Yield'], test_size = 0.2)\n",
        "rf = RandomForestRegressor(max_depth = 10, n_estimators = 100, random_state= False, verbose=4)\n",
        "rf.fit(X_train, y_train)"
      ],
      "execution_count": 242,
      "outputs": [
        {
          "output_type": "stream",
          "text": [
            "[Parallel(n_jobs=1)]: Using backend SequentialBackend with 1 concurrent workers.\n",
            "[Parallel(n_jobs=1)]: Done   1 out of   1 | elapsed:    0.0s remaining:    0.0s\n",
            "[Parallel(n_jobs=1)]: Done   2 out of   2 | elapsed:    0.0s remaining:    0.0s\n",
            "[Parallel(n_jobs=1)]: Done   3 out of   3 | elapsed:    0.0s remaining:    0.0s\n"
          ],
          "name": "stderr"
        },
        {
          "output_type": "stream",
          "text": [
            "building tree 1 of 100\n",
            "building tree 2 of 100\n",
            "building tree 3 of 100\n",
            "building tree 4 of 100\n",
            "building tree 5 of 100\n",
            "building tree 6 of 100\n",
            "building tree 7 of 100\n",
            "building tree 8 of 100\n",
            "building tree 9 of 100\n",
            "building tree 10 of 100\n",
            "building tree 11 of 100\n",
            "building tree 12 of 100\n",
            "building tree 13 of 100\n",
            "building tree 14 of 100\n",
            "building tree 15 of 100\n",
            "building tree 16 of 100\n",
            "building tree 17 of 100\n",
            "building tree 18 of 100\n",
            "building tree 19 of 100\n",
            "building tree 20 of 100\n",
            "building tree 21 of 100\n",
            "building tree 22 of 100\n",
            "building tree 23 of 100\n",
            "building tree 24 of 100\n",
            "building tree 25 of 100\n",
            "building tree 26 of 100\n",
            "building tree 27 of 100\n",
            "building tree 28 of 100\n",
            "building tree 29 of 100\n",
            "building tree 30 of 100\n",
            "building tree 31 of 100\n",
            "building tree 32 of 100\n",
            "building tree 33 of 100\n",
            "building tree 34 of 100\n",
            "building tree 35 of 100\n",
            "building tree 36 of 100\n",
            "building tree 37 of 100\n",
            "building tree 38 of 100\n",
            "building tree 39 of 100\n",
            "building tree 40 of 100\n",
            "building tree 41 of 100\n",
            "building tree 42 of 100\n",
            "building tree 43 of 100\n",
            "building tree 44 of 100\n",
            "building tree 45 of 100\n",
            "building tree 46 of 100\n",
            "building tree 47 of 100\n",
            "building tree 48 of 100\n",
            "building tree 49 of 100\n",
            "building tree 50 of 100\n",
            "building tree 51 of 100\n",
            "building tree 52 of 100\n",
            "building tree 53 of 100\n",
            "building tree 54 of 100\n",
            "building tree 55 of 100\n",
            "building tree 56 of 100\n",
            "building tree 57 of 100\n",
            "building tree 58 of 100\n",
            "building tree 59 of 100\n",
            "building tree 60 of 100\n",
            "building tree 61 of 100\n",
            "building tree 62 of 100\n",
            "building tree 63 of 100\n",
            "building tree 64 of 100\n",
            "building tree 65 of 100\n",
            "building tree 66 of 100\n",
            "building tree 67 of 100\n",
            "building tree 68 of 100\n",
            "building tree 69 of 100\n",
            "building tree 70 of 100\n",
            "building tree 71 of 100\n",
            "building tree 72 of 100\n",
            "building tree 73 of 100\n",
            "building tree 74 of 100\n",
            "building tree 75 of 100\n",
            "building tree 76 of 100\n",
            "building tree 77 of 100\n",
            "building tree 78 of 100\n",
            "building tree 79 of 100\n",
            "building tree 80 of 100\n",
            "building tree 81 of 100\n",
            "building tree 82 of 100\n",
            "building tree 83 of 100\n",
            "building tree 84 of 100\n",
            "building tree 85 of 100\n",
            "building tree 86 of 100\n",
            "building tree 87 of 100\n",
            "building tree 88 of 100\n",
            "building tree 89 of 100\n",
            "building tree 90 of 100\n",
            "building tree 91 of 100\n",
            "building tree 92 of 100\n",
            "building tree 93 of 100\n",
            "building tree 94 of 100\n",
            "building tree 95 of 100\n",
            "building tree 96 of 100\n",
            "building tree 97 of 100\n",
            "building tree 98 of 100\n",
            "building tree 99 of 100\n",
            "building tree 100 of 100\n"
          ],
          "name": "stdout"
        },
        {
          "output_type": "stream",
          "text": [
            "[Parallel(n_jobs=1)]: Done 100 out of 100 | elapsed:    0.3s finished\n"
          ],
          "name": "stderr"
        },
        {
          "output_type": "execute_result",
          "data": {
            "text/plain": [
              "RandomForestRegressor(bootstrap=True, criterion='mse', max_depth=10,\n",
              "                      max_features='auto', max_leaf_nodes=None,\n",
              "                      min_impurity_decrease=0.0, min_impurity_split=None,\n",
              "                      min_samples_leaf=1, min_samples_split=2,\n",
              "                      min_weight_fraction_leaf=0.0, n_estimators=100,\n",
              "                      n_jobs=None, oob_score=False, random_state=False,\n",
              "                      verbose=4, warm_start=False)"
            ]
          },
          "metadata": {
            "tags": []
          },
          "execution_count": 242
        }
      ]
    },
    {
      "cell_type": "code",
      "metadata": {
        "id": "ks0DJUfjxXX1",
        "colab_type": "code",
        "colab": {
          "base_uri": "https://localhost:8080/",
          "height": 141
        },
        "outputId": "8d620bef-77ae-4511-f18b-cd6b809b5e60"
      },
      "source": [
        "from sklearn import metrics\n",
        "y_pred = rf.predict(X_test)\n",
        "print(metrics.mean_squared_error(y_test, y_pred))\n",
        "print(np.sqrt(metrics.mean_squared_error(y_test, y_pred)))"
      ],
      "execution_count": 243,
      "outputs": [
        {
          "output_type": "stream",
          "text": [
            "186523.4523391695\n",
            "431.8836097135078\n"
          ],
          "name": "stdout"
        },
        {
          "output_type": "stream",
          "text": [
            "[Parallel(n_jobs=1)]: Using backend SequentialBackend with 1 concurrent workers.\n",
            "[Parallel(n_jobs=1)]: Done   1 out of   1 | elapsed:    0.0s remaining:    0.0s\n",
            "[Parallel(n_jobs=1)]: Done   2 out of   2 | elapsed:    0.0s remaining:    0.0s\n",
            "[Parallel(n_jobs=1)]: Done   3 out of   3 | elapsed:    0.0s remaining:    0.0s\n",
            "[Parallel(n_jobs=1)]: Done 100 out of 100 | elapsed:    0.0s finished\n"
          ],
          "name": "stderr"
        }
      ]
    }
  ]
}