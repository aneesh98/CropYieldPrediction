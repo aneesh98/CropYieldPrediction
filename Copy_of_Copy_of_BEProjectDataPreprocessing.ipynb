{
  "nbformat": 4,
  "nbformat_minor": 0,
  "metadata": {
    "colab": {
      "name": "Copy of Copy of BEProjectDataPreprocessing.ipynb",
      "provenance": [],
      "collapsed_sections": [],
      "include_colab_link": true
    },
    "kernelspec": {
      "name": "python3",
      "display_name": "Python 3"
    },
    "accelerator": "GPU"
  },
  "cells": [
    {
      "cell_type": "markdown",
      "metadata": {
        "id": "view-in-github",
        "colab_type": "text"
      },
      "source": [
        "<a href=\"https://colab.research.google.com/github/aneesh98/CropYieldPrediction/blob/master/Copy_of_Copy_of_BEProjectDataPreprocessing.ipynb\" target=\"_parent\"><img src=\"https://colab.research.google.com/assets/colab-badge.svg\" alt=\"Open In Colab\"/></a>"
      ]
    },
    {
      "cell_type": "code",
      "metadata": {
        "id": "apapxdGNumQn",
        "colab_type": "code",
        "colab": {}
      },
      "source": [
        "'''\n",
        "  A class to extract and load the Final.xlsx along with climate or soil data.\n",
        "  The current code only works with soil\n",
        "  Class information:\n",
        "      1) Mapper : It may happen that some values having same meaning might mismatch in two dataframes. \n",
        "                  For Eg. Ahmadnagar is written as \"A.Nagar\" in final.xlsx and \"Ahmadnagar\" is soil\n",
        "                  Mapper is dictionary, whose keys are the column names in final.xslx and value is the one in Soil.\n",
        "\n",
        "      2) set_dataframe(dataframe, name): A function used to set the current dataframe csv which consists of our variable to be predicted.\n",
        "                                         For eg: If I want to load Jowar.csv file, create a dataframe object of it by using pd.read_csv(...)\n",
        "                                                 and pass the object in the dataframe parameter, also pass the name of the Crop you are loading\n",
        "                                                 say Jowar as name argument.\n",
        "      3) extract_values(dataframe): A function you don't need to care about.\n",
        "      4) create_dataset(): This is the function you will be directly using, it performs NATURAL JOIN on two datasets, in our case one will be csv with crop data,\n",
        "      and other with either Soil or Climate (nothing has been written for climate)\n",
        "      5) append_column(): By using the above create_dataset() function if you create the dataset for one crop say Rice, and now to this same dataset you\n",
        "                          want to join the values of Jowar, then you can do so by using append_column function\n",
        "                    \n",
        "'''\n",
        "from sklearn.impute import SimpleImputer\n",
        "class Extract_and_Load:\n",
        "  def __init__(self, mapper = None):\n",
        "    \n",
        "    self.mapper = mapper\n",
        "    if mapper is not None:\n",
        "      self.stale_names = mapper.keys()\n",
        "    \n",
        "  def set_dataframe(self, dataframe, name):\n",
        "    self.df = dataframe\n",
        "    self.total_rows = self.df.shape[0]\n",
        "    self.name = name\n",
        "\n",
        "  def set_years(self, years):\n",
        "    self.years = years\n",
        "\n",
        "  def extract_values(self, dataframe):\n",
        "    cyear = []\n",
        "    District = []\n",
        "    Block_name = []\n",
        "    Yield = []\n",
        "    for year in self.years:\n",
        "      for row in range(1, self.total_rows):\n",
        "        if self.df.iloc[row,0][0] == \"R\":\n",
        "          curr_district = self.df.iloc[row,1]\n",
        "          if curr_district in self.stale_names:\n",
        "            curr_district = self.mapper[curr_district]\n",
        "          continue\n",
        "        else:\n",
        "          cyear.append(int(year[0]))\n",
        "          District.append(curr_district)\n",
        "          if self.df.iloc[row, 1] in self.stale_names:\n",
        "              Block_name.append(self.mapper[self.df.iloc[row, 1]])\n",
        "          else:\n",
        "              Block_name.append(self.df.iloc[row, 1])\n",
        "          Yield.append(float(self.df.iloc[row, year[1]]))\n",
        "    return cyear, District, Block_name, Yield\n",
        "  \n",
        "  def restructure_dataframe(self):\n",
        "    cyear, District, Block_name, Yield = self.extract_values(self.df)\n",
        "    self.col_name = self.name + '_Yield'\n",
        "    new_df = {'District':District, 'Block_name':Block_name, 'Year':cyear, self.col_name:Yield}\n",
        "    new_df[self.col_name] = [float(j) for j in new_df[self.col_name]]\n",
        "    self.df_restructured = pd.DataFrame(new_df) \n",
        "  \n",
        "  def create_dataset(self, merge_with, restructure_needed = True):\n",
        "    self.merge_with = merge_with\n",
        "    if restructure_needed:\n",
        "      self.restructure_dataframe()\n",
        "    x = merge_with.groupby(['DISTRICT','BLOCK_NAME','YEAR_OBS']).aggregate({'BLOCK_NAME':'max','DISTRICT':'max','YEAR_OBS':'max','RAINFALL':np.mean, 'GRDWTR':np.mean, 'Indexing':np.mean,'Soil_Score':'max','SOIL_TYPE':'max','Elevation':'max'})\n",
        "    x = x[x['YEAR_OBS']>=2000]\n",
        "    x = x.rename(columns = {\"YEAR_OBS\": \"Year\", \"BLOCK_NAME\":\"Block_name\", \"DISTRICT\":\"District\"})\n",
        "    self.merged = pd.merge(x, self.df_restructured, on = [\"Year\", \"Block_name\", \"District\"])\n",
        "    return self.merged\n",
        "\n",
        "  def create_climate_dataset(self, merge_with, restructure_needed = True):\n",
        "    self.merge_with = merge_with\n",
        "    if restructure_needed:\n",
        "      self.restructure_dataframe()\n",
        "    imp = SimpleImputer(fill_value = 0)\n",
        "    self.df_restructured_copy = self.df_restructured.copy()\n",
        "    self.df_restructured_copy['Rice_Yield'] = imp.fit_transform(np.array(self.df_restructured_copy['Rice_Yield']).reshape(-1,1))\n",
        "    self.df_restructured_copy['District'] = self.df_restructured_copy['District'].str.lower()\n",
        "    self.merge_with['station'] = self.merge_with['station'].str.lower()\n",
        "    self.merge_with = self.merge_with.rename(columns = {\"station\":\"District\", \"year\":\"Year\"})\n",
        "    self.df_restructured_copy.drop(columns = [\"Block_name\"], inplace = True)\n",
        "    self.df_restructured_copy = self.df_restructured_copy.groupby([\"District\", \"Year\"], as_index = False).aggregate({ self.col_name:np.mean})\n",
        "    self.merged = pd.merge(self.merge_with, self.df_restructured_copy, on = [\"Year\", \"District\"])\n",
        "    return self.merged\n",
        "\n",
        "\n",
        "  def append_column(self):\n",
        "    self.restructure_dataframe()\n",
        "    self.merged = pd.merge(self.merged, self.df_restructured, on = [\"Year\", \"Block_name\", \"District\"])\n",
        "    return self.merged\n",
        "\n",
        "  def unmatched_columns(self):\n",
        "    pass"
      ],
      "execution_count": 0,
      "outputs": []
    },
    {
      "cell_type": "code",
      "metadata": {
        "id": "RaZUuwa-I5HZ",
        "colab_type": "code",
        "outputId": "994e30fd-99f5-4826-9432-24bc93d0904c",
        "colab": {
          "base_uri": "https://localhost:8080/",
          "height": 390
        }
      },
      "source": [
        "# /content/Climate - climate_final.csv\n",
        "import numpy as np\n",
        "import pandas as pd\n",
        "climate = pd.read_csv('Climate - climate_final.csv',delimiter=',')\n",
        "uc=climate.groupby(['station', 'year']).aggregate({\"rainfall\":np.mean, \"relative_humidity\":np.mean, \"average_temperature\":np.mean})\n",
        "# uc=climate.groupby(['station', 'year']).mean()\n",
        "print(uc)\n",
        "uc.to_csv(r'update_climate.csv')\n",
        "updated_climate = pd.read_csv('update_climate.csv')\n",
        "print(updated_climate.isnull().any())"
      ],
      "execution_count": 10,
      "outputs": [
        {
          "output_type": "stream",
          "text": [
            "                 rainfall  relative_humidity  average_temperature\n",
            "station    year                                                  \n",
            "AHMADNAGAR 2000   185.600          51.610563            24.997402\n",
            "           2001   175.600          54.830765            25.286941\n",
            "           2002   148.700          50.800058            25.760659\n",
            "           2003   135.400          52.977195            25.745404\n",
            "           2004   209.500          56.550368            25.423666\n",
            "...                   ...                ...                  ...\n",
            "YAVATMAL   2014   196.600          54.791829            26.785184\n",
            "           2015   242.975          54.609441            27.208883\n",
            "           2016   294.625          54.214109            27.437564\n",
            "           2017   195.400          50.718449            27.369968\n",
            "           2018   250.925          53.252706            27.131308\n",
            "\n",
            "[665 rows x 3 columns]\n",
            "station                False\n",
            "year                   False\n",
            "rainfall               False\n",
            "relative_humidity      False\n",
            "average_temperature    False\n",
            "dtype: bool\n"
          ],
          "name": "stdout"
        }
      ]
    },
    {
      "cell_type": "code",
      "metadata": {
        "id": "yN7giaruED2Y",
        "colab_type": "code",
        "colab": {}
      },
      "source": [
        ""
      ],
      "execution_count": 0,
      "outputs": []
    },
    {
      "cell_type": "code",
      "metadata": {
        "id": "Sp1ldLPdKUuo",
        "colab_type": "code",
        "outputId": "664fafb5-7f89-407a-d22e-67df7b709ad8",
        "colab": {
          "base_uri": "https://localhost:8080/",
          "height": 178
        }
      },
      "source": [
        "!pip install statsmodels\n"
      ],
      "execution_count": 0,
      "outputs": [
        {
          "output_type": "stream",
          "text": [
            "Requirement already satisfied: statsmodels in /usr/local/lib/python3.6/dist-packages (0.10.2)\n",
            "Requirement already satisfied: patsy>=0.4.0 in /usr/local/lib/python3.6/dist-packages (from statsmodels) (0.5.1)\n",
            "Requirement already satisfied: scipy>=0.18 in /usr/local/lib/python3.6/dist-packages (from statsmodels) (1.4.1)\n",
            "Requirement already satisfied: pandas>=0.19 in /usr/local/lib/python3.6/dist-packages (from statsmodels) (0.25.3)\n",
            "Requirement already satisfied: numpy>=1.11 in /usr/local/lib/python3.6/dist-packages (from statsmodels) (1.17.5)\n",
            "Requirement already satisfied: six in /usr/local/lib/python3.6/dist-packages (from patsy>=0.4.0->statsmodels) (1.12.0)\n",
            "Requirement already satisfied: python-dateutil>=2.6.1 in /usr/local/lib/python3.6/dist-packages (from pandas>=0.19->statsmodels) (2.6.1)\n",
            "Requirement already satisfied: pytz>=2017.2 in /usr/local/lib/python3.6/dist-packages (from pandas>=0.19->statsmodels) (2018.9)\n"
          ],
          "name": "stdout"
        }
      ]
    },
    {
      "cell_type": "code",
      "metadata": {
        "id": "9wV9yRm2_O0c",
        "colab_type": "code",
        "colab": {}
      },
      "source": [
        "import pandas as pd\n",
        "import numpy as np\n",
        "import tensorflow as tf\n",
        "import matplotlib.pyplot as plt\n",
        "df_rice = pd.read_csv('Rice.csv')\n",
        "df_soil = pd.read_csv('Soil.csv')\n",
        "c1 = df_rice.columns.values[0]\n",
        "column_names = ['District', 'Block_name', 'Year', 'Yield']\n",
        "\n",
        "# total_rows = df_rice.shape[0]\n",
        "mapper = {}\n",
        "# Creating a Mapper Dictionary to incorporate the value mismatch as explained above\n",
        "mapper['A.Nagar'] = \"Ahmadnagar\"\n",
        "years = []\n",
        "eal = Extract_and_Load(mapper)\n",
        "eal.set_dataframe(df_rice, \"Rice\")\n",
        "k = 2\n",
        "# You don't need to pay attention to this for loop. \n",
        "for i in range(2000, 2017):\n",
        "  years.append([i, k])\n",
        "  k += 1\n",
        "# cyear = []\n",
        "# District = []\n",
        "# Block_name = []\n",
        "# Yield = []\n",
        "# df_rice.iloc[1:,0]\n",
        "# curr_district = \"\""
      ],
      "execution_count": 0,
      "outputs": []
    },
    {
      "cell_type": "code",
      "metadata": {
        "id": "PiEbIimxk631",
        "colab_type": "code",
        "colab": {}
      },
      "source": [
        "########### IMPORTANT: ONLY MOVE FORWARD AFTER YOU EXECUTE THIS CELL ###########\n",
        "df_soil = df_soil.replace('#DIV/0!', 0) # Replace missing values \n",
        "df_soil['GRDWTR'] = df_soil['GRDWTR'].astype('float64') #Typecast to float\n",
        "df_soil['Indexing'] = df_soil['Indexing'].astype('float64')"
      ],
      "execution_count": 0,
      "outputs": []
    },
    {
      "cell_type": "code",
      "metadata": {
        "id": "tyPJL_hDa-vW",
        "colab_type": "code",
        "colab": {}
      },
      "source": [
        "eal.set_years(years) \n",
        "eal.set_dataframe(df_rice, \"Rice\")\n",
        "merged = eal.create_climate_dataset(updated_climate, True)"
      ],
      "execution_count": 0,
      "outputs": []
    },
    {
      "cell_type": "code",
      "metadata": {
        "id": "841jlrYJbjE9",
        "colab_type": "code",
        "colab": {
          "base_uri": "https://localhost:8080/",
          "height": 1000
        },
        "outputId": "fc371a8c-25e5-416a-fa01-0fdb1d271ff8"
      },
      "source": [
        "from sklearn.preprocessing import StandardScaler\n",
        "from keras.models import Sequential\n",
        "from keras import layers\n",
        "from keras.optimizers import RMSprop\n",
        "numeric_cols = [\"rainfall\", \"relative_humidity\", \"average_temperature\"]\n",
        "sc = StandardScaler()\n",
        "merged[numeric_cols] = sc.fit_transform(merged[numeric_cols])\n",
        "model = Sequential()\n",
        "model.add(layers.SimpleRNN(36, activation = \"relu\", input_shape = (1, 3)))\n",
        "# model.add(layers.Dense(2, activation = 'relu'))\n",
        "model.add(layers.Dense(1))\n",
        "x_ = merged.loc[merged[\"District\"]==\"ahmadnagar\", [\"Year\",\"rainfall\", \"relative_humidity\", \"average_temperature\", \"Rice_Yield\"]]\n",
        "\n",
        "x = x_.copy()\n",
        "\n",
        "y = x.loc[merged[\"District\"]==\"ahmadnagar\", \"Rice_Yield\"]\n",
        "y = [np.log(i) for i in y]\n",
        "x.drop(columns = [\"Year\",\"Rice_Yield\"], inplace = True)\n",
        "model.compile(optimizer='adam', loss='mean_squared_logarithmic_error')\n",
        "x_arr = np.array(x)\n",
        "x_arr = x_arr.reshape((17, 1, 3))\n",
        "print(x_arr.shape)\n",
        "model.fit(x_arr, np.array(y), epochs = 800, validation_split = 0.1)"
      ],
      "execution_count": 193,
      "outputs": [
        {
          "output_type": "stream",
          "text": [
            "(17, 1, 3)\n",
            "Train on 15 samples, validate on 2 samples\n",
            "Epoch 1/800\n",
            "15/15 [==============================] - 3s 195ms/step - loss: 3.5466 - val_loss: 3.7098\n",
            "Epoch 2/800\n",
            "15/15 [==============================] - 0s 830us/step - loss: 3.4935 - val_loss: 3.6577\n",
            "Epoch 3/800\n",
            "15/15 [==============================] - 0s 541us/step - loss: 3.4417 - val_loss: 3.6066\n",
            "Epoch 4/800\n",
            "15/15 [==============================] - 0s 465us/step - loss: 3.3910 - val_loss: 3.5565\n",
            "Epoch 5/800\n",
            "15/15 [==============================] - 0s 978us/step - loss: 3.3416 - val_loss: 3.5074\n",
            "Epoch 6/800\n",
            "15/15 [==============================] - 0s 968us/step - loss: 3.2933 - val_loss: 3.4593\n",
            "Epoch 7/800\n",
            "15/15 [==============================] - 0s 471us/step - loss: 3.2460 - val_loss: 3.4122\n",
            "Epoch 8/800\n",
            "15/15 [==============================] - 0s 622us/step - loss: 3.1999 - val_loss: 3.3660\n",
            "Epoch 9/800\n",
            "15/15 [==============================] - 0s 516us/step - loss: 3.1547 - val_loss: 3.3208\n",
            "Epoch 10/800\n",
            "15/15 [==============================] - 0s 497us/step - loss: 3.1106 - val_loss: 3.2765\n",
            "Epoch 11/800\n",
            "15/15 [==============================] - 0s 656us/step - loss: 3.0673 - val_loss: 3.2331\n",
            "Epoch 12/800\n",
            "15/15 [==============================] - 0s 575us/step - loss: 3.0251 - val_loss: 3.1906\n",
            "Epoch 13/800\n",
            "15/15 [==============================] - 0s 487us/step - loss: 2.9838 - val_loss: 3.1490\n",
            "Epoch 14/800\n",
            "15/15 [==============================] - 0s 607us/step - loss: 2.9435 - val_loss: 3.1083\n",
            "Epoch 15/800\n",
            "15/15 [==============================] - 0s 544us/step - loss: 2.9041 - val_loss: 3.0684\n",
            "Epoch 16/800\n",
            "15/15 [==============================] - 0s 761us/step - loss: 2.8655 - val_loss: 3.0294\n",
            "Epoch 17/800\n",
            "15/15 [==============================] - 0s 643us/step - loss: 2.8278 - val_loss: 2.9911\n",
            "Epoch 18/800\n",
            "15/15 [==============================] - 0s 514us/step - loss: 2.7909 - val_loss: 2.9536\n",
            "Epoch 19/800\n",
            "15/15 [==============================] - 0s 562us/step - loss: 2.7550 - val_loss: 2.9166\n",
            "Epoch 20/800\n",
            "15/15 [==============================] - 0s 612us/step - loss: 2.7198 - val_loss: 2.8804\n",
            "Epoch 21/800\n",
            "15/15 [==============================] - 0s 659us/step - loss: 2.6855 - val_loss: 2.8450\n",
            "Epoch 22/800\n",
            "15/15 [==============================] - 0s 762us/step - loss: 2.6519 - val_loss: 2.8102\n",
            "Epoch 23/800\n",
            "15/15 [==============================] - 0s 737us/step - loss: 2.6188 - val_loss: 2.7762\n",
            "Epoch 24/800\n",
            "15/15 [==============================] - 0s 591us/step - loss: 2.5864 - val_loss: 2.7429\n",
            "Epoch 25/800\n",
            "15/15 [==============================] - 0s 879us/step - loss: 2.5548 - val_loss: 2.7104\n",
            "Epoch 26/800\n",
            "15/15 [==============================] - 0s 655us/step - loss: 2.5236 - val_loss: 2.6785\n",
            "Epoch 27/800\n",
            "15/15 [==============================] - 0s 434us/step - loss: 2.4929 - val_loss: 2.6472\n",
            "Epoch 28/800\n",
            "15/15 [==============================] - 0s 461us/step - loss: 2.4627 - val_loss: 2.6165\n",
            "Epoch 29/800\n",
            "15/15 [==============================] - 0s 728us/step - loss: 2.4331 - val_loss: 2.5864\n",
            "Epoch 30/800\n",
            "15/15 [==============================] - 0s 758us/step - loss: 2.4041 - val_loss: 2.5568\n",
            "Epoch 31/800\n",
            "15/15 [==============================] - 0s 691us/step - loss: 2.3756 - val_loss: 2.5278\n",
            "Epoch 32/800\n",
            "15/15 [==============================] - 0s 484us/step - loss: 2.3476 - val_loss: 2.4993\n",
            "Epoch 33/800\n",
            "15/15 [==============================] - 0s 684us/step - loss: 2.3201 - val_loss: 2.4714\n",
            "Epoch 34/800\n",
            "15/15 [==============================] - 0s 578us/step - loss: 2.2932 - val_loss: 2.4440\n",
            "Epoch 35/800\n",
            "15/15 [==============================] - 0s 746us/step - loss: 2.2667 - val_loss: 2.4170\n",
            "Epoch 36/800\n",
            "15/15 [==============================] - 0s 491us/step - loss: 2.2407 - val_loss: 2.3906\n",
            "Epoch 37/800\n",
            "15/15 [==============================] - 0s 726us/step - loss: 2.2152 - val_loss: 2.3646\n",
            "Epoch 38/800\n",
            "15/15 [==============================] - 0s 808us/step - loss: 2.1901 - val_loss: 2.3391\n",
            "Epoch 39/800\n",
            "15/15 [==============================] - 0s 590us/step - loss: 2.1654 - val_loss: 2.3140\n",
            "Epoch 40/800\n",
            "15/15 [==============================] - 0s 671us/step - loss: 2.1412 - val_loss: 2.2894\n",
            "Epoch 41/800\n",
            "15/15 [==============================] - 0s 612us/step - loss: 2.1173 - val_loss: 2.2651\n",
            "Epoch 42/800\n",
            "15/15 [==============================] - 0s 837us/step - loss: 2.0939 - val_loss: 2.2413\n",
            "Epoch 43/800\n",
            "15/15 [==============================] - 0s 724us/step - loss: 2.0708 - val_loss: 2.2178\n",
            "Epoch 44/800\n",
            "15/15 [==============================] - 0s 715us/step - loss: 2.0481 - val_loss: 2.1947\n",
            "Epoch 45/800\n",
            "15/15 [==============================] - 0s 648us/step - loss: 2.0257 - val_loss: 2.1720\n",
            "Epoch 46/800\n",
            "15/15 [==============================] - 0s 900us/step - loss: 2.0035 - val_loss: 2.1496\n",
            "Epoch 47/800\n",
            "15/15 [==============================] - 0s 813us/step - loss: 1.9816 - val_loss: 2.1275\n",
            "Epoch 48/800\n",
            "15/15 [==============================] - 0s 643us/step - loss: 1.9602 - val_loss: 2.1058\n",
            "Epoch 49/800\n",
            "15/15 [==============================] - 0s 791us/step - loss: 1.9390 - val_loss: 2.0845\n",
            "Epoch 50/800\n",
            "15/15 [==============================] - 0s 630us/step - loss: 1.9182 - val_loss: 2.0634\n",
            "Epoch 51/800\n",
            "15/15 [==============================] - 0s 536us/step - loss: 1.8976 - val_loss: 2.0427\n",
            "Epoch 52/800\n",
            "15/15 [==============================] - 0s 772us/step - loss: 1.8774 - val_loss: 2.0223\n",
            "Epoch 53/800\n",
            "15/15 [==============================] - 0s 566us/step - loss: 1.8575 - val_loss: 2.0022\n",
            "Epoch 54/800\n",
            "15/15 [==============================] - 0s 538us/step - loss: 1.8379 - val_loss: 1.9824\n",
            "Epoch 55/800\n",
            "15/15 [==============================] - 0s 696us/step - loss: 1.8185 - val_loss: 1.9629\n",
            "Epoch 56/800\n",
            "15/15 [==============================] - 0s 571us/step - loss: 1.7994 - val_loss: 1.9437\n",
            "Epoch 57/800\n",
            "15/15 [==============================] - 0s 654us/step - loss: 1.7806 - val_loss: 1.9248\n",
            "Epoch 58/800\n",
            "15/15 [==============================] - 0s 598us/step - loss: 1.7621 - val_loss: 1.9061\n",
            "Epoch 59/800\n",
            "15/15 [==============================] - 0s 627us/step - loss: 1.7438 - val_loss: 1.8877\n",
            "Epoch 60/800\n",
            "15/15 [==============================] - 0s 385us/step - loss: 1.7258 - val_loss: 1.8695\n",
            "Epoch 61/800\n",
            "15/15 [==============================] - 0s 592us/step - loss: 1.7081 - val_loss: 1.8517\n",
            "Epoch 62/800\n",
            "15/15 [==============================] - 0s 567us/step - loss: 1.6906 - val_loss: 1.8340\n",
            "Epoch 63/800\n",
            "15/15 [==============================] - 0s 699us/step - loss: 1.6734 - val_loss: 1.8166\n",
            "Epoch 64/800\n",
            "15/15 [==============================] - 0s 630us/step - loss: 1.6564 - val_loss: 1.7995\n",
            "Epoch 65/800\n",
            "15/15 [==============================] - 0s 788us/step - loss: 1.6397 - val_loss: 1.7825\n",
            "Epoch 66/800\n",
            "15/15 [==============================] - 0s 975us/step - loss: 1.6232 - val_loss: 1.7659\n",
            "Epoch 67/800\n",
            "15/15 [==============================] - 0s 808us/step - loss: 1.6069 - val_loss: 1.7494\n",
            "Epoch 68/800\n",
            "15/15 [==============================] - 0s 878us/step - loss: 1.5909 - val_loss: 1.7332\n",
            "Epoch 69/800\n",
            "15/15 [==============================] - 0s 715us/step - loss: 1.5751 - val_loss: 1.7171\n",
            "Epoch 70/800\n",
            "15/15 [==============================] - 0s 813us/step - loss: 1.5595 - val_loss: 1.7013\n",
            "Epoch 71/800\n",
            "15/15 [==============================] - 0s 556us/step - loss: 1.5441 - val_loss: 1.6857\n",
            "Epoch 72/800\n",
            "15/15 [==============================] - 0s 575us/step - loss: 1.5289 - val_loss: 1.6703\n",
            "Epoch 73/800\n",
            "15/15 [==============================] - 0s 956us/step - loss: 1.5139 - val_loss: 1.6551\n",
            "Epoch 74/800\n",
            "15/15 [==============================] - 0s 618us/step - loss: 1.4991 - val_loss: 1.6401\n",
            "Epoch 75/800\n",
            "15/15 [==============================] - 0s 892us/step - loss: 1.4845 - val_loss: 1.6254\n",
            "Epoch 76/800\n",
            "15/15 [==============================] - 0s 787us/step - loss: 1.4699 - val_loss: 1.6109\n",
            "Epoch 77/800\n",
            "15/15 [==============================] - 0s 776us/step - loss: 1.4556 - val_loss: 1.5965\n",
            "Epoch 78/800\n",
            "15/15 [==============================] - 0s 809us/step - loss: 1.4413 - val_loss: 1.5824\n",
            "Epoch 79/800\n",
            "15/15 [==============================] - 0s 920us/step - loss: 1.4273 - val_loss: 1.5684\n",
            "Epoch 80/800\n",
            "15/15 [==============================] - 0s 913us/step - loss: 1.4134 - val_loss: 1.5546\n",
            "Epoch 81/800\n",
            "15/15 [==============================] - 0s 582us/step - loss: 1.3997 - val_loss: 1.5410\n",
            "Epoch 82/800\n",
            "15/15 [==============================] - 0s 847us/step - loss: 1.3862 - val_loss: 1.5275\n",
            "Epoch 83/800\n",
            "15/15 [==============================] - 0s 913us/step - loss: 1.3727 - val_loss: 1.5141\n",
            "Epoch 84/800\n",
            "15/15 [==============================] - 0s 645us/step - loss: 1.3594 - val_loss: 1.5009\n",
            "Epoch 85/800\n",
            "15/15 [==============================] - 0s 745us/step - loss: 1.3463 - val_loss: 1.4879\n",
            "Epoch 86/800\n",
            "15/15 [==============================] - 0s 769us/step - loss: 1.3332 - val_loss: 1.4750\n",
            "Epoch 87/800\n",
            "15/15 [==============================] - 0s 690us/step - loss: 1.3203 - val_loss: 1.4622\n",
            "Epoch 88/800\n",
            "15/15 [==============================] - 0s 927us/step - loss: 1.3076 - val_loss: 1.4496\n",
            "Epoch 89/800\n",
            "15/15 [==============================] - 0s 815us/step - loss: 1.2950 - val_loss: 1.4371\n",
            "Epoch 90/800\n",
            "15/15 [==============================] - 0s 674us/step - loss: 1.2825 - val_loss: 1.4248\n",
            "Epoch 91/800\n",
            "15/15 [==============================] - 0s 1ms/step - loss: 1.2701 - val_loss: 1.4125\n",
            "Epoch 92/800\n",
            "15/15 [==============================] - 0s 1ms/step - loss: 1.2579 - val_loss: 1.4004\n",
            "Epoch 93/800\n",
            "15/15 [==============================] - 0s 627us/step - loss: 1.2458 - val_loss: 1.3884\n",
            "Epoch 94/800\n",
            "15/15 [==============================] - 0s 833us/step - loss: 1.2338 - val_loss: 1.3766\n",
            "Epoch 95/800\n",
            "15/15 [==============================] - 0s 662us/step - loss: 1.2220 - val_loss: 1.3649\n",
            "Epoch 96/800\n",
            "15/15 [==============================] - 0s 1ms/step - loss: 1.2103 - val_loss: 1.3533\n",
            "Epoch 97/800\n",
            "15/15 [==============================] - 0s 741us/step - loss: 1.1987 - val_loss: 1.3418\n",
            "Epoch 98/800\n",
            "15/15 [==============================] - 0s 685us/step - loss: 1.1873 - val_loss: 1.3304\n",
            "Epoch 99/800\n",
            "15/15 [==============================] - 0s 619us/step - loss: 1.1760 - val_loss: 1.3192\n",
            "Epoch 100/800\n",
            "15/15 [==============================] - 0s 691us/step - loss: 1.1648 - val_loss: 1.3081\n",
            "Epoch 101/800\n",
            "15/15 [==============================] - 0s 705us/step - loss: 1.1538 - val_loss: 1.2971\n",
            "Epoch 102/800\n",
            "15/15 [==============================] - 0s 692us/step - loss: 1.1428 - val_loss: 1.2862\n",
            "Epoch 103/800\n",
            "15/15 [==============================] - 0s 763us/step - loss: 1.1320 - val_loss: 1.2755\n",
            "Epoch 104/800\n",
            "15/15 [==============================] - 0s 605us/step - loss: 1.1214 - val_loss: 1.2648\n",
            "Epoch 105/800\n",
            "15/15 [==============================] - 0s 708us/step - loss: 1.1108 - val_loss: 1.2543\n",
            "Epoch 106/800\n",
            "15/15 [==============================] - 0s 698us/step - loss: 1.1003 - val_loss: 1.2439\n",
            "Epoch 107/800\n",
            "15/15 [==============================] - 0s 578us/step - loss: 1.0900 - val_loss: 1.2336\n",
            "Epoch 108/800\n",
            "15/15 [==============================] - 0s 587us/step - loss: 1.0798 - val_loss: 1.2234\n",
            "Epoch 109/800\n",
            "15/15 [==============================] - 0s 597us/step - loss: 1.0697 - val_loss: 1.2133\n",
            "Epoch 110/800\n",
            "15/15 [==============================] - 0s 759us/step - loss: 1.0597 - val_loss: 1.2033\n",
            "Epoch 111/800\n",
            "15/15 [==============================] - 0s 520us/step - loss: 1.0498 - val_loss: 1.1934\n",
            "Epoch 112/800\n",
            "15/15 [==============================] - 0s 814us/step - loss: 1.0400 - val_loss: 1.1836\n",
            "Epoch 113/800\n",
            "15/15 [==============================] - 0s 743us/step - loss: 1.0303 - val_loss: 1.1739\n",
            "Epoch 114/800\n",
            "15/15 [==============================] - 0s 767us/step - loss: 1.0207 - val_loss: 1.1643\n",
            "Epoch 115/800\n",
            "15/15 [==============================] - 0s 599us/step - loss: 1.0112 - val_loss: 1.1548\n",
            "Epoch 116/800\n",
            "15/15 [==============================] - 0s 730us/step - loss: 1.0018 - val_loss: 1.1454\n",
            "Epoch 117/800\n",
            "15/15 [==============================] - 0s 698us/step - loss: 0.9925 - val_loss: 1.1361\n",
            "Epoch 118/800\n",
            "15/15 [==============================] - 0s 709us/step - loss: 0.9833 - val_loss: 1.1269\n",
            "Epoch 119/800\n",
            "15/15 [==============================] - 0s 818us/step - loss: 0.9742 - val_loss: 1.1178\n",
            "Epoch 120/800\n",
            "15/15 [==============================] - 0s 826us/step - loss: 0.9652 - val_loss: 1.1087\n",
            "Epoch 121/800\n",
            "15/15 [==============================] - 0s 638us/step - loss: 0.9563 - val_loss: 1.0998\n",
            "Epoch 122/800\n",
            "15/15 [==============================] - 0s 994us/step - loss: 0.9474 - val_loss: 1.0909\n",
            "Epoch 123/800\n",
            "15/15 [==============================] - 0s 595us/step - loss: 0.9386 - val_loss: 1.0822\n",
            "Epoch 124/800\n",
            "15/15 [==============================] - 0s 769us/step - loss: 0.9300 - val_loss: 1.0735\n",
            "Epoch 125/800\n",
            "15/15 [==============================] - 0s 720us/step - loss: 0.9214 - val_loss: 1.0649\n",
            "Epoch 126/800\n",
            "15/15 [==============================] - 0s 621us/step - loss: 0.9128 - val_loss: 1.0564\n",
            "Epoch 127/800\n",
            "15/15 [==============================] - 0s 618us/step - loss: 0.9044 - val_loss: 1.0480\n",
            "Epoch 128/800\n",
            "15/15 [==============================] - 0s 799us/step - loss: 0.8961 - val_loss: 1.0396\n",
            "Epoch 129/800\n",
            "15/15 [==============================] - 0s 569us/step - loss: 0.8878 - val_loss: 1.0314\n",
            "Epoch 130/800\n",
            "15/15 [==============================] - 0s 570us/step - loss: 0.8797 - val_loss: 1.0232\n",
            "Epoch 131/800\n",
            "15/15 [==============================] - 0s 654us/step - loss: 0.8716 - val_loss: 1.0151\n",
            "Epoch 132/800\n",
            "15/15 [==============================] - 0s 803us/step - loss: 0.8636 - val_loss: 1.0071\n",
            "Epoch 133/800\n",
            "15/15 [==============================] - 0s 678us/step - loss: 0.8556 - val_loss: 0.9991\n",
            "Epoch 134/800\n",
            "15/15 [==============================] - 0s 746us/step - loss: 0.8478 - val_loss: 0.9913\n",
            "Epoch 135/800\n",
            "15/15 [==============================] - 0s 725us/step - loss: 0.8400 - val_loss: 0.9835\n",
            "Epoch 136/800\n",
            "15/15 [==============================] - 0s 538us/step - loss: 0.8322 - val_loss: 0.9757\n",
            "Epoch 137/800\n",
            "15/15 [==============================] - 0s 566us/step - loss: 0.8245 - val_loss: 0.9681\n",
            "Epoch 138/800\n",
            "15/15 [==============================] - 0s 695us/step - loss: 0.8169 - val_loss: 0.9605\n",
            "Epoch 139/800\n",
            "15/15 [==============================] - 0s 636us/step - loss: 0.8093 - val_loss: 0.9530\n",
            "Epoch 140/800\n",
            "15/15 [==============================] - 0s 634us/step - loss: 0.8017 - val_loss: 0.9456\n",
            "Epoch 141/800\n",
            "15/15 [==============================] - 0s 720us/step - loss: 0.7943 - val_loss: 0.9382\n",
            "Epoch 142/800\n",
            "15/15 [==============================] - 0s 488us/step - loss: 0.7869 - val_loss: 0.9310\n",
            "Epoch 143/800\n",
            "15/15 [==============================] - 0s 681us/step - loss: 0.7796 - val_loss: 0.9237\n",
            "Epoch 144/800\n",
            "15/15 [==============================] - 0s 790us/step - loss: 0.7723 - val_loss: 0.9166\n",
            "Epoch 145/800\n",
            "15/15 [==============================] - 0s 602us/step - loss: 0.7651 - val_loss: 0.9095\n",
            "Epoch 146/800\n",
            "15/15 [==============================] - 0s 967us/step - loss: 0.7580 - val_loss: 0.9025\n",
            "Epoch 147/800\n",
            "15/15 [==============================] - 0s 676us/step - loss: 0.7509 - val_loss: 0.8955\n",
            "Epoch 148/800\n",
            "15/15 [==============================] - 0s 743us/step - loss: 0.7440 - val_loss: 0.8887\n",
            "Epoch 149/800\n",
            "15/15 [==============================] - 0s 648us/step - loss: 0.7370 - val_loss: 0.8818\n",
            "Epoch 150/800\n",
            "15/15 [==============================] - 0s 696us/step - loss: 0.7302 - val_loss: 0.8751\n",
            "Epoch 151/800\n",
            "15/15 [==============================] - 0s 720us/step - loss: 0.7234 - val_loss: 0.8684\n",
            "Epoch 152/800\n",
            "15/15 [==============================] - 0s 664us/step - loss: 0.7167 - val_loss: 0.8618\n",
            "Epoch 153/800\n",
            "15/15 [==============================] - 0s 660us/step - loss: 0.7101 - val_loss: 0.8552\n",
            "Epoch 154/800\n",
            "15/15 [==============================] - 0s 686us/step - loss: 0.7035 - val_loss: 0.8487\n",
            "Epoch 155/800\n",
            "15/15 [==============================] - 0s 684us/step - loss: 0.6970 - val_loss: 0.8423\n",
            "Epoch 156/800\n",
            "15/15 [==============================] - 0s 630us/step - loss: 0.6906 - val_loss: 0.8359\n",
            "Epoch 157/800\n",
            "15/15 [==============================] - 0s 694us/step - loss: 0.6842 - val_loss: 0.8295\n",
            "Epoch 158/800\n",
            "15/15 [==============================] - 0s 744us/step - loss: 0.6779 - val_loss: 0.8233\n",
            "Epoch 159/800\n",
            "15/15 [==============================] - 0s 687us/step - loss: 0.6716 - val_loss: 0.8171\n",
            "Epoch 160/800\n",
            "15/15 [==============================] - 0s 776us/step - loss: 0.6653 - val_loss: 0.8109\n",
            "Epoch 161/800\n",
            "15/15 [==============================] - 0s 519us/step - loss: 0.6591 - val_loss: 0.8048\n",
            "Epoch 162/800\n",
            "15/15 [==============================] - 0s 788us/step - loss: 0.6530 - val_loss: 0.7988\n",
            "Epoch 163/800\n",
            "15/15 [==============================] - 0s 729us/step - loss: 0.6469 - val_loss: 0.7928\n",
            "Epoch 164/800\n",
            "15/15 [==============================] - 0s 607us/step - loss: 0.6409 - val_loss: 0.7869\n",
            "Epoch 165/800\n",
            "15/15 [==============================] - 0s 715us/step - loss: 0.6349 - val_loss: 0.7810\n",
            "Epoch 166/800\n",
            "15/15 [==============================] - 0s 484us/step - loss: 0.6290 - val_loss: 0.7752\n",
            "Epoch 167/800\n",
            "15/15 [==============================] - 0s 759us/step - loss: 0.6231 - val_loss: 0.7693\n",
            "Epoch 168/800\n",
            "15/15 [==============================] - 0s 765us/step - loss: 0.6172 - val_loss: 0.7634\n",
            "Epoch 169/800\n",
            "15/15 [==============================] - 0s 660us/step - loss: 0.6114 - val_loss: 0.7575\n",
            "Epoch 170/800\n",
            "15/15 [==============================] - 0s 643us/step - loss: 0.6057 - val_loss: 0.7517\n",
            "Epoch 171/800\n",
            "15/15 [==============================] - 0s 729us/step - loss: 0.6000 - val_loss: 0.7460\n",
            "Epoch 172/800\n",
            "15/15 [==============================] - 0s 543us/step - loss: 0.5944 - val_loss: 0.7403\n",
            "Epoch 173/800\n",
            "15/15 [==============================] - 0s 619us/step - loss: 0.5888 - val_loss: 0.7347\n",
            "Epoch 174/800\n",
            "15/15 [==============================] - 0s 677us/step - loss: 0.5833 - val_loss: 0.7291\n",
            "Epoch 175/800\n",
            "15/15 [==============================] - 0s 820us/step - loss: 0.5778 - val_loss: 0.7232\n",
            "Epoch 176/800\n",
            "15/15 [==============================] - 0s 588us/step - loss: 0.5723 - val_loss: 0.7173\n",
            "Epoch 177/800\n",
            "15/15 [==============================] - 0s 725us/step - loss: 0.5669 - val_loss: 0.7113\n",
            "Epoch 178/800\n",
            "15/15 [==============================] - 0s 1ms/step - loss: 0.5616 - val_loss: 0.7054\n",
            "Epoch 179/800\n",
            "15/15 [==============================] - 0s 890us/step - loss: 0.5563 - val_loss: 0.6996\n",
            "Epoch 180/800\n",
            "15/15 [==============================] - 0s 846us/step - loss: 0.5510 - val_loss: 0.6937\n",
            "Epoch 181/800\n",
            "15/15 [==============================] - 0s 661us/step - loss: 0.5457 - val_loss: 0.6880\n",
            "Epoch 182/800\n",
            "15/15 [==============================] - 0s 767us/step - loss: 0.5405 - val_loss: 0.6822\n",
            "Epoch 183/800\n",
            "15/15 [==============================] - 0s 722us/step - loss: 0.5354 - val_loss: 0.6765\n",
            "Epoch 184/800\n",
            "15/15 [==============================] - 0s 875us/step - loss: 0.5302 - val_loss: 0.6709\n",
            "Epoch 185/800\n",
            "15/15 [==============================] - 0s 483us/step - loss: 0.5252 - val_loss: 0.6653\n",
            "Epoch 186/800\n",
            "15/15 [==============================] - 0s 827us/step - loss: 0.5202 - val_loss: 0.6597\n",
            "Epoch 187/800\n",
            "15/15 [==============================] - 0s 488us/step - loss: 0.5152 - val_loss: 0.6542\n",
            "Epoch 188/800\n",
            "15/15 [==============================] - 0s 670us/step - loss: 0.5103 - val_loss: 0.6488\n",
            "Epoch 189/800\n",
            "15/15 [==============================] - 0s 607us/step - loss: 0.5054 - val_loss: 0.6434\n",
            "Epoch 190/800\n",
            "15/15 [==============================] - 0s 592us/step - loss: 0.5006 - val_loss: 0.6380\n",
            "Epoch 191/800\n",
            "15/15 [==============================] - 0s 654us/step - loss: 0.4958 - val_loss: 0.6327\n",
            "Epoch 192/800\n",
            "15/15 [==============================] - 0s 658us/step - loss: 0.4910 - val_loss: 0.6274\n",
            "Epoch 193/800\n",
            "15/15 [==============================] - 0s 648us/step - loss: 0.4863 - val_loss: 0.6222\n",
            "Epoch 194/800\n",
            "15/15 [==============================] - 0s 699us/step - loss: 0.4817 - val_loss: 0.6170\n",
            "Epoch 195/800\n",
            "15/15 [==============================] - 0s 401us/step - loss: 0.4771 - val_loss: 0.6119\n",
            "Epoch 196/800\n",
            "15/15 [==============================] - 0s 555us/step - loss: 0.4725 - val_loss: 0.6068\n",
            "Epoch 197/800\n",
            "15/15 [==============================] - 0s 459us/step - loss: 0.4680 - val_loss: 0.6018\n",
            "Epoch 198/800\n",
            "15/15 [==============================] - 0s 678us/step - loss: 0.4636 - val_loss: 0.5968\n",
            "Epoch 199/800\n",
            "15/15 [==============================] - 0s 587us/step - loss: 0.4591 - val_loss: 0.5919\n",
            "Epoch 200/800\n",
            "15/15 [==============================] - 0s 861us/step - loss: 0.4548 - val_loss: 0.5870\n",
            "Epoch 201/800\n",
            "15/15 [==============================] - 0s 848us/step - loss: 0.4504 - val_loss: 0.5822\n",
            "Epoch 202/800\n",
            "15/15 [==============================] - 0s 625us/step - loss: 0.4462 - val_loss: 0.5774\n",
            "Epoch 203/800\n",
            "15/15 [==============================] - 0s 760us/step - loss: 0.4419 - val_loss: 0.5727\n",
            "Epoch 204/800\n",
            "15/15 [==============================] - 0s 749us/step - loss: 0.4377 - val_loss: 0.5680\n",
            "Epoch 205/800\n",
            "15/15 [==============================] - 0s 808us/step - loss: 0.4336 - val_loss: 0.5633\n",
            "Epoch 206/800\n",
            "15/15 [==============================] - 0s 641us/step - loss: 0.4294 - val_loss: 0.5587\n",
            "Epoch 207/800\n",
            "15/15 [==============================] - 0s 804us/step - loss: 0.4253 - val_loss: 0.5541\n",
            "Epoch 208/800\n",
            "15/15 [==============================] - 0s 621us/step - loss: 0.4213 - val_loss: 0.5496\n",
            "Epoch 209/800\n",
            "15/15 [==============================] - 0s 544us/step - loss: 0.4173 - val_loss: 0.5451\n",
            "Epoch 210/800\n",
            "15/15 [==============================] - 0s 964us/step - loss: 0.4133 - val_loss: 0.5407\n",
            "Epoch 211/800\n",
            "15/15 [==============================] - 0s 931us/step - loss: 0.4094 - val_loss: 0.5362\n",
            "Epoch 212/800\n",
            "15/15 [==============================] - 0s 583us/step - loss: 0.4054 - val_loss: 0.5319\n",
            "Epoch 213/800\n",
            "15/15 [==============================] - 0s 823us/step - loss: 0.4015 - val_loss: 0.5275\n",
            "Epoch 214/800\n",
            "15/15 [==============================] - 0s 800us/step - loss: 0.3976 - val_loss: 0.5232\n",
            "Epoch 215/800\n",
            "15/15 [==============================] - 0s 755us/step - loss: 0.3937 - val_loss: 0.5190\n",
            "Epoch 216/800\n",
            "15/15 [==============================] - 0s 899us/step - loss: 0.3899 - val_loss: 0.5147\n",
            "Epoch 217/800\n",
            "15/15 [==============================] - 0s 560us/step - loss: 0.3861 - val_loss: 0.5105\n",
            "Epoch 218/800\n",
            "15/15 [==============================] - 0s 690us/step - loss: 0.3823 - val_loss: 0.5064\n",
            "Epoch 219/800\n",
            "15/15 [==============================] - 0s 675us/step - loss: 0.3786 - val_loss: 0.5023\n",
            "Epoch 220/800\n",
            "15/15 [==============================] - 0s 739us/step - loss: 0.3749 - val_loss: 0.4982\n",
            "Epoch 221/800\n",
            "15/15 [==============================] - 0s 663us/step - loss: 0.3713 - val_loss: 0.4942\n",
            "Epoch 222/800\n",
            "15/15 [==============================] - 0s 622us/step - loss: 0.3677 - val_loss: 0.4902\n",
            "Epoch 223/800\n",
            "15/15 [==============================] - 0s 697us/step - loss: 0.3641 - val_loss: 0.4862\n",
            "Epoch 224/800\n",
            "15/15 [==============================] - 0s 576us/step - loss: 0.3605 - val_loss: 0.4823\n",
            "Epoch 225/800\n",
            "15/15 [==============================] - 0s 669us/step - loss: 0.3570 - val_loss: 0.4784\n",
            "Epoch 226/800\n",
            "15/15 [==============================] - 0s 713us/step - loss: 0.3536 - val_loss: 0.4746\n",
            "Epoch 227/800\n",
            "15/15 [==============================] - 0s 764us/step - loss: 0.3501 - val_loss: 0.4708\n",
            "Epoch 228/800\n",
            "15/15 [==============================] - 0s 824us/step - loss: 0.3467 - val_loss: 0.4670\n",
            "Epoch 229/800\n",
            "15/15 [==============================] - 0s 755us/step - loss: 0.3433 - val_loss: 0.4631\n",
            "Epoch 230/800\n",
            "15/15 [==============================] - 0s 597us/step - loss: 0.3399 - val_loss: 0.4592\n",
            "Epoch 231/800\n",
            "15/15 [==============================] - 0s 859us/step - loss: 0.3366 - val_loss: 0.4553\n",
            "Epoch 232/800\n",
            "15/15 [==============================] - 0s 655us/step - loss: 0.3333 - val_loss: 0.4514\n",
            "Epoch 233/800\n",
            "15/15 [==============================] - 0s 616us/step - loss: 0.3300 - val_loss: 0.4476\n",
            "Epoch 234/800\n",
            "15/15 [==============================] - 0s 758us/step - loss: 0.3268 - val_loss: 0.4438\n",
            "Epoch 235/800\n",
            "15/15 [==============================] - 0s 563us/step - loss: 0.3236 - val_loss: 0.4401\n",
            "Epoch 236/800\n",
            "15/15 [==============================] - 0s 595us/step - loss: 0.3205 - val_loss: 0.4364\n",
            "Epoch 237/800\n",
            "15/15 [==============================] - 0s 667us/step - loss: 0.3173 - val_loss: 0.4327\n",
            "Epoch 238/800\n",
            "15/15 [==============================] - 0s 705us/step - loss: 0.3142 - val_loss: 0.4291\n",
            "Epoch 239/800\n",
            "15/15 [==============================] - 0s 670us/step - loss: 0.3112 - val_loss: 0.4255\n",
            "Epoch 240/800\n",
            "15/15 [==============================] - 0s 692us/step - loss: 0.3081 - val_loss: 0.4219\n",
            "Epoch 241/800\n",
            "15/15 [==============================] - 0s 665us/step - loss: 0.3051 - val_loss: 0.4184\n",
            "Epoch 242/800\n",
            "15/15 [==============================] - 0s 504us/step - loss: 0.3022 - val_loss: 0.4149\n",
            "Epoch 243/800\n",
            "15/15 [==============================] - 0s 638us/step - loss: 0.2992 - val_loss: 0.4115\n",
            "Epoch 244/800\n",
            "15/15 [==============================] - 0s 615us/step - loss: 0.2963 - val_loss: 0.4080\n",
            "Epoch 245/800\n",
            "15/15 [==============================] - 0s 657us/step - loss: 0.2934 - val_loss: 0.4046\n",
            "Epoch 246/800\n",
            "15/15 [==============================] - 0s 565us/step - loss: 0.2905 - val_loss: 0.4013\n",
            "Epoch 247/800\n",
            "15/15 [==============================] - 0s 712us/step - loss: 0.2877 - val_loss: 0.3979\n",
            "Epoch 248/800\n",
            "15/15 [==============================] - 0s 652us/step - loss: 0.2849 - val_loss: 0.3946\n",
            "Epoch 249/800\n",
            "15/15 [==============================] - 0s 512us/step - loss: 0.2821 - val_loss: 0.3913\n",
            "Epoch 250/800\n",
            "15/15 [==============================] - 0s 514us/step - loss: 0.2793 - val_loss: 0.3881\n",
            "Epoch 251/800\n",
            "15/15 [==============================] - 0s 684us/step - loss: 0.2765 - val_loss: 0.3848\n",
            "Epoch 252/800\n",
            "15/15 [==============================] - 0s 618us/step - loss: 0.2737 - val_loss: 0.3816\n",
            "Epoch 253/800\n",
            "15/15 [==============================] - 0s 685us/step - loss: 0.2710 - val_loss: 0.3785\n",
            "Epoch 254/800\n",
            "15/15 [==============================] - 0s 675us/step - loss: 0.2683 - val_loss: 0.3753\n",
            "Epoch 255/800\n",
            "15/15 [==============================] - 0s 572us/step - loss: 0.2657 - val_loss: 0.3722\n",
            "Epoch 256/800\n",
            "15/15 [==============================] - 0s 536us/step - loss: 0.2630 - val_loss: 0.3691\n",
            "Epoch 257/800\n",
            "15/15 [==============================] - 0s 574us/step - loss: 0.2604 - val_loss: 0.3660\n",
            "Epoch 258/800\n",
            "15/15 [==============================] - 0s 796us/step - loss: 0.2578 - val_loss: 0.3630\n",
            "Epoch 259/800\n",
            "15/15 [==============================] - 0s 692us/step - loss: 0.2552 - val_loss: 0.3600\n",
            "Epoch 260/800\n",
            "15/15 [==============================] - 0s 541us/step - loss: 0.2527 - val_loss: 0.3570\n",
            "Epoch 261/800\n",
            "15/15 [==============================] - 0s 831us/step - loss: 0.2501 - val_loss: 0.3541\n",
            "Epoch 262/800\n",
            "15/15 [==============================] - 0s 752us/step - loss: 0.2476 - val_loss: 0.3511\n",
            "Epoch 263/800\n",
            "15/15 [==============================] - 0s 699us/step - loss: 0.2452 - val_loss: 0.3482\n",
            "Epoch 264/800\n",
            "15/15 [==============================] - 0s 577us/step - loss: 0.2427 - val_loss: 0.3454\n",
            "Epoch 265/800\n",
            "15/15 [==============================] - 0s 705us/step - loss: 0.2403 - val_loss: 0.3425\n",
            "Epoch 266/800\n",
            "15/15 [==============================] - 0s 886us/step - loss: 0.2379 - val_loss: 0.3397\n",
            "Epoch 267/800\n",
            "15/15 [==============================] - 0s 727us/step - loss: 0.2355 - val_loss: 0.3369\n",
            "Epoch 268/800\n",
            "15/15 [==============================] - 0s 778us/step - loss: 0.2332 - val_loss: 0.3342\n",
            "Epoch 269/800\n",
            "15/15 [==============================] - 0s 634us/step - loss: 0.2309 - val_loss: 0.3314\n",
            "Epoch 270/800\n",
            "15/15 [==============================] - 0s 428us/step - loss: 0.2285 - val_loss: 0.3287\n",
            "Epoch 271/800\n",
            "15/15 [==============================] - 0s 710us/step - loss: 0.2262 - val_loss: 0.3260\n",
            "Epoch 272/800\n",
            "15/15 [==============================] - 0s 573us/step - loss: 0.2240 - val_loss: 0.3233\n",
            "Epoch 273/800\n",
            "15/15 [==============================] - 0s 524us/step - loss: 0.2217 - val_loss: 0.3207\n",
            "Epoch 274/800\n",
            "15/15 [==============================] - 0s 640us/step - loss: 0.2195 - val_loss: 0.3180\n",
            "Epoch 275/800\n",
            "15/15 [==============================] - 0s 703us/step - loss: 0.2173 - val_loss: 0.3154\n",
            "Epoch 276/800\n",
            "15/15 [==============================] - 0s 566us/step - loss: 0.2151 - val_loss: 0.3129\n",
            "Epoch 277/800\n",
            "15/15 [==============================] - 0s 705us/step - loss: 0.2130 - val_loss: 0.3103\n",
            "Epoch 278/800\n",
            "15/15 [==============================] - 0s 539us/step - loss: 0.2108 - val_loss: 0.3078\n",
            "Epoch 279/800\n",
            "15/15 [==============================] - 0s 635us/step - loss: 0.2087 - val_loss: 0.3053\n",
            "Epoch 280/800\n",
            "15/15 [==============================] - 0s 659us/step - loss: 0.2066 - val_loss: 0.3028\n",
            "Epoch 281/800\n",
            "15/15 [==============================] - 0s 491us/step - loss: 0.2046 - val_loss: 0.3003\n",
            "Epoch 282/800\n",
            "15/15 [==============================] - 0s 691us/step - loss: 0.2025 - val_loss: 0.2979\n",
            "Epoch 283/800\n",
            "15/15 [==============================] - 0s 717us/step - loss: 0.2005 - val_loss: 0.2954\n",
            "Epoch 284/800\n",
            "15/15 [==============================] - 0s 448us/step - loss: 0.1985 - val_loss: 0.2931\n",
            "Epoch 285/800\n",
            "15/15 [==============================] - 0s 477us/step - loss: 0.1965 - val_loss: 0.2907\n",
            "Epoch 286/800\n",
            "15/15 [==============================] - 0s 601us/step - loss: 0.1946 - val_loss: 0.2883\n",
            "Epoch 287/800\n",
            "15/15 [==============================] - 0s 556us/step - loss: 0.1926 - val_loss: 0.2860\n",
            "Epoch 288/800\n",
            "15/15 [==============================] - 0s 688us/step - loss: 0.1907 - val_loss: 0.2837\n",
            "Epoch 289/800\n",
            "15/15 [==============================] - 0s 731us/step - loss: 0.1888 - val_loss: 0.2815\n",
            "Epoch 290/800\n",
            "15/15 [==============================] - 0s 512us/step - loss: 0.1869 - val_loss: 0.2792\n",
            "Epoch 291/800\n",
            "15/15 [==============================] - 0s 590us/step - loss: 0.1851 - val_loss: 0.2770\n",
            "Epoch 292/800\n",
            "15/15 [==============================] - 0s 630us/step - loss: 0.1832 - val_loss: 0.2748\n",
            "Epoch 293/800\n",
            "15/15 [==============================] - 0s 807us/step - loss: 0.1814 - val_loss: 0.2726\n",
            "Epoch 294/800\n",
            "15/15 [==============================] - 0s 886us/step - loss: 0.1796 - val_loss: 0.2704\n",
            "Epoch 295/800\n",
            "15/15 [==============================] - 0s 730us/step - loss: 0.1778 - val_loss: 0.2683\n",
            "Epoch 296/800\n",
            "15/15 [==============================] - 0s 690us/step - loss: 0.1760 - val_loss: 0.2661\n",
            "Epoch 297/800\n",
            "15/15 [==============================] - 0s 1ms/step - loss: 0.1743 - val_loss: 0.2640\n",
            "Epoch 298/800\n",
            "15/15 [==============================] - 0s 826us/step - loss: 0.1725 - val_loss: 0.2620\n",
            "Epoch 299/800\n",
            "15/15 [==============================] - 0s 1ms/step - loss: 0.1708 - val_loss: 0.2599\n",
            "Epoch 300/800\n",
            "15/15 [==============================] - 0s 638us/step - loss: 0.1691 - val_loss: 0.2579\n",
            "Epoch 301/800\n",
            "15/15 [==============================] - 0s 716us/step - loss: 0.1674 - val_loss: 0.2559\n",
            "Epoch 302/800\n",
            "15/15 [==============================] - 0s 849us/step - loss: 0.1658 - val_loss: 0.2539\n",
            "Epoch 303/800\n",
            "15/15 [==============================] - 0s 644us/step - loss: 0.1641 - val_loss: 0.2519\n",
            "Epoch 304/800\n",
            "15/15 [==============================] - 0s 815us/step - loss: 0.1625 - val_loss: 0.2499\n",
            "Epoch 305/800\n",
            "15/15 [==============================] - 0s 577us/step - loss: 0.1609 - val_loss: 0.2480\n",
            "Epoch 306/800\n",
            "15/15 [==============================] - 0s 695us/step - loss: 0.1593 - val_loss: 0.2461\n",
            "Epoch 307/800\n",
            "15/15 [==============================] - 0s 814us/step - loss: 0.1577 - val_loss: 0.2442\n",
            "Epoch 308/800\n",
            "15/15 [==============================] - 0s 797us/step - loss: 0.1562 - val_loss: 0.2423\n",
            "Epoch 309/800\n",
            "15/15 [==============================] - 0s 605us/step - loss: 0.1546 - val_loss: 0.2404\n",
            "Epoch 310/800\n",
            "15/15 [==============================] - 0s 691us/step - loss: 0.1531 - val_loss: 0.2386\n",
            "Epoch 311/800\n",
            "15/15 [==============================] - 0s 726us/step - loss: 0.1516 - val_loss: 0.2368\n",
            "Epoch 312/800\n",
            "15/15 [==============================] - 0s 622us/step - loss: 0.1501 - val_loss: 0.2349\n",
            "Epoch 313/800\n",
            "15/15 [==============================] - 0s 745us/step - loss: 0.1486 - val_loss: 0.2332\n",
            "Epoch 314/800\n",
            "15/15 [==============================] - 0s 631us/step - loss: 0.1472 - val_loss: 0.2314\n",
            "Epoch 315/800\n",
            "15/15 [==============================] - 0s 693us/step - loss: 0.1457 - val_loss: 0.2296\n",
            "Epoch 316/800\n",
            "15/15 [==============================] - 0s 473us/step - loss: 0.1443 - val_loss: 0.2279\n",
            "Epoch 317/800\n",
            "15/15 [==============================] - 0s 806us/step - loss: 0.1429 - val_loss: 0.2262\n",
            "Epoch 318/800\n",
            "15/15 [==============================] - 0s 843us/step - loss: 0.1415 - val_loss: 0.2245\n",
            "Epoch 319/800\n",
            "15/15 [==============================] - 0s 656us/step - loss: 0.1401 - val_loss: 0.2228\n",
            "Epoch 320/800\n",
            "15/15 [==============================] - 0s 748us/step - loss: 0.1388 - val_loss: 0.2211\n",
            "Epoch 321/800\n",
            "15/15 [==============================] - 0s 525us/step - loss: 0.1374 - val_loss: 0.2195\n",
            "Epoch 322/800\n",
            "15/15 [==============================] - 0s 723us/step - loss: 0.1361 - val_loss: 0.2178\n",
            "Epoch 323/800\n",
            "15/15 [==============================] - 0s 602us/step - loss: 0.1348 - val_loss: 0.2162\n",
            "Epoch 324/800\n",
            "15/15 [==============================] - 0s 780us/step - loss: 0.1334 - val_loss: 0.2146\n",
            "Epoch 325/800\n",
            "15/15 [==============================] - 0s 753us/step - loss: 0.1322 - val_loss: 0.2130\n",
            "Epoch 326/800\n",
            "15/15 [==============================] - 0s 687us/step - loss: 0.1309 - val_loss: 0.2114\n",
            "Epoch 327/800\n",
            "15/15 [==============================] - 0s 766us/step - loss: 0.1296 - val_loss: 0.2099\n",
            "Epoch 328/800\n",
            "15/15 [==============================] - 0s 778us/step - loss: 0.1284 - val_loss: 0.2083\n",
            "Epoch 329/800\n",
            "15/15 [==============================] - 0s 641us/step - loss: 0.1271 - val_loss: 0.2068\n",
            "Epoch 330/800\n",
            "15/15 [==============================] - 0s 728us/step - loss: 0.1259 - val_loss: 0.2053\n",
            "Epoch 331/800\n",
            "15/15 [==============================] - 0s 678us/step - loss: 0.1247 - val_loss: 0.2038\n",
            "Epoch 332/800\n",
            "15/15 [==============================] - 0s 534us/step - loss: 0.1235 - val_loss: 0.2023\n",
            "Epoch 333/800\n",
            "15/15 [==============================] - 0s 626us/step - loss: 0.1223 - val_loss: 0.2008\n",
            "Epoch 334/800\n",
            "15/15 [==============================] - 0s 712us/step - loss: 0.1212 - val_loss: 0.1994\n",
            "Epoch 335/800\n",
            "15/15 [==============================] - 0s 699us/step - loss: 0.1200 - val_loss: 0.1980\n",
            "Epoch 336/800\n",
            "15/15 [==============================] - 0s 577us/step - loss: 0.1189 - val_loss: 0.1965\n",
            "Epoch 337/800\n",
            "15/15 [==============================] - 0s 642us/step - loss: 0.1177 - val_loss: 0.1951\n",
            "Epoch 338/800\n",
            "15/15 [==============================] - 0s 530us/step - loss: 0.1166 - val_loss: 0.1937\n",
            "Epoch 339/800\n",
            "15/15 [==============================] - 0s 691us/step - loss: 0.1155 - val_loss: 0.1923\n",
            "Epoch 340/800\n",
            "15/15 [==============================] - 0s 579us/step - loss: 0.1144 - val_loss: 0.1909\n",
            "Epoch 341/800\n",
            "15/15 [==============================] - 0s 506us/step - loss: 0.1133 - val_loss: 0.1896\n",
            "Epoch 342/800\n",
            "15/15 [==============================] - 0s 623us/step - loss: 0.1123 - val_loss: 0.1882\n",
            "Epoch 343/800\n",
            "15/15 [==============================] - 0s 776us/step - loss: 0.1112 - val_loss: 0.1869\n",
            "Epoch 344/800\n",
            "15/15 [==============================] - 0s 757us/step - loss: 0.1102 - val_loss: 0.1856\n",
            "Epoch 345/800\n",
            "15/15 [==============================] - 0s 713us/step - loss: 0.1091 - val_loss: 0.1843\n",
            "Epoch 346/800\n",
            "15/15 [==============================] - 0s 628us/step - loss: 0.1081 - val_loss: 0.1830\n",
            "Epoch 347/800\n",
            "15/15 [==============================] - 0s 873us/step - loss: 0.1071 - val_loss: 0.1817\n",
            "Epoch 348/800\n",
            "15/15 [==============================] - 0s 895us/step - loss: 0.1061 - val_loss: 0.1804\n",
            "Epoch 349/800\n",
            "15/15 [==============================] - 0s 908us/step - loss: 0.1051 - val_loss: 0.1792\n",
            "Epoch 350/800\n",
            "15/15 [==============================] - 0s 712us/step - loss: 0.1041 - val_loss: 0.1779\n",
            "Epoch 351/800\n",
            "15/15 [==============================] - 0s 891us/step - loss: 0.1031 - val_loss: 0.1767\n",
            "Epoch 352/800\n",
            "15/15 [==============================] - 0s 875us/step - loss: 0.1022 - val_loss: 0.1755\n",
            "Epoch 353/800\n",
            "15/15 [==============================] - 0s 1ms/step - loss: 0.1012 - val_loss: 0.1742\n",
            "Epoch 354/800\n",
            "15/15 [==============================] - 0s 1ms/step - loss: 0.1003 - val_loss: 0.1730\n",
            "Epoch 355/800\n",
            "15/15 [==============================] - 0s 983us/step - loss: 0.0994 - val_loss: 0.1719\n",
            "Epoch 356/800\n",
            "15/15 [==============================] - 0s 816us/step - loss: 0.0984 - val_loss: 0.1707\n",
            "Epoch 357/800\n",
            "15/15 [==============================] - 0s 821us/step - loss: 0.0975 - val_loss: 0.1695\n",
            "Epoch 358/800\n",
            "15/15 [==============================] - 0s 757us/step - loss: 0.0966 - val_loss: 0.1684\n",
            "Epoch 359/800\n",
            "15/15 [==============================] - 0s 557us/step - loss: 0.0957 - val_loss: 0.1672\n",
            "Epoch 360/800\n",
            "15/15 [==============================] - 0s 907us/step - loss: 0.0949 - val_loss: 0.1661\n",
            "Epoch 361/800\n",
            "15/15 [==============================] - 0s 594us/step - loss: 0.0940 - val_loss: 0.1649\n",
            "Epoch 362/800\n",
            "15/15 [==============================] - 0s 645us/step - loss: 0.0931 - val_loss: 0.1638\n",
            "Epoch 363/800\n",
            "15/15 [==============================] - 0s 733us/step - loss: 0.0923 - val_loss: 0.1627\n",
            "Epoch 364/800\n",
            "15/15 [==============================] - 0s 783us/step - loss: 0.0914 - val_loss: 0.1616\n",
            "Epoch 365/800\n",
            "15/15 [==============================] - 0s 815us/step - loss: 0.0906 - val_loss: 0.1605\n",
            "Epoch 366/800\n",
            "15/15 [==============================] - 0s 954us/step - loss: 0.0898 - val_loss: 0.1595\n",
            "Epoch 367/800\n",
            "15/15 [==============================] - 0s 512us/step - loss: 0.0889 - val_loss: 0.1584\n",
            "Epoch 368/800\n",
            "15/15 [==============================] - 0s 607us/step - loss: 0.0881 - val_loss: 0.1573\n",
            "Epoch 369/800\n",
            "15/15 [==============================] - 0s 674us/step - loss: 0.0873 - val_loss: 0.1563\n",
            "Epoch 370/800\n",
            "15/15 [==============================] - 0s 671us/step - loss: 0.0865 - val_loss: 0.1553\n",
            "Epoch 371/800\n",
            "15/15 [==============================] - 0s 458us/step - loss: 0.0857 - val_loss: 0.1542\n",
            "Epoch 372/800\n",
            "15/15 [==============================] - 0s 682us/step - loss: 0.0850 - val_loss: 0.1532\n",
            "Epoch 373/800\n",
            "15/15 [==============================] - 0s 643us/step - loss: 0.0842 - val_loss: 0.1522\n",
            "Epoch 374/800\n",
            "15/15 [==============================] - 0s 847us/step - loss: 0.0834 - val_loss: 0.1512\n",
            "Epoch 375/800\n",
            "15/15 [==============================] - 0s 567us/step - loss: 0.0827 - val_loss: 0.1502\n",
            "Epoch 376/800\n",
            "15/15 [==============================] - 0s 755us/step - loss: 0.0819 - val_loss: 0.1492\n",
            "Epoch 377/800\n",
            "15/15 [==============================] - 0s 685us/step - loss: 0.0812 - val_loss: 0.1482\n",
            "Epoch 378/800\n",
            "15/15 [==============================] - 0s 577us/step - loss: 0.0805 - val_loss: 0.1473\n",
            "Epoch 379/800\n",
            "15/15 [==============================] - 0s 689us/step - loss: 0.0797 - val_loss: 0.1463\n",
            "Epoch 380/800\n",
            "15/15 [==============================] - 0s 643us/step - loss: 0.0790 - val_loss: 0.1453\n",
            "Epoch 381/800\n",
            "15/15 [==============================] - 0s 635us/step - loss: 0.0783 - val_loss: 0.1444\n",
            "Epoch 382/800\n",
            "15/15 [==============================] - 0s 432us/step - loss: 0.0776 - val_loss: 0.1435\n",
            "Epoch 383/800\n",
            "15/15 [==============================] - 0s 563us/step - loss: 0.0769 - val_loss: 0.1425\n",
            "Epoch 384/800\n",
            "15/15 [==============================] - 0s 409us/step - loss: 0.0762 - val_loss: 0.1416\n",
            "Epoch 385/800\n",
            "15/15 [==============================] - 0s 666us/step - loss: 0.0755 - val_loss: 0.1407\n",
            "Epoch 386/800\n",
            "15/15 [==============================] - 0s 676us/step - loss: 0.0749 - val_loss: 0.1398\n",
            "Epoch 387/800\n",
            "15/15 [==============================] - 0s 699us/step - loss: 0.0742 - val_loss: 0.1389\n",
            "Epoch 388/800\n",
            "15/15 [==============================] - 0s 633us/step - loss: 0.0735 - val_loss: 0.1380\n",
            "Epoch 389/800\n",
            "15/15 [==============================] - 0s 642us/step - loss: 0.0729 - val_loss: 0.1372\n",
            "Epoch 390/800\n",
            "15/15 [==============================] - 0s 769us/step - loss: 0.0722 - val_loss: 0.1363\n",
            "Epoch 391/800\n",
            "15/15 [==============================] - 0s 755us/step - loss: 0.0716 - val_loss: 0.1354\n",
            "Epoch 392/800\n",
            "15/15 [==============================] - 0s 739us/step - loss: 0.0710 - val_loss: 0.1346\n",
            "Epoch 393/800\n",
            "15/15 [==============================] - 0s 814us/step - loss: 0.0704 - val_loss: 0.1337\n",
            "Epoch 394/800\n",
            "15/15 [==============================] - 0s 690us/step - loss: 0.0697 - val_loss: 0.1329\n",
            "Epoch 395/800\n",
            "15/15 [==============================] - 0s 598us/step - loss: 0.0691 - val_loss: 0.1321\n",
            "Epoch 396/800\n",
            "15/15 [==============================] - 0s 634us/step - loss: 0.0685 - val_loss: 0.1313\n",
            "Epoch 397/800\n",
            "15/15 [==============================] - 0s 803us/step - loss: 0.0679 - val_loss: 0.1305\n",
            "Epoch 398/800\n",
            "15/15 [==============================] - 0s 634us/step - loss: 0.0673 - val_loss: 0.1296\n",
            "Epoch 399/800\n",
            "15/15 [==============================] - 0s 696us/step - loss: 0.0667 - val_loss: 0.1288\n",
            "Epoch 400/800\n",
            "15/15 [==============================] - 0s 684us/step - loss: 0.0662 - val_loss: 0.1281\n",
            "Epoch 401/800\n",
            "15/15 [==============================] - 0s 665us/step - loss: 0.0656 - val_loss: 0.1273\n",
            "Epoch 402/800\n",
            "15/15 [==============================] - 0s 938us/step - loss: 0.0650 - val_loss: 0.1265\n",
            "Epoch 403/800\n",
            "15/15 [==============================] - 0s 652us/step - loss: 0.0645 - val_loss: 0.1257\n",
            "Epoch 404/800\n",
            "15/15 [==============================] - 0s 707us/step - loss: 0.0639 - val_loss: 0.1250\n",
            "Epoch 405/800\n",
            "15/15 [==============================] - 0s 548us/step - loss: 0.0634 - val_loss: 0.1242\n",
            "Epoch 406/800\n",
            "15/15 [==============================] - 0s 685us/step - loss: 0.0628 - val_loss: 0.1235\n",
            "Epoch 407/800\n",
            "15/15 [==============================] - 0s 698us/step - loss: 0.0623 - val_loss: 0.1227\n",
            "Epoch 408/800\n",
            "15/15 [==============================] - 0s 786us/step - loss: 0.0618 - val_loss: 0.1220\n",
            "Epoch 409/800\n",
            "15/15 [==============================] - 0s 561us/step - loss: 0.0612 - val_loss: 0.1213\n",
            "Epoch 410/800\n",
            "15/15 [==============================] - 0s 988us/step - loss: 0.0607 - val_loss: 0.1205\n",
            "Epoch 411/800\n",
            "15/15 [==============================] - 0s 811us/step - loss: 0.0602 - val_loss: 0.1198\n",
            "Epoch 412/800\n",
            "15/15 [==============================] - 0s 525us/step - loss: 0.0597 - val_loss: 0.1191\n",
            "Epoch 413/800\n",
            "15/15 [==============================] - 0s 598us/step - loss: 0.0592 - val_loss: 0.1184\n",
            "Epoch 414/800\n",
            "15/15 [==============================] - 0s 608us/step - loss: 0.0587 - val_loss: 0.1177\n",
            "Epoch 415/800\n",
            "15/15 [==============================] - 0s 586us/step - loss: 0.0582 - val_loss: 0.1170\n",
            "Epoch 416/800\n",
            "15/15 [==============================] - 0s 612us/step - loss: 0.0577 - val_loss: 0.1164\n",
            "Epoch 417/800\n",
            "15/15 [==============================] - 0s 472us/step - loss: 0.0572 - val_loss: 0.1157\n",
            "Epoch 418/800\n",
            "15/15 [==============================] - 0s 583us/step - loss: 0.0568 - val_loss: 0.1150\n",
            "Epoch 419/800\n",
            "15/15 [==============================] - 0s 816us/step - loss: 0.0563 - val_loss: 0.1143\n",
            "Epoch 420/800\n",
            "15/15 [==============================] - 0s 536us/step - loss: 0.0558 - val_loss: 0.1137\n",
            "Epoch 421/800\n",
            "15/15 [==============================] - 0s 712us/step - loss: 0.0554 - val_loss: 0.1130\n",
            "Epoch 422/800\n",
            "15/15 [==============================] - 0s 629us/step - loss: 0.0549 - val_loss: 0.1124\n",
            "Epoch 423/800\n",
            "15/15 [==============================] - 0s 679us/step - loss: 0.0545 - val_loss: 0.1118\n",
            "Epoch 424/800\n",
            "15/15 [==============================] - 0s 855us/step - loss: 0.0540 - val_loss: 0.1111\n",
            "Epoch 425/800\n",
            "15/15 [==============================] - 0s 650us/step - loss: 0.0536 - val_loss: 0.1105\n",
            "Epoch 426/800\n",
            "15/15 [==============================] - 0s 676us/step - loss: 0.0531 - val_loss: 0.1099\n",
            "Epoch 427/800\n",
            "15/15 [==============================] - 0s 701us/step - loss: 0.0527 - val_loss: 0.1093\n",
            "Epoch 428/800\n",
            "15/15 [==============================] - 0s 539us/step - loss: 0.0523 - val_loss: 0.1086\n",
            "Epoch 429/800\n",
            "15/15 [==============================] - 0s 653us/step - loss: 0.0519 - val_loss: 0.1080\n",
            "Epoch 430/800\n",
            "15/15 [==============================] - 0s 532us/step - loss: 0.0514 - val_loss: 0.1074\n",
            "Epoch 431/800\n",
            "15/15 [==============================] - 0s 610us/step - loss: 0.0510 - val_loss: 0.1068\n",
            "Epoch 432/800\n",
            "15/15 [==============================] - 0s 731us/step - loss: 0.0506 - val_loss: 0.1063\n",
            "Epoch 433/800\n",
            "15/15 [==============================] - 0s 519us/step - loss: 0.0502 - val_loss: 0.1057\n",
            "Epoch 434/800\n",
            "15/15 [==============================] - 0s 596us/step - loss: 0.0498 - val_loss: 0.1051\n",
            "Epoch 435/800\n",
            "15/15 [==============================] - 0s 644us/step - loss: 0.0494 - val_loss: 0.1045\n",
            "Epoch 436/800\n",
            "15/15 [==============================] - 0s 646us/step - loss: 0.0490 - val_loss: 0.1039\n",
            "Epoch 437/800\n",
            "15/15 [==============================] - 0s 964us/step - loss: 0.0486 - val_loss: 0.1033\n",
            "Epoch 438/800\n",
            "15/15 [==============================] - 0s 740us/step - loss: 0.0483 - val_loss: 0.1028\n",
            "Epoch 439/800\n",
            "15/15 [==============================] - 0s 664us/step - loss: 0.0479 - val_loss: 0.1022\n",
            "Epoch 440/800\n",
            "15/15 [==============================] - 0s 578us/step - loss: 0.0475 - val_loss: 0.1016\n",
            "Epoch 441/800\n",
            "15/15 [==============================] - 0s 667us/step - loss: 0.0471 - val_loss: 0.1011\n",
            "Epoch 442/800\n",
            "15/15 [==============================] - 0s 462us/step - loss: 0.0468 - val_loss: 0.1005\n",
            "Epoch 443/800\n",
            "15/15 [==============================] - 0s 1ms/step - loss: 0.0464 - val_loss: 0.0999\n",
            "Epoch 444/800\n",
            "15/15 [==============================] - 0s 948us/step - loss: 0.0460 - val_loss: 0.0994\n",
            "Epoch 445/800\n",
            "15/15 [==============================] - 0s 806us/step - loss: 0.0457 - val_loss: 0.0989\n",
            "Epoch 446/800\n",
            "15/15 [==============================] - 0s 906us/step - loss: 0.0453 - val_loss: 0.0983\n",
            "Epoch 447/800\n",
            "15/15 [==============================] - 0s 656us/step - loss: 0.0450 - val_loss: 0.0978\n",
            "Epoch 448/800\n",
            "15/15 [==============================] - 0s 783us/step - loss: 0.0447 - val_loss: 0.0972\n",
            "Epoch 449/800\n",
            "15/15 [==============================] - 0s 673us/step - loss: 0.0443 - val_loss: 0.0967\n",
            "Epoch 450/800\n",
            "15/15 [==============================] - 0s 553us/step - loss: 0.0440 - val_loss: 0.0962\n",
            "Epoch 451/800\n",
            "15/15 [==============================] - 0s 737us/step - loss: 0.0436 - val_loss: 0.0957\n",
            "Epoch 452/800\n",
            "15/15 [==============================] - 0s 866us/step - loss: 0.0433 - val_loss: 0.0952\n",
            "Epoch 453/800\n",
            "15/15 [==============================] - 0s 573us/step - loss: 0.0430 - val_loss: 0.0947\n",
            "Epoch 454/800\n",
            "15/15 [==============================] - 0s 797us/step - loss: 0.0427 - val_loss: 0.0942\n",
            "Epoch 455/800\n",
            "15/15 [==============================] - 0s 770us/step - loss: 0.0424 - val_loss: 0.0937\n",
            "Epoch 456/800\n",
            "15/15 [==============================] - 0s 687us/step - loss: 0.0420 - val_loss: 0.0932\n",
            "Epoch 457/800\n",
            "15/15 [==============================] - 0s 549us/step - loss: 0.0417 - val_loss: 0.0927\n",
            "Epoch 458/800\n",
            "15/15 [==============================] - 0s 691us/step - loss: 0.0414 - val_loss: 0.0922\n",
            "Epoch 459/800\n",
            "15/15 [==============================] - 0s 776us/step - loss: 0.0411 - val_loss: 0.0917\n",
            "Epoch 460/800\n",
            "15/15 [==============================] - 0s 489us/step - loss: 0.0408 - val_loss: 0.0913\n",
            "Epoch 461/800\n",
            "15/15 [==============================] - 0s 603us/step - loss: 0.0405 - val_loss: 0.0908\n",
            "Epoch 462/800\n",
            "15/15 [==============================] - 0s 670us/step - loss: 0.0402 - val_loss: 0.0903\n",
            "Epoch 463/800\n",
            "15/15 [==============================] - 0s 657us/step - loss: 0.0399 - val_loss: 0.0899\n",
            "Epoch 464/800\n",
            "15/15 [==============================] - 0s 798us/step - loss: 0.0397 - val_loss: 0.0894\n",
            "Epoch 465/800\n",
            "15/15 [==============================] - 0s 721us/step - loss: 0.0394 - val_loss: 0.0890\n",
            "Epoch 466/800\n",
            "15/15 [==============================] - 0s 720us/step - loss: 0.0391 - val_loss: 0.0885\n",
            "Epoch 467/800\n",
            "15/15 [==============================] - 0s 782us/step - loss: 0.0388 - val_loss: 0.0881\n",
            "Epoch 468/800\n",
            "15/15 [==============================] - 0s 816us/step - loss: 0.0385 - val_loss: 0.0876\n",
            "Epoch 469/800\n",
            "15/15 [==============================] - 0s 654us/step - loss: 0.0383 - val_loss: 0.0872\n",
            "Epoch 470/800\n",
            "15/15 [==============================] - 0s 805us/step - loss: 0.0380 - val_loss: 0.0867\n",
            "Epoch 471/800\n",
            "15/15 [==============================] - 0s 830us/step - loss: 0.0377 - val_loss: 0.0863\n",
            "Epoch 472/800\n",
            "15/15 [==============================] - 0s 655us/step - loss: 0.0375 - val_loss: 0.0859\n",
            "Epoch 473/800\n",
            "15/15 [==============================] - 0s 707us/step - loss: 0.0372 - val_loss: 0.0855\n",
            "Epoch 474/800\n",
            "15/15 [==============================] - 0s 749us/step - loss: 0.0369 - val_loss: 0.0850\n",
            "Epoch 475/800\n",
            "15/15 [==============================] - 0s 699us/step - loss: 0.0367 - val_loss: 0.0846\n",
            "Epoch 476/800\n",
            "15/15 [==============================] - 0s 765us/step - loss: 0.0364 - val_loss: 0.0842\n",
            "Epoch 477/800\n",
            "15/15 [==============================] - 0s 461us/step - loss: 0.0362 - val_loss: 0.0838\n",
            "Epoch 478/800\n",
            "15/15 [==============================] - 0s 996us/step - loss: 0.0359 - val_loss: 0.0834\n",
            "Epoch 479/800\n",
            "15/15 [==============================] - 0s 665us/step - loss: 0.0357 - val_loss: 0.0830\n",
            "Epoch 480/800\n",
            "15/15 [==============================] - 0s 860us/step - loss: 0.0355 - val_loss: 0.0826\n",
            "Epoch 481/800\n",
            "15/15 [==============================] - 0s 944us/step - loss: 0.0352 - val_loss: 0.0822\n",
            "Epoch 482/800\n",
            "15/15 [==============================] - 0s 687us/step - loss: 0.0350 - val_loss: 0.0818\n",
            "Epoch 483/800\n",
            "15/15 [==============================] - 0s 756us/step - loss: 0.0348 - val_loss: 0.0814\n",
            "Epoch 484/800\n",
            "15/15 [==============================] - 0s 749us/step - loss: 0.0345 - val_loss: 0.0811\n",
            "Epoch 485/800\n",
            "15/15 [==============================] - 0s 881us/step - loss: 0.0343 - val_loss: 0.0807\n",
            "Epoch 486/800\n",
            "15/15 [==============================] - 0s 826us/step - loss: 0.0341 - val_loss: 0.0803\n",
            "Epoch 487/800\n",
            "15/15 [==============================] - 0s 665us/step - loss: 0.0338 - val_loss: 0.0799\n",
            "Epoch 488/800\n",
            "15/15 [==============================] - 0s 718us/step - loss: 0.0336 - val_loss: 0.0796\n",
            "Epoch 489/800\n",
            "15/15 [==============================] - 0s 549us/step - loss: 0.0334 - val_loss: 0.0792\n",
            "Epoch 490/800\n",
            "15/15 [==============================] - 0s 699us/step - loss: 0.0332 - val_loss: 0.0788\n",
            "Epoch 491/800\n",
            "15/15 [==============================] - 0s 742us/step - loss: 0.0330 - val_loss: 0.0785\n",
            "Epoch 492/800\n",
            "15/15 [==============================] - 0s 893us/step - loss: 0.0328 - val_loss: 0.0781\n",
            "Epoch 493/800\n",
            "15/15 [==============================] - 0s 738us/step - loss: 0.0326 - val_loss: 0.0778\n",
            "Epoch 494/800\n",
            "15/15 [==============================] - 0s 531us/step - loss: 0.0323 - val_loss: 0.0774\n",
            "Epoch 495/800\n",
            "15/15 [==============================] - 0s 777us/step - loss: 0.0321 - val_loss: 0.0771\n",
            "Epoch 496/800\n",
            "15/15 [==============================] - 0s 702us/step - loss: 0.0319 - val_loss: 0.0767\n",
            "Epoch 497/800\n",
            "15/15 [==============================] - 0s 649us/step - loss: 0.0317 - val_loss: 0.0764\n",
            "Epoch 498/800\n",
            "15/15 [==============================] - 0s 840us/step - loss: 0.0315 - val_loss: 0.0761\n",
            "Epoch 499/800\n",
            "15/15 [==============================] - 0s 721us/step - loss: 0.0313 - val_loss: 0.0757\n",
            "Epoch 500/800\n",
            "15/15 [==============================] - 0s 732us/step - loss: 0.0311 - val_loss: 0.0754\n",
            "Epoch 501/800\n",
            "15/15 [==============================] - 0s 890us/step - loss: 0.0310 - val_loss: 0.0751\n",
            "Epoch 502/800\n",
            "15/15 [==============================] - 0s 767us/step - loss: 0.0308 - val_loss: 0.0747\n",
            "Epoch 503/800\n",
            "15/15 [==============================] - 0s 671us/step - loss: 0.0306 - val_loss: 0.0744\n",
            "Epoch 504/800\n",
            "15/15 [==============================] - 0s 589us/step - loss: 0.0304 - val_loss: 0.0741\n",
            "Epoch 505/800\n",
            "15/15 [==============================] - 0s 597us/step - loss: 0.0302 - val_loss: 0.0738\n",
            "Epoch 506/800\n",
            "15/15 [==============================] - 0s 695us/step - loss: 0.0300 - val_loss: 0.0735\n",
            "Epoch 507/800\n",
            "15/15 [==============================] - 0s 566us/step - loss: 0.0298 - val_loss: 0.0731\n",
            "Epoch 508/800\n",
            "15/15 [==============================] - 0s 2ms/step - loss: 0.0297 - val_loss: 0.0728\n",
            "Epoch 509/800\n",
            "15/15 [==============================] - 0s 767us/step - loss: 0.0295 - val_loss: 0.0725\n",
            "Epoch 510/800\n",
            "15/15 [==============================] - 0s 724us/step - loss: 0.0293 - val_loss: 0.0722\n",
            "Epoch 511/800\n",
            "15/15 [==============================] - 0s 623us/step - loss: 0.0291 - val_loss: 0.0719\n",
            "Epoch 512/800\n",
            "15/15 [==============================] - 0s 746us/step - loss: 0.0290 - val_loss: 0.0716\n",
            "Epoch 513/800\n",
            "15/15 [==============================] - 0s 701us/step - loss: 0.0288 - val_loss: 0.0713\n",
            "Epoch 514/800\n",
            "15/15 [==============================] - 0s 651us/step - loss: 0.0286 - val_loss: 0.0710\n",
            "Epoch 515/800\n",
            "15/15 [==============================] - 0s 682us/step - loss: 0.0285 - val_loss: 0.0707\n",
            "Epoch 516/800\n",
            "15/15 [==============================] - 0s 706us/step - loss: 0.0283 - val_loss: 0.0705\n",
            "Epoch 517/800\n",
            "15/15 [==============================] - 0s 807us/step - loss: 0.0281 - val_loss: 0.0702\n",
            "Epoch 518/800\n",
            "15/15 [==============================] - 0s 728us/step - loss: 0.0280 - val_loss: 0.0699\n",
            "Epoch 519/800\n",
            "15/15 [==============================] - 0s 583us/step - loss: 0.0278 - val_loss: 0.0696\n",
            "Epoch 520/800\n",
            "15/15 [==============================] - 0s 926us/step - loss: 0.0277 - val_loss: 0.0693\n",
            "Epoch 521/800\n",
            "15/15 [==============================] - 0s 799us/step - loss: 0.0275 - val_loss: 0.0690\n",
            "Epoch 522/800\n",
            "15/15 [==============================] - 0s 662us/step - loss: 0.0274 - val_loss: 0.0688\n",
            "Epoch 523/800\n",
            "15/15 [==============================] - 0s 541us/step - loss: 0.0272 - val_loss: 0.0685\n",
            "Epoch 524/800\n",
            "15/15 [==============================] - 0s 542us/step - loss: 0.0271 - val_loss: 0.0682\n",
            "Epoch 525/800\n",
            "15/15 [==============================] - 0s 510us/step - loss: 0.0269 - val_loss: 0.0680\n",
            "Epoch 526/800\n",
            "15/15 [==============================] - 0s 1ms/step - loss: 0.0268 - val_loss: 0.0677\n",
            "Epoch 527/800\n",
            "15/15 [==============================] - 0s 981us/step - loss: 0.0266 - val_loss: 0.0674\n",
            "Epoch 528/800\n",
            "15/15 [==============================] - 0s 632us/step - loss: 0.0265 - val_loss: 0.0672\n",
            "Epoch 529/800\n",
            "15/15 [==============================] - 0s 672us/step - loss: 0.0263 - val_loss: 0.0669\n",
            "Epoch 530/800\n",
            "15/15 [==============================] - 0s 707us/step - loss: 0.0262 - val_loss: 0.0667\n",
            "Epoch 531/800\n",
            "15/15 [==============================] - 0s 599us/step - loss: 0.0260 - val_loss: 0.0664\n",
            "Epoch 532/800\n",
            "15/15 [==============================] - 0s 568us/step - loss: 0.0259 - val_loss: 0.0662\n",
            "Epoch 533/800\n",
            "15/15 [==============================] - 0s 539us/step - loss: 0.0258 - val_loss: 0.0659\n",
            "Epoch 534/800\n",
            "15/15 [==============================] - 0s 583us/step - loss: 0.0256 - val_loss: 0.0657\n",
            "Epoch 535/800\n",
            "15/15 [==============================] - 0s 521us/step - loss: 0.0255 - val_loss: 0.0654\n",
            "Epoch 536/800\n",
            "15/15 [==============================] - 0s 612us/step - loss: 0.0254 - val_loss: 0.0652\n",
            "Epoch 537/800\n",
            "15/15 [==============================] - 0s 538us/step - loss: 0.0252 - val_loss: 0.0650\n",
            "Epoch 538/800\n",
            "15/15 [==============================] - 0s 504us/step - loss: 0.0251 - val_loss: 0.0647\n",
            "Epoch 539/800\n",
            "15/15 [==============================] - 0s 618us/step - loss: 0.0250 - val_loss: 0.0645\n",
            "Epoch 540/800\n",
            "15/15 [==============================] - 0s 706us/step - loss: 0.0249 - val_loss: 0.0642\n",
            "Epoch 541/800\n",
            "15/15 [==============================] - 0s 667us/step - loss: 0.0247 - val_loss: 0.0640\n",
            "Epoch 542/800\n",
            "15/15 [==============================] - 0s 727us/step - loss: 0.0246 - val_loss: 0.0638\n",
            "Epoch 543/800\n",
            "15/15 [==============================] - 0s 797us/step - loss: 0.0245 - val_loss: 0.0636\n",
            "Epoch 544/800\n",
            "15/15 [==============================] - 0s 667us/step - loss: 0.0244 - val_loss: 0.0633\n",
            "Epoch 545/800\n",
            "15/15 [==============================] - 0s 695us/step - loss: 0.0242 - val_loss: 0.0631\n",
            "Epoch 546/800\n",
            "15/15 [==============================] - 0s 712us/step - loss: 0.0241 - val_loss: 0.0629\n",
            "Epoch 547/800\n",
            "15/15 [==============================] - 0s 659us/step - loss: 0.0240 - val_loss: 0.0627\n",
            "Epoch 548/800\n",
            "15/15 [==============================] - 0s 614us/step - loss: 0.0239 - val_loss: 0.0624\n",
            "Epoch 549/800\n",
            "15/15 [==============================] - 0s 545us/step - loss: 0.0238 - val_loss: 0.0622\n",
            "Epoch 550/800\n",
            "15/15 [==============================] - 0s 698us/step - loss: 0.0237 - val_loss: 0.0620\n",
            "Epoch 551/800\n",
            "15/15 [==============================] - 0s 532us/step - loss: 0.0236 - val_loss: 0.0618\n",
            "Epoch 552/800\n",
            "15/15 [==============================] - 0s 724us/step - loss: 0.0234 - val_loss: 0.0616\n",
            "Epoch 553/800\n",
            "15/15 [==============================] - 0s 789us/step - loss: 0.0233 - val_loss: 0.0614\n",
            "Epoch 554/800\n",
            "15/15 [==============================] - 0s 613us/step - loss: 0.0232 - val_loss: 0.0612\n",
            "Epoch 555/800\n",
            "15/15 [==============================] - 0s 689us/step - loss: 0.0231 - val_loss: 0.0610\n",
            "Epoch 556/800\n",
            "15/15 [==============================] - 0s 786us/step - loss: 0.0230 - val_loss: 0.0608\n",
            "Epoch 557/800\n",
            "15/15 [==============================] - 0s 765us/step - loss: 0.0229 - val_loss: 0.0606\n",
            "Epoch 558/800\n",
            "15/15 [==============================] - 0s 855us/step - loss: 0.0228 - val_loss: 0.0604\n",
            "Epoch 559/800\n",
            "15/15 [==============================] - 0s 833us/step - loss: 0.0227 - val_loss: 0.0602\n",
            "Epoch 560/800\n",
            "15/15 [==============================] - 0s 694us/step - loss: 0.0226 - val_loss: 0.0600\n",
            "Epoch 561/800\n",
            "15/15 [==============================] - 0s 786us/step - loss: 0.0225 - val_loss: 0.0598\n",
            "Epoch 562/800\n",
            "15/15 [==============================] - 0s 647us/step - loss: 0.0224 - val_loss: 0.0596\n",
            "Epoch 563/800\n",
            "15/15 [==============================] - 0s 635us/step - loss: 0.0223 - val_loss: 0.0594\n",
            "Epoch 564/800\n",
            "15/15 [==============================] - 0s 786us/step - loss: 0.0222 - val_loss: 0.0592\n",
            "Epoch 565/800\n",
            "15/15 [==============================] - 0s 979us/step - loss: 0.0221 - val_loss: 0.0590\n",
            "Epoch 566/800\n",
            "15/15 [==============================] - 0s 776us/step - loss: 0.0220 - val_loss: 0.0588\n",
            "Epoch 567/800\n",
            "15/15 [==============================] - 0s 736us/step - loss: 0.0219 - val_loss: 0.0587\n",
            "Epoch 568/800\n",
            "15/15 [==============================] - 0s 648us/step - loss: 0.0218 - val_loss: 0.0585\n",
            "Epoch 569/800\n",
            "15/15 [==============================] - 0s 933us/step - loss: 0.0217 - val_loss: 0.0583\n",
            "Epoch 570/800\n",
            "15/15 [==============================] - 0s 763us/step - loss: 0.0216 - val_loss: 0.0581\n",
            "Epoch 571/800\n",
            "15/15 [==============================] - 0s 799us/step - loss: 0.0215 - val_loss: 0.0579\n",
            "Epoch 572/800\n",
            "15/15 [==============================] - 0s 703us/step - loss: 0.0214 - val_loss: 0.0578\n",
            "Epoch 573/800\n",
            "15/15 [==============================] - 0s 667us/step - loss: 0.0214 - val_loss: 0.0576\n",
            "Epoch 574/800\n",
            "15/15 [==============================] - 0s 666us/step - loss: 0.0213 - val_loss: 0.0574\n",
            "Epoch 575/800\n",
            "15/15 [==============================] - 0s 597us/step - loss: 0.0212 - val_loss: 0.0572\n",
            "Epoch 576/800\n",
            "15/15 [==============================] - 0s 728us/step - loss: 0.0211 - val_loss: 0.0571\n",
            "Epoch 577/800\n",
            "15/15 [==============================] - 0s 544us/step - loss: 0.0210 - val_loss: 0.0569\n",
            "Epoch 578/800\n",
            "15/15 [==============================] - 0s 861us/step - loss: 0.0209 - val_loss: 0.0567\n",
            "Epoch 579/800\n",
            "15/15 [==============================] - 0s 608us/step - loss: 0.0208 - val_loss: 0.0566\n",
            "Epoch 580/800\n",
            "15/15 [==============================] - 0s 648us/step - loss: 0.0208 - val_loss: 0.0564\n",
            "Epoch 581/800\n",
            "15/15 [==============================] - 0s 689us/step - loss: 0.0207 - val_loss: 0.0562\n",
            "Epoch 582/800\n",
            "15/15 [==============================] - 0s 693us/step - loss: 0.0206 - val_loss: 0.0561\n",
            "Epoch 583/800\n",
            "15/15 [==============================] - 0s 694us/step - loss: 0.0205 - val_loss: 0.0559\n",
            "Epoch 584/800\n",
            "15/15 [==============================] - 0s 574us/step - loss: 0.0204 - val_loss: 0.0558\n",
            "Epoch 585/800\n",
            "15/15 [==============================] - 0s 705us/step - loss: 0.0204 - val_loss: 0.0556\n",
            "Epoch 586/800\n",
            "15/15 [==============================] - 0s 685us/step - loss: 0.0203 - val_loss: 0.0554\n",
            "Epoch 587/800\n",
            "15/15 [==============================] - 0s 771us/step - loss: 0.0202 - val_loss: 0.0553\n",
            "Epoch 588/800\n",
            "15/15 [==============================] - 0s 757us/step - loss: 0.0201 - val_loss: 0.0551\n",
            "Epoch 589/800\n",
            "15/15 [==============================] - 0s 845us/step - loss: 0.0201 - val_loss: 0.0550\n",
            "Epoch 590/800\n",
            "15/15 [==============================] - 0s 635us/step - loss: 0.0200 - val_loss: 0.0548\n",
            "Epoch 591/800\n",
            "15/15 [==============================] - 0s 641us/step - loss: 0.0199 - val_loss: 0.0547\n",
            "Epoch 592/800\n",
            "15/15 [==============================] - 0s 712us/step - loss: 0.0198 - val_loss: 0.0545\n",
            "Epoch 593/800\n",
            "15/15 [==============================] - 0s 651us/step - loss: 0.0198 - val_loss: 0.0544\n",
            "Epoch 594/800\n",
            "15/15 [==============================] - 0s 690us/step - loss: 0.0197 - val_loss: 0.0542\n",
            "Epoch 595/800\n",
            "15/15 [==============================] - 0s 723us/step - loss: 0.0196 - val_loss: 0.0541\n",
            "Epoch 596/800\n",
            "15/15 [==============================] - 0s 692us/step - loss: 0.0195 - val_loss: 0.0540\n",
            "Epoch 597/800\n",
            "15/15 [==============================] - 0s 633us/step - loss: 0.0195 - val_loss: 0.0538\n",
            "Epoch 598/800\n",
            "15/15 [==============================] - 0s 641us/step - loss: 0.0194 - val_loss: 0.0537\n",
            "Epoch 599/800\n",
            "15/15 [==============================] - 0s 610us/step - loss: 0.0193 - val_loss: 0.0535\n",
            "Epoch 600/800\n",
            "15/15 [==============================] - 0s 503us/step - loss: 0.0193 - val_loss: 0.0534\n",
            "Epoch 601/800\n",
            "15/15 [==============================] - 0s 715us/step - loss: 0.0192 - val_loss: 0.0533\n",
            "Epoch 602/800\n",
            "15/15 [==============================] - 0s 676us/step - loss: 0.0191 - val_loss: 0.0531\n",
            "Epoch 603/800\n",
            "15/15 [==============================] - 0s 605us/step - loss: 0.0191 - val_loss: 0.0530\n",
            "Epoch 604/800\n",
            "15/15 [==============================] - 0s 533us/step - loss: 0.0190 - val_loss: 0.0529\n",
            "Epoch 605/800\n",
            "15/15 [==============================] - 0s 790us/step - loss: 0.0190 - val_loss: 0.0527\n",
            "Epoch 606/800\n",
            "15/15 [==============================] - 0s 771us/step - loss: 0.0189 - val_loss: 0.0526\n",
            "Epoch 607/800\n",
            "15/15 [==============================] - 0s 589us/step - loss: 0.0188 - val_loss: 0.0525\n",
            "Epoch 608/800\n",
            "15/15 [==============================] - 0s 663us/step - loss: 0.0188 - val_loss: 0.0523\n",
            "Epoch 609/800\n",
            "15/15 [==============================] - 0s 600us/step - loss: 0.0187 - val_loss: 0.0522\n",
            "Epoch 610/800\n",
            "15/15 [==============================] - 0s 618us/step - loss: 0.0186 - val_loss: 0.0521\n",
            "Epoch 611/800\n",
            "15/15 [==============================] - 0s 519us/step - loss: 0.0186 - val_loss: 0.0520\n",
            "Epoch 612/800\n",
            "15/15 [==============================] - 0s 641us/step - loss: 0.0185 - val_loss: 0.0518\n",
            "Epoch 613/800\n",
            "15/15 [==============================] - 0s 694us/step - loss: 0.0185 - val_loss: 0.0517\n",
            "Epoch 614/800\n",
            "15/15 [==============================] - 0s 1ms/step - loss: 0.0184 - val_loss: 0.0516\n",
            "Epoch 615/800\n",
            "15/15 [==============================] - 0s 1ms/step - loss: 0.0183 - val_loss: 0.0515\n",
            "Epoch 616/800\n",
            "15/15 [==============================] - 0s 672us/step - loss: 0.0183 - val_loss: 0.0513\n",
            "Epoch 617/800\n",
            "15/15 [==============================] - 0s 990us/step - loss: 0.0182 - val_loss: 0.0512\n",
            "Epoch 618/800\n",
            "15/15 [==============================] - 0s 1ms/step - loss: 0.0182 - val_loss: 0.0511\n",
            "Epoch 619/800\n",
            "15/15 [==============================] - 0s 651us/step - loss: 0.0181 - val_loss: 0.0510\n",
            "Epoch 620/800\n",
            "15/15 [==============================] - 0s 585us/step - loss: 0.0181 - val_loss: 0.0509\n",
            "Epoch 621/800\n",
            "15/15 [==============================] - 0s 759us/step - loss: 0.0180 - val_loss: 0.0508\n",
            "Epoch 622/800\n",
            "15/15 [==============================] - 0s 700us/step - loss: 0.0180 - val_loss: 0.0506\n",
            "Epoch 623/800\n",
            "15/15 [==============================] - 0s 541us/step - loss: 0.0179 - val_loss: 0.0505\n",
            "Epoch 624/800\n",
            "15/15 [==============================] - 0s 1ms/step - loss: 0.0179 - val_loss: 0.0504\n",
            "Epoch 625/800\n",
            "15/15 [==============================] - 0s 1ms/step - loss: 0.0178 - val_loss: 0.0503\n",
            "Epoch 626/800\n",
            "15/15 [==============================] - 0s 610us/step - loss: 0.0178 - val_loss: 0.0502\n",
            "Epoch 627/800\n",
            "15/15 [==============================] - 0s 672us/step - loss: 0.0177 - val_loss: 0.0501\n",
            "Epoch 628/800\n",
            "15/15 [==============================] - 0s 702us/step - loss: 0.0176 - val_loss: 0.0500\n",
            "Epoch 629/800\n",
            "15/15 [==============================] - 0s 750us/step - loss: 0.0176 - val_loss: 0.0499\n",
            "Epoch 630/800\n",
            "15/15 [==============================] - 0s 741us/step - loss: 0.0176 - val_loss: 0.0498\n",
            "Epoch 631/800\n",
            "15/15 [==============================] - 0s 821us/step - loss: 0.0175 - val_loss: 0.0497\n",
            "Epoch 632/800\n",
            "15/15 [==============================] - 0s 818us/step - loss: 0.0175 - val_loss: 0.0496\n",
            "Epoch 633/800\n",
            "15/15 [==============================] - 0s 782us/step - loss: 0.0174 - val_loss: 0.0494\n",
            "Epoch 634/800\n",
            "15/15 [==============================] - 0s 940us/step - loss: 0.0174 - val_loss: 0.0493\n",
            "Epoch 635/800\n",
            "15/15 [==============================] - 0s 894us/step - loss: 0.0173 - val_loss: 0.0492\n",
            "Epoch 636/800\n",
            "15/15 [==============================] - 0s 722us/step - loss: 0.0173 - val_loss: 0.0491\n",
            "Epoch 637/800\n",
            "15/15 [==============================] - 0s 713us/step - loss: 0.0172 - val_loss: 0.0490\n",
            "Epoch 638/800\n",
            "15/15 [==============================] - 0s 788us/step - loss: 0.0172 - val_loss: 0.0489\n",
            "Epoch 639/800\n",
            "15/15 [==============================] - 0s 613us/step - loss: 0.0171 - val_loss: 0.0488\n",
            "Epoch 640/800\n",
            "15/15 [==============================] - 0s 560us/step - loss: 0.0171 - val_loss: 0.0487\n",
            "Epoch 641/800\n",
            "15/15 [==============================] - 0s 480us/step - loss: 0.0170 - val_loss: 0.0487\n",
            "Epoch 642/800\n",
            "15/15 [==============================] - 0s 626us/step - loss: 0.0170 - val_loss: 0.0486\n",
            "Epoch 643/800\n",
            "15/15 [==============================] - 0s 658us/step - loss: 0.0169 - val_loss: 0.0485\n",
            "Epoch 644/800\n",
            "15/15 [==============================] - 0s 658us/step - loss: 0.0169 - val_loss: 0.0484\n",
            "Epoch 645/800\n",
            "15/15 [==============================] - 0s 659us/step - loss: 0.0169 - val_loss: 0.0483\n",
            "Epoch 646/800\n",
            "15/15 [==============================] - 0s 537us/step - loss: 0.0168 - val_loss: 0.0482\n",
            "Epoch 647/800\n",
            "15/15 [==============================] - 0s 645us/step - loss: 0.0168 - val_loss: 0.0481\n",
            "Epoch 648/800\n",
            "15/15 [==============================] - 0s 576us/step - loss: 0.0167 - val_loss: 0.0480\n",
            "Epoch 649/800\n",
            "15/15 [==============================] - 0s 608us/step - loss: 0.0167 - val_loss: 0.0479\n",
            "Epoch 650/800\n",
            "15/15 [==============================] - 0s 502us/step - loss: 0.0167 - val_loss: 0.0478\n",
            "Epoch 651/800\n",
            "15/15 [==============================] - 0s 545us/step - loss: 0.0166 - val_loss: 0.0477\n",
            "Epoch 652/800\n",
            "15/15 [==============================] - 0s 613us/step - loss: 0.0166 - val_loss: 0.0476\n",
            "Epoch 653/800\n",
            "15/15 [==============================] - 0s 737us/step - loss: 0.0165 - val_loss: 0.0476\n",
            "Epoch 654/800\n",
            "15/15 [==============================] - 0s 701us/step - loss: 0.0165 - val_loss: 0.0475\n",
            "Epoch 655/800\n",
            "15/15 [==============================] - 0s 788us/step - loss: 0.0165 - val_loss: 0.0474\n",
            "Epoch 656/800\n",
            "15/15 [==============================] - 0s 608us/step - loss: 0.0164 - val_loss: 0.0473\n",
            "Epoch 657/800\n",
            "15/15 [==============================] - 0s 679us/step - loss: 0.0164 - val_loss: 0.0472\n",
            "Epoch 658/800\n",
            "15/15 [==============================] - 0s 682us/step - loss: 0.0163 - val_loss: 0.0471\n",
            "Epoch 659/800\n",
            "15/15 [==============================] - 0s 691us/step - loss: 0.0163 - val_loss: 0.0471\n",
            "Epoch 660/800\n",
            "15/15 [==============================] - 0s 693us/step - loss: 0.0163 - val_loss: 0.0470\n",
            "Epoch 661/800\n",
            "15/15 [==============================] - 0s 644us/step - loss: 0.0162 - val_loss: 0.0469\n",
            "Epoch 662/800\n",
            "15/15 [==============================] - 0s 644us/step - loss: 0.0162 - val_loss: 0.0468\n",
            "Epoch 663/800\n",
            "15/15 [==============================] - 0s 701us/step - loss: 0.0162 - val_loss: 0.0467\n",
            "Epoch 664/800\n",
            "15/15 [==============================] - 0s 662us/step - loss: 0.0161 - val_loss: 0.0467\n",
            "Epoch 665/800\n",
            "15/15 [==============================] - 0s 525us/step - loss: 0.0161 - val_loss: 0.0466\n",
            "Epoch 666/800\n",
            "15/15 [==============================] - 0s 619us/step - loss: 0.0161 - val_loss: 0.0465\n",
            "Epoch 667/800\n",
            "15/15 [==============================] - 0s 651us/step - loss: 0.0160 - val_loss: 0.0464\n",
            "Epoch 668/800\n",
            "15/15 [==============================] - 0s 530us/step - loss: 0.0160 - val_loss: 0.0463\n",
            "Epoch 669/800\n",
            "15/15 [==============================] - 0s 510us/step - loss: 0.0160 - val_loss: 0.0463\n",
            "Epoch 670/800\n",
            "15/15 [==============================] - 0s 623us/step - loss: 0.0159 - val_loss: 0.0462\n",
            "Epoch 671/800\n",
            "15/15 [==============================] - 0s 528us/step - loss: 0.0159 - val_loss: 0.0461\n",
            "Epoch 672/800\n",
            "15/15 [==============================] - 0s 615us/step - loss: 0.0159 - val_loss: 0.0460\n",
            "Epoch 673/800\n",
            "15/15 [==============================] - 0s 619us/step - loss: 0.0158 - val_loss: 0.0460\n",
            "Epoch 674/800\n",
            "15/15 [==============================] - 0s 538us/step - loss: 0.0158 - val_loss: 0.0459\n",
            "Epoch 675/800\n",
            "15/15 [==============================] - 0s 592us/step - loss: 0.0158 - val_loss: 0.0458\n",
            "Epoch 676/800\n",
            "15/15 [==============================] - 0s 577us/step - loss: 0.0157 - val_loss: 0.0458\n",
            "Epoch 677/800\n",
            "15/15 [==============================] - 0s 637us/step - loss: 0.0157 - val_loss: 0.0457\n",
            "Epoch 678/800\n",
            "15/15 [==============================] - 0s 676us/step - loss: 0.0157 - val_loss: 0.0456\n",
            "Epoch 679/800\n",
            "15/15 [==============================] - 0s 561us/step - loss: 0.0156 - val_loss: 0.0456\n",
            "Epoch 680/800\n",
            "15/15 [==============================] - 0s 580us/step - loss: 0.0156 - val_loss: 0.0455\n",
            "Epoch 681/800\n",
            "15/15 [==============================] - 0s 647us/step - loss: 0.0156 - val_loss: 0.0454\n",
            "Epoch 682/800\n",
            "15/15 [==============================] - 0s 598us/step - loss: 0.0155 - val_loss: 0.0454\n",
            "Epoch 683/800\n",
            "15/15 [==============================] - 0s 728us/step - loss: 0.0155 - val_loss: 0.0453\n",
            "Epoch 684/800\n",
            "15/15 [==============================] - 0s 526us/step - loss: 0.0155 - val_loss: 0.0452\n",
            "Epoch 685/800\n",
            "15/15 [==============================] - 0s 614us/step - loss: 0.0155 - val_loss: 0.0452\n",
            "Epoch 686/800\n",
            "15/15 [==============================] - 0s 657us/step - loss: 0.0154 - val_loss: 0.0451\n",
            "Epoch 687/800\n",
            "15/15 [==============================] - 0s 547us/step - loss: 0.0154 - val_loss: 0.0450\n",
            "Epoch 688/800\n",
            "15/15 [==============================] - 0s 629us/step - loss: 0.0154 - val_loss: 0.0450\n",
            "Epoch 689/800\n",
            "15/15 [==============================] - 0s 814us/step - loss: 0.0153 - val_loss: 0.0449\n",
            "Epoch 690/800\n",
            "15/15 [==============================] - 0s 781us/step - loss: 0.0153 - val_loss: 0.0448\n",
            "Epoch 691/800\n",
            "15/15 [==============================] - 0s 717us/step - loss: 0.0153 - val_loss: 0.0448\n",
            "Epoch 692/800\n",
            "15/15 [==============================] - 0s 715us/step - loss: 0.0153 - val_loss: 0.0447\n",
            "Epoch 693/800\n",
            "15/15 [==============================] - 0s 738us/step - loss: 0.0152 - val_loss: 0.0447\n",
            "Epoch 694/800\n",
            "15/15 [==============================] - 0s 714us/step - loss: 0.0152 - val_loss: 0.0446\n",
            "Epoch 695/800\n",
            "15/15 [==============================] - 0s 726us/step - loss: 0.0152 - val_loss: 0.0445\n",
            "Epoch 696/800\n",
            "15/15 [==============================] - 0s 659us/step - loss: 0.0151 - val_loss: 0.0445\n",
            "Epoch 697/800\n",
            "15/15 [==============================] - 0s 555us/step - loss: 0.0151 - val_loss: 0.0444\n",
            "Epoch 698/800\n",
            "15/15 [==============================] - 0s 671us/step - loss: 0.0151 - val_loss: 0.0444\n",
            "Epoch 699/800\n",
            "15/15 [==============================] - 0s 760us/step - loss: 0.0151 - val_loss: 0.0443\n",
            "Epoch 700/800\n",
            "15/15 [==============================] - 0s 903us/step - loss: 0.0150 - val_loss: 0.0442\n",
            "Epoch 701/800\n",
            "15/15 [==============================] - 0s 1ms/step - loss: 0.0150 - val_loss: 0.0442\n",
            "Epoch 702/800\n",
            "15/15 [==============================] - 0s 1ms/step - loss: 0.0150 - val_loss: 0.0441\n",
            "Epoch 703/800\n",
            "15/15 [==============================] - 0s 633us/step - loss: 0.0150 - val_loss: 0.0441\n",
            "Epoch 704/800\n",
            "15/15 [==============================] - 0s 558us/step - loss: 0.0149 - val_loss: 0.0440\n",
            "Epoch 705/800\n",
            "15/15 [==============================] - 0s 939us/step - loss: 0.0149 - val_loss: 0.0440\n",
            "Epoch 706/800\n",
            "15/15 [==============================] - 0s 672us/step - loss: 0.0149 - val_loss: 0.0439\n",
            "Epoch 707/800\n",
            "15/15 [==============================] - 0s 994us/step - loss: 0.0149 - val_loss: 0.0439\n",
            "Epoch 708/800\n",
            "15/15 [==============================] - 0s 545us/step - loss: 0.0149 - val_loss: 0.0438\n",
            "Epoch 709/800\n",
            "15/15 [==============================] - 0s 586us/step - loss: 0.0148 - val_loss: 0.0438\n",
            "Epoch 710/800\n",
            "15/15 [==============================] - 0s 635us/step - loss: 0.0148 - val_loss: 0.0437\n",
            "Epoch 711/800\n",
            "15/15 [==============================] - 0s 638us/step - loss: 0.0148 - val_loss: 0.0436\n",
            "Epoch 712/800\n",
            "15/15 [==============================] - 0s 738us/step - loss: 0.0148 - val_loss: 0.0436\n",
            "Epoch 713/800\n",
            "15/15 [==============================] - 0s 617us/step - loss: 0.0147 - val_loss: 0.0435\n",
            "Epoch 714/800\n",
            "15/15 [==============================] - 0s 687us/step - loss: 0.0147 - val_loss: 0.0435\n",
            "Epoch 715/800\n",
            "15/15 [==============================] - 0s 628us/step - loss: 0.0147 - val_loss: 0.0434\n",
            "Epoch 716/800\n",
            "15/15 [==============================] - 0s 498us/step - loss: 0.0147 - val_loss: 0.0434\n",
            "Epoch 717/800\n",
            "15/15 [==============================] - 0s 688us/step - loss: 0.0146 - val_loss: 0.0433\n",
            "Epoch 718/800\n",
            "15/15 [==============================] - 0s 512us/step - loss: 0.0146 - val_loss: 0.0433\n",
            "Epoch 719/800\n",
            "15/15 [==============================] - 0s 590us/step - loss: 0.0146 - val_loss: 0.0433\n",
            "Epoch 720/800\n",
            "15/15 [==============================] - 0s 533us/step - loss: 0.0146 - val_loss: 0.0432\n",
            "Epoch 721/800\n",
            "15/15 [==============================] - 0s 722us/step - loss: 0.0146 - val_loss: 0.0432\n",
            "Epoch 722/800\n",
            "15/15 [==============================] - 0s 815us/step - loss: 0.0145 - val_loss: 0.0431\n",
            "Epoch 723/800\n",
            "15/15 [==============================] - 0s 562us/step - loss: 0.0145 - val_loss: 0.0431\n",
            "Epoch 724/800\n",
            "15/15 [==============================] - 0s 913us/step - loss: 0.0145 - val_loss: 0.0430\n",
            "Epoch 725/800\n",
            "15/15 [==============================] - 0s 895us/step - loss: 0.0145 - val_loss: 0.0430\n",
            "Epoch 726/800\n",
            "15/15 [==============================] - 0s 807us/step - loss: 0.0145 - val_loss: 0.0429\n",
            "Epoch 727/800\n",
            "15/15 [==============================] - 0s 459us/step - loss: 0.0144 - val_loss: 0.0429\n",
            "Epoch 728/800\n",
            "15/15 [==============================] - 0s 660us/step - loss: 0.0144 - val_loss: 0.0428\n",
            "Epoch 729/800\n",
            "15/15 [==============================] - 0s 626us/step - loss: 0.0144 - val_loss: 0.0428\n",
            "Epoch 730/800\n",
            "15/15 [==============================] - 0s 532us/step - loss: 0.0144 - val_loss: 0.0428\n",
            "Epoch 731/800\n",
            "15/15 [==============================] - 0s 586us/step - loss: 0.0144 - val_loss: 0.0427\n",
            "Epoch 732/800\n",
            "15/15 [==============================] - 0s 731us/step - loss: 0.0143 - val_loss: 0.0427\n",
            "Epoch 733/800\n",
            "15/15 [==============================] - 0s 718us/step - loss: 0.0143 - val_loss: 0.0426\n",
            "Epoch 734/800\n",
            "15/15 [==============================] - 0s 825us/step - loss: 0.0143 - val_loss: 0.0426\n",
            "Epoch 735/800\n",
            "15/15 [==============================] - 0s 748us/step - loss: 0.0143 - val_loss: 0.0425\n",
            "Epoch 736/800\n",
            "15/15 [==============================] - 0s 965us/step - loss: 0.0143 - val_loss: 0.0425\n",
            "Epoch 737/800\n",
            "15/15 [==============================] - 0s 771us/step - loss: 0.0142 - val_loss: 0.0425\n",
            "Epoch 738/800\n",
            "15/15 [==============================] - 0s 1ms/step - loss: 0.0142 - val_loss: 0.0424\n",
            "Epoch 739/800\n",
            "15/15 [==============================] - 0s 822us/step - loss: 0.0142 - val_loss: 0.0424\n",
            "Epoch 740/800\n",
            "15/15 [==============================] - 0s 652us/step - loss: 0.0142 - val_loss: 0.0423\n",
            "Epoch 741/800\n",
            "15/15 [==============================] - 0s 592us/step - loss: 0.0142 - val_loss: 0.0423\n",
            "Epoch 742/800\n",
            "15/15 [==============================] - 0s 590us/step - loss: 0.0142 - val_loss: 0.0423\n",
            "Epoch 743/800\n",
            "15/15 [==============================] - 0s 846us/step - loss: 0.0141 - val_loss: 0.0422\n",
            "Epoch 744/800\n",
            "15/15 [==============================] - 0s 630us/step - loss: 0.0141 - val_loss: 0.0422\n",
            "Epoch 745/800\n",
            "15/15 [==============================] - 0s 549us/step - loss: 0.0141 - val_loss: 0.0421\n",
            "Epoch 746/800\n",
            "15/15 [==============================] - 0s 928us/step - loss: 0.0141 - val_loss: 0.0421\n",
            "Epoch 747/800\n",
            "15/15 [==============================] - 0s 794us/step - loss: 0.0141 - val_loss: 0.0421\n",
            "Epoch 748/800\n",
            "15/15 [==============================] - 0s 743us/step - loss: 0.0140 - val_loss: 0.0420\n",
            "Epoch 749/800\n",
            "15/15 [==============================] - 0s 955us/step - loss: 0.0140 - val_loss: 0.0420\n",
            "Epoch 750/800\n",
            "15/15 [==============================] - 0s 650us/step - loss: 0.0140 - val_loss: 0.0420\n",
            "Epoch 751/800\n",
            "15/15 [==============================] - 0s 967us/step - loss: 0.0140 - val_loss: 0.0419\n",
            "Epoch 752/800\n",
            "15/15 [==============================] - 0s 684us/step - loss: 0.0140 - val_loss: 0.0419\n",
            "Epoch 753/800\n",
            "15/15 [==============================] - 0s 842us/step - loss: 0.0140 - val_loss: 0.0419\n",
            "Epoch 754/800\n",
            "15/15 [==============================] - 0s 689us/step - loss: 0.0140 - val_loss: 0.0418\n",
            "Epoch 755/800\n",
            "15/15 [==============================] - 0s 912us/step - loss: 0.0139 - val_loss: 0.0418\n",
            "Epoch 756/800\n",
            "15/15 [==============================] - 0s 901us/step - loss: 0.0139 - val_loss: 0.0418\n",
            "Epoch 757/800\n",
            "15/15 [==============================] - 0s 606us/step - loss: 0.0139 - val_loss: 0.0417\n",
            "Epoch 758/800\n",
            "15/15 [==============================] - 0s 586us/step - loss: 0.0139 - val_loss: 0.0417\n",
            "Epoch 759/800\n",
            "15/15 [==============================] - 0s 579us/step - loss: 0.0139 - val_loss: 0.0417\n",
            "Epoch 760/800\n",
            "15/15 [==============================] - 0s 659us/step - loss: 0.0139 - val_loss: 0.0416\n",
            "Epoch 761/800\n",
            "15/15 [==============================] - 0s 634us/step - loss: 0.0138 - val_loss: 0.0416\n",
            "Epoch 762/800\n",
            "15/15 [==============================] - 0s 904us/step - loss: 0.0138 - val_loss: 0.0416\n",
            "Epoch 763/800\n",
            "15/15 [==============================] - 0s 713us/step - loss: 0.0138 - val_loss: 0.0415\n",
            "Epoch 764/800\n",
            "15/15 [==============================] - 0s 807us/step - loss: 0.0138 - val_loss: 0.0415\n",
            "Epoch 765/800\n",
            "15/15 [==============================] - 0s 828us/step - loss: 0.0138 - val_loss: 0.0415\n",
            "Epoch 766/800\n",
            "15/15 [==============================] - 0s 808us/step - loss: 0.0138 - val_loss: 0.0414\n",
            "Epoch 767/800\n",
            "15/15 [==============================] - 0s 818us/step - loss: 0.0138 - val_loss: 0.0414\n",
            "Epoch 768/800\n",
            "15/15 [==============================] - 0s 870us/step - loss: 0.0137 - val_loss: 0.0414\n",
            "Epoch 769/800\n",
            "15/15 [==============================] - 0s 790us/step - loss: 0.0137 - val_loss: 0.0413\n",
            "Epoch 770/800\n",
            "15/15 [==============================] - 0s 745us/step - loss: 0.0137 - val_loss: 0.0413\n",
            "Epoch 771/800\n",
            "15/15 [==============================] - 0s 679us/step - loss: 0.0137 - val_loss: 0.0413\n",
            "Epoch 772/800\n",
            "15/15 [==============================] - 0s 640us/step - loss: 0.0137 - val_loss: 0.0412\n",
            "Epoch 773/800\n",
            "15/15 [==============================] - 0s 863us/step - loss: 0.0137 - val_loss: 0.0412\n",
            "Epoch 774/800\n",
            "15/15 [==============================] - 0s 670us/step - loss: 0.0137 - val_loss: 0.0412\n",
            "Epoch 775/800\n",
            "15/15 [==============================] - 0s 693us/step - loss: 0.0136 - val_loss: 0.0412\n",
            "Epoch 776/800\n",
            "15/15 [==============================] - 0s 585us/step - loss: 0.0136 - val_loss: 0.0411\n",
            "Epoch 777/800\n",
            "15/15 [==============================] - 0s 823us/step - loss: 0.0136 - val_loss: 0.0411\n",
            "Epoch 778/800\n",
            "15/15 [==============================] - 0s 614us/step - loss: 0.0136 - val_loss: 0.0411\n",
            "Epoch 779/800\n",
            "15/15 [==============================] - 0s 803us/step - loss: 0.0136 - val_loss: 0.0410\n",
            "Epoch 780/800\n",
            "15/15 [==============================] - 0s 758us/step - loss: 0.0136 - val_loss: 0.0410\n",
            "Epoch 781/800\n",
            "15/15 [==============================] - 0s 693us/step - loss: 0.0136 - val_loss: 0.0410\n",
            "Epoch 782/800\n",
            "15/15 [==============================] - 0s 818us/step - loss: 0.0135 - val_loss: 0.0410\n",
            "Epoch 783/800\n",
            "15/15 [==============================] - 0s 729us/step - loss: 0.0135 - val_loss: 0.0409\n",
            "Epoch 784/800\n",
            "15/15 [==============================] - 0s 638us/step - loss: 0.0135 - val_loss: 0.0409\n",
            "Epoch 785/800\n",
            "15/15 [==============================] - 0s 558us/step - loss: 0.0135 - val_loss: 0.0409\n",
            "Epoch 786/800\n",
            "15/15 [==============================] - 0s 1ms/step - loss: 0.0135 - val_loss: 0.0409\n",
            "Epoch 787/800\n",
            "15/15 [==============================] - 0s 568us/step - loss: 0.0135 - val_loss: 0.0408\n",
            "Epoch 788/800\n",
            "15/15 [==============================] - 0s 887us/step - loss: 0.0135 - val_loss: 0.0408\n",
            "Epoch 789/800\n",
            "15/15 [==============================] - 0s 666us/step - loss: 0.0135 - val_loss: 0.0408\n",
            "Epoch 790/800\n",
            "15/15 [==============================] - 0s 524us/step - loss: 0.0134 - val_loss: 0.0408\n",
            "Epoch 791/800\n",
            "15/15 [==============================] - 0s 596us/step - loss: 0.0134 - val_loss: 0.0407\n",
            "Epoch 792/800\n",
            "15/15 [==============================] - 0s 624us/step - loss: 0.0134 - val_loss: 0.0407\n",
            "Epoch 793/800\n",
            "15/15 [==============================] - 0s 570us/step - loss: 0.0134 - val_loss: 0.0407\n",
            "Epoch 794/800\n",
            "15/15 [==============================] - 0s 826us/step - loss: 0.0134 - val_loss: 0.0407\n",
            "Epoch 795/800\n",
            "15/15 [==============================] - 0s 727us/step - loss: 0.0134 - val_loss: 0.0406\n",
            "Epoch 796/800\n",
            "15/15 [==============================] - 0s 607us/step - loss: 0.0134 - val_loss: 0.0406\n",
            "Epoch 797/800\n",
            "15/15 [==============================] - 0s 639us/step - loss: 0.0134 - val_loss: 0.0406\n",
            "Epoch 798/800\n",
            "15/15 [==============================] - 0s 585us/step - loss: 0.0133 - val_loss: 0.0406\n",
            "Epoch 799/800\n",
            "15/15 [==============================] - 0s 552us/step - loss: 0.0133 - val_loss: 0.0405\n",
            "Epoch 800/800\n",
            "15/15 [==============================] - 0s 760us/step - loss: 0.0133 - val_loss: 0.0405\n"
          ],
          "name": "stdout"
        },
        {
          "output_type": "execute_result",
          "data": {
            "text/plain": [
              "<keras.callbacks.History at 0x7fa3af063588>"
            ]
          },
          "metadata": {
            "tags": []
          },
          "execution_count": 193
        }
      ]
    },
    {
      "cell_type": "code",
      "metadata": {
        "id": "qBuOR-J9oBYy",
        "colab_type": "code",
        "colab": {
          "base_uri": "https://localhost:8080/",
          "height": 300
        },
        "outputId": "473e0574-8230-49f2-f76b-9404309aa5ab"
      },
      "source": [
        "test_data = x_\n",
        "\n",
        "vals = y\n",
        "yr = test_data.loc[:, \"Year\"]\n",
        "test_data.drop(columns = [\"Year\",\"Rice_Yield\"], inplace = True)\n",
        "test_data = np.array(test_data)\n",
        "\n",
        "print(test_data.shape)\n",
        "test_data = test_data.reshape((test_data.shape[0], 1, 3))\n",
        "vals = [np.exp(i) for i in vals]\n",
        "preds = model.predict(test_data)\n",
        "preds = [np.exp(i) for i in preds]\n",
        "import matplotlib.pyplot as plt\n",
        "plt.plot(yr, preds, label = 'Predicted')\n",
        "plt.plot(yr, vals, label = 'Actual')\n",
        "plt.legend()"
      ],
      "execution_count": 194,
      "outputs": [
        {
          "output_type": "stream",
          "text": [
            "(17, 3)\n"
          ],
          "name": "stdout"
        },
        {
          "output_type": "execute_result",
          "data": {
            "text/plain": [
              "<matplotlib.legend.Legend at 0x7fa3af03ef98>"
            ]
          },
          "metadata": {
            "tags": []
          },
          "execution_count": 194
        },
        {
          "output_type": "display_data",
          "data": {
            "image/png": "[encoded data removed]",
            "text/plain": [
              "<Figure size 432x288 with 1 Axes>"
            ]
          },
          "metadata": {
            "tags": []
          }
        }
      ]
    },
    {
      "cell_type": "code",
      "metadata": {
        "id": "uLlCyQfXtgR3",
        "colab_type": "code",
        "colab": {
          "base_uri": "https://localhost:8080/",
          "height": 444
        },
        "outputId": "e9585355-9fc9-488f-f59f-59d1d78ab168"
      },
      "source": [
        "test_data = x_.loc[x_[\"Year\"]>=2012, :]\n",
        "\n",
        "vals = test_data[\"Rice_Yield\"]\n",
        "yr = x_.loc[x_[\"Year\"] >= 2012, \"Year\"]\n",
        "test_data.drop(columns = [\"Year\",\"Rice_Yield\"], inplace = True)\n",
        "test_data = np.array(test_data)\n",
        "\n",
        "print(test_data.shape)\n",
        "test_data = test_data.reshape((test_data.shape[0], 1, 3))\n",
        "vals = [np.exp(i) for i in vals]\n",
        "preds = model.predict(test_data)\n",
        "preds = [np.exp(i) for i in preds]\n",
        "import matplotlib.pyplot as plt\n",
        "plt.plot(yr, preds, label = 'Predicted')\n",
        "plt.plot(yr, vals, label = 'Actual')\n",
        "plt.legend()"
      ],
      "execution_count": 184,
      "outputs": [
        {
          "output_type": "stream",
          "text": [
            "(5, 3)\n"
          ],
          "name": "stdout"
        },
        {
          "output_type": "stream",
          "text": [
            "/usr/local/lib/python3.6/dist-packages/pandas/core/frame.py:4117: SettingWithCopyWarning: \n",
            "A value is trying to be set on a copy of a slice from a DataFrame\n",
            "\n",
            "See the caveats in the documentation: http://pandas.pydata.org/pandas-docs/stable/user_guide/indexing.html#returning-a-view-versus-a-copy\n",
            "  errors=errors,\n",
            "/usr/local/lib/python3.6/dist-packages/ipykernel_launcher.py:10: RuntimeWarning: overflow encountered in exp\n",
            "  # Remove the CWD from sys.path while we load stuff.\n"
          ],
          "name": "stderr"
        },
        {
          "output_type": "execute_result",
          "data": {
            "text/plain": [
              "<matplotlib.legend.Legend at 0x7fa3af58d438>"
            ]
          },
          "metadata": {
            "tags": []
          },
          "execution_count": 184
        },
        {
          "output_type": "display_data",
          "data": {
            "image/png": "[encoded data removed]",
            "text/plain": [
              "<Figure size 432x288 with 1 Axes>"
            ]
          },
          "metadata": {
            "tags": []
          }
        }
      ]
    },
    {
      "cell_type": "code",
      "metadata": {
        "id": "Hgnegy2GbnVv",
        "colab_type": "code",
        "colab": {}
      },
      "source": [
        ""
      ],
      "execution_count": 0,
      "outputs": []
    },
    {
      "cell_type": "code",
      "metadata": {
        "id": "59ktOil8_jT1",
        "colab_type": "code",
        "colab": {}
      },
      "source": [
        "eal.set_years(years) #This function once called here need not be called again. \n",
        "merged = eal.create_dataset(df_soil, True) # Here is the point where the Soil and Rice data is combined into a dataset (Rice is loaded in df_rice object and Soil in df_soil)"
      ],
      "execution_count": 0,
      "outputs": []
    },
    {
      "cell_type": "code",
      "metadata": {
        "id": "ffTKHKcqK66H",
        "colab_type": "code",
        "colab": {}
      },
      "source": [
        "# Now as we have already created the dataset to combine the Soil and Crop data (We used rice in the above example), we can now join any other crop data to this created dataset\n",
        "'''\n",
        "The process to do is:\n",
        "    1) Call the set_dataframe function and pass in the dataframe object of the csv file for the crop (Say Jowar), which you want to combine with the dataset (It's just done using pd.read_csv) also pass the crop Name\n",
        "    2) Call the append column function\n",
        "'''\n",
        "eal.set_dataframe(pd.read_csv(\"Jowar.csv\"), \"Jowar\") \n",
        "merged_new = eal.append_column()"
      ],
      "execution_count": 0,
      "outputs": []
    },
    {
      "cell_type": "code",
      "metadata": {
        "id": "QcF7hvFfAJFE",
        "colab_type": "code",
        "outputId": "6cf585ac-39dc-4599-bbbe-321d93a4373c",
        "colab": {
          "base_uri": "https://localhost:8080/",
          "height": 52
        }
      },
      "source": [
        "'''\n",
        "After you create a new dataset or append a new column run this cell to find out if the operation was successful by checking the column names.\n",
        "'''\n",
        "print(merged_new.columns.values)"
      ],
      "execution_count": 0,
      "outputs": [
        {
          "output_type": "stream",
          "text": [
            "['Block_name' 'District' 'Year' 'RAINFALL' 'GRDWTR' 'Indexing'\n",
            " 'Soil_Score' 'SOIL_TYPE' 'Elevation' 'Rice_Yield' 'Jowar_Yield']\n"
          ],
          "name": "stdout"
        }
      ]
    },
    {
      "cell_type": "code",
      "metadata": {
        "id": "uBVZK9FZNdGc",
        "colab_type": "code",
        "outputId": "5fa36fef-d37f-41e3-bb72-a9cc86e8c017",
        "colab": {
          "base_uri": "https://localhost:8080/",
          "height": 158
        }
      },
      "source": [
        "print(merged_new.head())  ## Head function in pandas is used to look at first 5 tuples of the dataset."
      ],
      "execution_count": 0,
      "outputs": [
        {
          "output_type": "stream",
          "text": [
            "  Block_name    District  Year  ...  Elevation  Rice_Yield  Jowar_Yield\n",
            "0      Akola  Ahmadnagar  2000  ...        649       599.0          NaN\n",
            "1      Akola  Ahmadnagar  2001  ...        649       500.0          NaN\n",
            "2      Akola  Ahmadnagar  2002  ...        649       224.3          NaN\n",
            "3      Akola  Ahmadnagar  2003  ...        649       947.1          NaN\n",
            "4      Akola  Ahmadnagar  2004  ...        649       836.0          NaN\n",
            "\n",
            "[5 rows x 11 columns]\n"
          ],
          "name": "stdout"
        }
      ]
    },
    {
      "cell_type": "code",
      "metadata": {
        "id": "zRLx4JGiGgt3",
        "colab_type": "code",
        "outputId": "9bd4e8ea-1e98-4a35-d3b1-f7b512f5f18f",
        "colab": {
          "base_uri": "https://localhost:8080/",
          "height": 70
        }
      },
      "source": [
        "merged_new.columns.values"
      ],
      "execution_count": 0,
      "outputs": [
        {
          "output_type": "execute_result",
          "data": {
            "text/plain": [
              "array(['Block_name', 'District', 'Year', 'RAINFALL', 'GRDWTR', 'Indexing',\n",
              "       'Soil_Score', 'SOIL_TYPE', 'Elevation', 'Rice_Yield',\n",
              "       'Jowar_Yield'], dtype=object)"
            ]
          },
          "metadata": {
            "tags": []
          },
          "execution_count": 8
        }
      ]
    },
    {
      "cell_type": "code",
      "metadata": {
        "id": "Tzr3jNOVGuSe",
        "colab_type": "code",
        "colab": {}
      },
      "source": [
        "merged_copy = merged.copy()\n",
        "# merged_copy.drop(columns = ['Year'])"
      ],
      "execution_count": 0,
      "outputs": []
    },
    {
      "cell_type": "code",
      "metadata": {
        "id": "dJE4nhdDHyx3",
        "colab_type": "code",
        "colab": {}
      },
      "source": [
        "from sklearn.impute import SimpleImputer\n",
        "imp = SimpleImputer(fill_value = 0)\n",
        "merged_copy['Rice_Yield'] = imp.fit_transform(np.array(merged_copy['Rice_Yield']).reshape(-1,1))"
      ],
      "execution_count": 0,
      "outputs": []
    },
    {
      "cell_type": "code",
      "metadata": {
        "id": "B5dSH7h_bsEn",
        "colab_type": "code",
        "colab": {}
      },
      "source": [
        "merged_copy['Jowar_Yield'] = imp.fit_transform(np.array(merged_copy['Jowar_Yield']).reshape(-1,1))"
      ],
      "execution_count": 0,
      "outputs": []
    },
    {
      "cell_type": "code",
      "metadata": {
        "id": "yTtpmOhsFml8",
        "colab_type": "code",
        "outputId": "9e8a469b-28ea-4e92-ba0e-4adeed1b1c95",
        "colab": {
          "base_uri": "https://localhost:8080/",
          "height": 52
        }
      },
      "source": [
        "from statsmodels.tsa.seasonal import seasonal_decompose\n",
        "t_data = merged_copy.loc[merged_copy['District'] == 'ahmadnagar', 'Year']\n",
        "np.array(t_data)"
      ],
      "execution_count": 122,
      "outputs": [
        {
          "output_type": "execute_result",
          "data": {
            "text/plain": [
              "array([2000, 2001, 2002, 2003, 2004, 2005, 2006, 2007, 2008, 2009, 2010,\n",
              "       2011, 2012, 2013, 2014, 2015, 2016])"
            ]
          },
          "metadata": {
            "tags": []
          },
          "execution_count": 122
        }
      ]
    },
    {
      "cell_type": "code",
      "metadata": {
        "id": "uNO7FZVyCObv",
        "colab_type": "code",
        "outputId": "c6324a7e-06a6-4b85-e64c-dc4d1a766e36",
        "colab": {
          "base_uri": "https://localhost:8080/",
          "height": 282
        }
      },
      "source": [
        "import matplotlib.pyplot as plt\n",
        "plt.plot(merged_new.loc[merged_new['Block_name'] == 'Yavatmal', 'Year'], merged_new.loc[merged_new['Block_name'] == 'Yavatmal', 'Jowar_Yield'])"
      ],
      "execution_count": 0,
      "outputs": [
        {
          "output_type": "execute_result",
          "data": {
            "text/plain": [
              "[<matplotlib.lines.Line2D at 0x7f61a089ed68>]"
            ]
          },
          "metadata": {
            "tags": []
          },
          "execution_count": 17
        },
        {
          "output_type": "display_data",
          "data": {
            "image/png": "[encoded data removed]",
            "text/plain": [
              "<Figure size 432x288 with 1 Axes>"
            ]
          },
          "metadata": {
            "tags": []
          }
        }
      ]
    },
    {
      "cell_type": "code",
      "metadata": {
        "id": "3ImznhYCHfh1",
        "colab_type": "code",
        "outputId": "14a0e301-ade7-48eb-9867-f42920cad9a8",
        "colab": {
          "base_uri": "https://localhost:8080/",
          "height": 573
        }
      },
      "source": [
        "import scipy.stats as stats\n",
        "y = merged_copy['Rice_Yield']\n",
        "measurements = y\n",
        "stats.probplot(measurements, dist=\"norm\", plot=plt)\n",
        "plt.figure()\n",
        "measurements = [np.log(1+ i) for i in y]\n",
        "stats.probplot(measurements, dist=\"norm\", plot=plt)\n",
        "merged_copy['Rice_Yield'] = measurements"
      ],
      "execution_count": 123,
      "outputs": [
        {
          "output_type": "display_data",
          "data": {
            "image/png": "[encoded data removed]",
            "text/plain": [
              "<Figure size 432x288 with 1 Axes>"
            ]
          },
          "metadata": {
            "tags": []
          }
        },
        {
          "output_type": "display_data",
          "data": {
            "image/png": "[encoded data removed]",
            "text/plain": [
              "<Figure size 432x288 with 1 Axes>"
            ]
          },
          "metadata": {
            "tags": []
          }
        }
      ]
    },
    {
      "cell_type": "code",
      "metadata": {
        "id": "PvPrhUtKbnJs",
        "colab_type": "code",
        "outputId": "c7b58bee-bd21-40bc-b2f4-2acbfd7ac409",
        "colab": {
          "base_uri": "https://localhost:8080/",
          "height": 573
        }
      },
      "source": [
        "import scipy.stats as stats\n",
        "y = merged_copy['Jowar_Yield']\n",
        "measurements = y\n",
        "stats.probplot(measurements, dist=\"norm\", plot=plt)\n",
        "plt.figure()\n",
        "measurements = [np.log(1+ i) for i in y]\n",
        "stats.probplot(measurements, dist=\"norm\", plot=plt)\n",
        "merged_copy['Jowar_Yield'] = measurements"
      ],
      "execution_count": 0,
      "outputs": [
        {
          "output_type": "display_data",
          "data": {
            "image/png": "[encoded data removed]",
            "text/plain": [
              "<Figure size 432x288 with 1 Axes>"
            ]
          },
          "metadata": {
            "tags": []
          }
        },
        {
          "output_type": "display_data",
          "data": {
            "image/png": "[encoded data removed]",
            "text/plain": [
              "<Figure size 432x288 with 1 Axes>"
            ]
          },
          "metadata": {
            "tags": []
          }
        }
      ]
    },
    {
      "cell_type": "code",
      "metadata": {
        "id": "Ovf1HXchImd3",
        "colab_type": "code",
        "outputId": "d8594903-6bee-4834-e4e9-4090da8f5990",
        "colab": {
          "base_uri": "https://localhost:8080/",
          "height": 52
        }
      },
      "source": [
        "merged_copy.iloc[:,:-2].columns.values"
      ],
      "execution_count": 0,
      "outputs": [
        {
          "output_type": "execute_result",
          "data": {
            "text/plain": [
              "array(['Block_name', 'District', 'Year', 'RAINFALL', 'GRDWTR', 'Indexing',\n",
              "       'Soil_Score', 'SOIL_TYPE', 'Elevation'], dtype=object)"
            ]
          },
          "metadata": {
            "tags": []
          },
          "execution_count": 92
        }
      ]
    },
    {
      "cell_type": "code",
      "metadata": {
        "id": "RivVAbQGuWLG",
        "colab_type": "code",
        "colab": {
          "base_uri": "https://localhost:8080/",
          "height": 197
        },
        "outputId": "8a6dd385-d2f3-4fcc-dd7d-218ba9403d07"
      },
      "source": [
        "merged_copy.head()"
      ],
      "execution_count": 124,
      "outputs": [
        {
          "output_type": "execute_result",
          "data": {
            "text/html": [
              "<div>\n",
              "<style scoped>\n",
              "    .dataframe tbody tr th:only-of-type {\n",
              "        vertical-align: middle;\n",
              "    }\n",
              "\n",
              "    .dataframe tbody tr th {\n",
              "        vertical-align: top;\n",
              "    }\n",
              "\n",
              "    .dataframe thead th {\n",
              "        text-align: right;\n",
              "    }\n",
              "</style>\n",
              "<table border=\"1\" class=\"dataframe\">\n",
              "  <thead>\n",
              "    <tr style=\"text-align: right;\">\n",
              "      <th></th>\n",
              "      <th>District</th>\n",
              "      <th>Year</th>\n",
              "      <th>rainfall</th>\n",
              "      <th>relative_humidity</th>\n",
              "      <th>average_temperature</th>\n",
              "      <th>Rice_Yield</th>\n",
              "    </tr>\n",
              "  </thead>\n",
              "  <tbody>\n",
              "    <tr>\n",
              "      <th>0</th>\n",
              "      <td>ahmadnagar</td>\n",
              "      <td>2000</td>\n",
              "      <td>-0.639577</td>\n",
              "      <td>-0.938503</td>\n",
              "      <td>-2.033424</td>\n",
              "      <td>7.192153</td>\n",
              "    </tr>\n",
              "    <tr>\n",
              "      <th>1</th>\n",
              "      <td>ahmadnagar</td>\n",
              "      <td>2001</td>\n",
              "      <td>-0.692463</td>\n",
              "      <td>-0.438027</td>\n",
              "      <td>-1.616349</td>\n",
              "      <td>7.186818</td>\n",
              "    </tr>\n",
              "    <tr>\n",
              "      <th>2</th>\n",
              "      <td>ahmadnagar</td>\n",
              "      <td>2002</td>\n",
              "      <td>-0.834724</td>\n",
              "      <td>-1.064470</td>\n",
              "      <td>-0.933968</td>\n",
              "      <td>7.171808</td>\n",
              "    </tr>\n",
              "    <tr>\n",
              "      <th>3</th>\n",
              "      <td>ahmadnagar</td>\n",
              "      <td>2003</td>\n",
              "      <td>-0.905061</td>\n",
              "      <td>-0.726105</td>\n",
              "      <td>-0.955943</td>\n",
              "      <td>7.210690</td>\n",
              "    </tr>\n",
              "    <tr>\n",
              "      <th>4</th>\n",
              "      <td>ahmadnagar</td>\n",
              "      <td>2004</td>\n",
              "      <td>-0.513182</td>\n",
              "      <td>-0.170771</td>\n",
              "      <td>-1.419399</td>\n",
              "      <td>7.204811</td>\n",
              "    </tr>\n",
              "  </tbody>\n",
              "</table>\n",
              "</div>"
            ],
            "text/plain": [
              "     District  Year  ...  average_temperature  Rice_Yield\n",
              "0  ahmadnagar  2000  ...            -2.033424    7.192153\n",
              "1  ahmadnagar  2001  ...            -1.616349    7.186818\n",
              "2  ahmadnagar  2002  ...            -0.933968    7.171808\n",
              "3  ahmadnagar  2003  ...            -0.955943    7.210690\n",
              "4  ahmadnagar  2004  ...            -1.419399    7.204811\n",
              "\n",
              "[5 rows x 6 columns]"
            ]
          },
          "metadata": {
            "tags": []
          },
          "execution_count": 124
        }
      ]
    },
    {
      "cell_type": "code",
      "metadata": {
        "id": "VeS8-LSMvhTu",
        "colab_type": "code",
        "colab": {}
      },
      "source": [
        "from sklearn.model_selection import train_test_split\n",
        "from sklearn.ensemble import RandomForestRegressor\n",
        "from sklearn.preprocessing import MinMaxScaler, LabelEncoder\n",
        "# mm = MinMaxScaler()\n",
        "le = LabelEncoder()\n",
        "\n",
        "# merged_copy['SOIL_TYPE'] = le.fit_transform(merged_copy['SOIL_TYPE'])\n",
        "# merged_copy[\"Block_name\"] = le.fit_transform(merged_copy['Block_name'])\n",
        "# merged_copy[\"District\"] = le.fit_transform(merged_copy['District'])\n",
        "merged_copy[\"District\"] = le.fit_transform(merged_copy[\"District\"])\n",
        "# yrs = merged_copy.loc[merged_copy[\"District\"] == \"ahmadnagar\", \"Year\"]\n",
        "\n",
        "# merged_copy = mm.fit_transform(merged_copy)\n",
        "# merged[[k for k in columns if k != 'SOIL_TYPE']] = mm.fit(merged[[k for k in columns if k != 'SOIL_TYPE']])\n",
        "X_train, X_test, y_train, y_test = train_test_split(merged_copy.iloc[:,:-1], merged_copy['Rice_Yield'], test_size = 0.2)\n"
      ],
      "execution_count": 0,
      "outputs": []
    },
    {
      "cell_type": "code",
      "metadata": {
        "id": "BiAu3M1OxGN-",
        "colab_type": "code",
        "colab": {}
      },
      "source": [
        "X_train.drop(columns = [\"Year\"], inplace= True)\n",
        "X_test = X_test.sort_values([\"Year\"], ascending = [True])\n",
        "yrs = X_test.loc[X_test[\"District\"] == 14, \"Year\"]\n",
        "X_test.drop(columns = [\"Year\"], inplace = True)\n"
      ],
      "execution_count": 0,
      "outputs": []
    },
    {
      "cell_type": "code",
      "metadata": {
        "id": "jiA2VA6v0H3V",
        "colab_type": "code",
        "colab": {
          "base_uri": "https://localhost:8080/",
          "height": 87
        },
        "outputId": "9c9506fc-b0ce-4ae3-ecd9-c686cfb12c6e"
      },
      "source": [
        "print(yrs)"
      ],
      "execution_count": 178,
      "outputs": [
        {
          "output_type": "stream",
          "text": [
            "240    2002\n",
            "245    2007\n",
            "248    2010\n",
            "Name: Year, dtype: int64\n"
          ],
          "name": "stdout"
        }
      ]
    },
    {
      "cell_type": "code",
      "metadata": {
        "id": "1AeNub9Fig9W",
        "colab_type": "code",
        "outputId": "50eb9d8a-d521-4fbf-9fdf-c0e7946b3e23",
        "colab": {
          "base_uri": "https://localhost:8080/",
          "height": 141
        }
      },
      "source": [
        "rf_rice = RandomForestRegressor(max_depth = 10, n_estimators = 100, random_state= False, verbose=0)\n",
        "rf_rice.fit(X_train, y_train)"
      ],
      "execution_count": 179,
      "outputs": [
        {
          "output_type": "execute_result",
          "data": {
            "text/plain": [
              "RandomForestRegressor(bootstrap=True, ccp_alpha=0.0, criterion='mse',\n",
              "                      max_depth=10, max_features='auto', max_leaf_nodes=None,\n",
              "                      max_samples=None, min_impurity_decrease=0.0,\n",
              "                      min_impurity_split=None, min_samples_leaf=1,\n",
              "                      min_samples_split=2, min_weight_fraction_leaf=0.0,\n",
              "                      n_estimators=100, n_jobs=None, oob_score=False,\n",
              "                      random_state=False, verbose=0, warm_start=False)"
            ]
          },
          "metadata": {
            "tags": []
          },
          "execution_count": 179
        }
      ]
    },
    {
      "cell_type": "code",
      "metadata": {
        "id": "5ptsz6B_wacG",
        "colab_type": "code",
        "colab": {
          "base_uri": "https://localhost:8080/",
          "height": 688
        },
        "outputId": "49cfd9f9-c893-4a38-dbe9-c445268b86c0"
      },
      "source": [
        "print(le.inverse_transform(X_test[\"District\"]))\n",
        "vals = rf_rice.predict(X_test.loc[X_test[\"District\"] == 14, :])\n",
        "\n",
        "plt.plot(yrs, vals)\n",
        "plt.plot(yrs, y_test)"
      ],
      "execution_count": 183,
      "outputs": [
        {
          "output_type": "stream",
          "text": [
            "[27 20  0 16 15 21  7 21 14 20 22 18  4 17 15 24 22  6 25  5  0  2 17 12\n",
            " 19 15  3 20  1 13  5 28 18  1 10 15 26 21 14  2 11  3 10  8 20  5 21  1\n",
            " 27  2 23 18 25 17 27 12 22 19 14  3 11 10 11  1 12  3 20  4 20  2  7 23\n",
            " 16 22 19 11  9  4 16 18  6 20 13 25 21  7 20  5  3  0  1 26 21 12  3 19\n",
            " 17  4 16]\n"
          ],
          "name": "stdout"
        },
        {
          "output_type": "error",
          "ename": "ValueError",
          "evalue": "ignored",
          "traceback": [
            "\u001b[0;31m---------------------------------------------------------------------------\u001b[0m",
            "\u001b[0;31mValueError\u001b[0m                                Traceback (most recent call last)",
            "\u001b[0;32m<ipython-input-183-fe92ef513d1f>\u001b[0m in \u001b[0;36m<module>\u001b[0;34m()\u001b[0m\n\u001b[1;32m      3\u001b[0m \u001b[0;34m\u001b[0m\u001b[0m\n\u001b[1;32m      4\u001b[0m \u001b[0mplt\u001b[0m\u001b[0;34m.\u001b[0m\u001b[0mplot\u001b[0m\u001b[0;34m(\u001b[0m\u001b[0myrs\u001b[0m\u001b[0;34m,\u001b[0m \u001b[0mvals\u001b[0m\u001b[0;34m)\u001b[0m\u001b[0;34m\u001b[0m\u001b[0;34m\u001b[0m\u001b[0m\n\u001b[0;32m----> 5\u001b[0;31m \u001b[0mplt\u001b[0m\u001b[0;34m.\u001b[0m\u001b[0mplot\u001b[0m\u001b[0;34m(\u001b[0m\u001b[0myrs\u001b[0m\u001b[0;34m,\u001b[0m \u001b[0my_test\u001b[0m\u001b[0;34m)\u001b[0m\u001b[0;34m\u001b[0m\u001b[0;34m\u001b[0m\u001b[0m\n\u001b[0m",
            "\u001b[0;32m/usr/local/lib/python3.6/dist-packages/matplotlib/pyplot.py\u001b[0m in \u001b[0;36mplot\u001b[0;34m(scalex, scaley, data, *args, **kwargs)\u001b[0m\n\u001b[1;32m   2787\u001b[0m     return gca().plot(\n\u001b[1;32m   2788\u001b[0m         *args, scalex=scalex, scaley=scaley, **({\"data\": data} if data\n\u001b[0;32m-> 2789\u001b[0;31m         is not None else {}), **kwargs)\n\u001b[0m\u001b[1;32m   2790\u001b[0m \u001b[0;34m\u001b[0m\u001b[0m\n\u001b[1;32m   2791\u001b[0m \u001b[0;34m\u001b[0m\u001b[0m\n",
            "\u001b[0;32m/usr/local/lib/python3.6/dist-packages/matplotlib/axes/_axes.py\u001b[0m in \u001b[0;36mplot\u001b[0;34m(self, scalex, scaley, data, *args, **kwargs)\u001b[0m\n\u001b[1;32m   1663\u001b[0m         \"\"\"\n\u001b[1;32m   1664\u001b[0m         \u001b[0mkwargs\u001b[0m \u001b[0;34m=\u001b[0m \u001b[0mcbook\u001b[0m\u001b[0;34m.\u001b[0m\u001b[0mnormalize_kwargs\u001b[0m\u001b[0;34m(\u001b[0m\u001b[0mkwargs\u001b[0m\u001b[0;34m,\u001b[0m \u001b[0mmlines\u001b[0m\u001b[0;34m.\u001b[0m\u001b[0mLine2D\u001b[0m\u001b[0;34m.\u001b[0m\u001b[0m_alias_map\u001b[0m\u001b[0;34m)\u001b[0m\u001b[0;34m\u001b[0m\u001b[0;34m\u001b[0m\u001b[0m\n\u001b[0;32m-> 1665\u001b[0;31m         \u001b[0mlines\u001b[0m \u001b[0;34m=\u001b[0m \u001b[0;34m[\u001b[0m\u001b[0;34m*\u001b[0m\u001b[0mself\u001b[0m\u001b[0;34m.\u001b[0m\u001b[0m_get_lines\u001b[0m\u001b[0;34m(\u001b[0m\u001b[0;34m*\u001b[0m\u001b[0margs\u001b[0m\u001b[0;34m,\u001b[0m \u001b[0mdata\u001b[0m\u001b[0;34m=\u001b[0m\u001b[0mdata\u001b[0m\u001b[0;34m,\u001b[0m \u001b[0;34m**\u001b[0m\u001b[0mkwargs\u001b[0m\u001b[0;34m)\u001b[0m\u001b[0;34m]\u001b[0m\u001b[0;34m\u001b[0m\u001b[0;34m\u001b[0m\u001b[0m\n\u001b[0m\u001b[1;32m   1666\u001b[0m         \u001b[0;32mfor\u001b[0m \u001b[0mline\u001b[0m \u001b[0;32min\u001b[0m \u001b[0mlines\u001b[0m\u001b[0;34m:\u001b[0m\u001b[0;34m\u001b[0m\u001b[0;34m\u001b[0m\u001b[0m\n\u001b[1;32m   1667\u001b[0m             \u001b[0mself\u001b[0m\u001b[0;34m.\u001b[0m\u001b[0madd_line\u001b[0m\u001b[0;34m(\u001b[0m\u001b[0mline\u001b[0m\u001b[0;34m)\u001b[0m\u001b[0;34m\u001b[0m\u001b[0;34m\u001b[0m\u001b[0m\n",
            "\u001b[0;32m/usr/local/lib/python3.6/dist-packages/matplotlib/axes/_base.py\u001b[0m in \u001b[0;36m__call__\u001b[0;34m(self, *args, **kwargs)\u001b[0m\n\u001b[1;32m    223\u001b[0m                 \u001b[0mthis\u001b[0m \u001b[0;34m+=\u001b[0m \u001b[0margs\u001b[0m\u001b[0;34m[\u001b[0m\u001b[0;36m0\u001b[0m\u001b[0;34m]\u001b[0m\u001b[0;34m,\u001b[0m\u001b[0;34m\u001b[0m\u001b[0;34m\u001b[0m\u001b[0m\n\u001b[1;32m    224\u001b[0m                 \u001b[0margs\u001b[0m \u001b[0;34m=\u001b[0m \u001b[0margs\u001b[0m\u001b[0;34m[\u001b[0m\u001b[0;36m1\u001b[0m\u001b[0;34m:\u001b[0m\u001b[0;34m]\u001b[0m\u001b[0;34m\u001b[0m\u001b[0;34m\u001b[0m\u001b[0m\n\u001b[0;32m--> 225\u001b[0;31m             \u001b[0;32myield\u001b[0m \u001b[0;32mfrom\u001b[0m \u001b[0mself\u001b[0m\u001b[0;34m.\u001b[0m\u001b[0m_plot_args\u001b[0m\u001b[0;34m(\u001b[0m\u001b[0mthis\u001b[0m\u001b[0;34m,\u001b[0m \u001b[0mkwargs\u001b[0m\u001b[0;34m)\u001b[0m\u001b[0;34m\u001b[0m\u001b[0;34m\u001b[0m\u001b[0m\n\u001b[0m\u001b[1;32m    226\u001b[0m \u001b[0;34m\u001b[0m\u001b[0m\n\u001b[1;32m    227\u001b[0m     \u001b[0;32mdef\u001b[0m \u001b[0mget_next_color\u001b[0m\u001b[0;34m(\u001b[0m\u001b[0mself\u001b[0m\u001b[0;34m)\u001b[0m\u001b[0;34m:\u001b[0m\u001b[0;34m\u001b[0m\u001b[0;34m\u001b[0m\u001b[0m\n",
            "\u001b[0;32m/usr/local/lib/python3.6/dist-packages/matplotlib/axes/_base.py\u001b[0m in \u001b[0;36m_plot_args\u001b[0;34m(self, tup, kwargs)\u001b[0m\n\u001b[1;32m    389\u001b[0m             \u001b[0mx\u001b[0m\u001b[0;34m,\u001b[0m \u001b[0my\u001b[0m \u001b[0;34m=\u001b[0m \u001b[0mindex_of\u001b[0m\u001b[0;34m(\u001b[0m\u001b[0mtup\u001b[0m\u001b[0;34m[\u001b[0m\u001b[0;34m-\u001b[0m\u001b[0;36m1\u001b[0m\u001b[0;34m]\u001b[0m\u001b[0;34m)\u001b[0m\u001b[0;34m\u001b[0m\u001b[0;34m\u001b[0m\u001b[0m\n\u001b[1;32m    390\u001b[0m \u001b[0;34m\u001b[0m\u001b[0m\n\u001b[0;32m--> 391\u001b[0;31m         \u001b[0mx\u001b[0m\u001b[0;34m,\u001b[0m \u001b[0my\u001b[0m \u001b[0;34m=\u001b[0m \u001b[0mself\u001b[0m\u001b[0;34m.\u001b[0m\u001b[0m_xy_from_xy\u001b[0m\u001b[0;34m(\u001b[0m\u001b[0mx\u001b[0m\u001b[0;34m,\u001b[0m \u001b[0my\u001b[0m\u001b[0;34m)\u001b[0m\u001b[0;34m\u001b[0m\u001b[0;34m\u001b[0m\u001b[0m\n\u001b[0m\u001b[1;32m    392\u001b[0m \u001b[0;34m\u001b[0m\u001b[0m\n\u001b[1;32m    393\u001b[0m         \u001b[0;32mif\u001b[0m \u001b[0mself\u001b[0m\u001b[0;34m.\u001b[0m\u001b[0mcommand\u001b[0m \u001b[0;34m==\u001b[0m \u001b[0;34m'plot'\u001b[0m\u001b[0;34m:\u001b[0m\u001b[0;34m\u001b[0m\u001b[0;34m\u001b[0m\u001b[0m\n",
            "\u001b[0;32m/usr/local/lib/python3.6/dist-packages/matplotlib/axes/_base.py\u001b[0m in \u001b[0;36m_xy_from_xy\u001b[0;34m(self, x, y)\u001b[0m\n\u001b[1;32m    268\u001b[0m         \u001b[0;32mif\u001b[0m \u001b[0mx\u001b[0m\u001b[0;34m.\u001b[0m\u001b[0mshape\u001b[0m\u001b[0;34m[\u001b[0m\u001b[0;36m0\u001b[0m\u001b[0;34m]\u001b[0m \u001b[0;34m!=\u001b[0m \u001b[0my\u001b[0m\u001b[0;34m.\u001b[0m\u001b[0mshape\u001b[0m\u001b[0;34m[\u001b[0m\u001b[0;36m0\u001b[0m\u001b[0;34m]\u001b[0m\u001b[0;34m:\u001b[0m\u001b[0;34m\u001b[0m\u001b[0;34m\u001b[0m\u001b[0m\n\u001b[1;32m    269\u001b[0m             raise ValueError(\"x and y must have same first dimension, but \"\n\u001b[0;32m--> 270\u001b[0;31m                              \"have shapes {} and {}\".format(x.shape, y.shape))\n\u001b[0m\u001b[1;32m    271\u001b[0m         \u001b[0;32mif\u001b[0m \u001b[0mx\u001b[0m\u001b[0;34m.\u001b[0m\u001b[0mndim\u001b[0m \u001b[0;34m>\u001b[0m \u001b[0;36m2\u001b[0m \u001b[0;32mor\u001b[0m \u001b[0my\u001b[0m\u001b[0;34m.\u001b[0m\u001b[0mndim\u001b[0m \u001b[0;34m>\u001b[0m \u001b[0;36m2\u001b[0m\u001b[0;34m:\u001b[0m\u001b[0;34m\u001b[0m\u001b[0;34m\u001b[0m\u001b[0m\n\u001b[1;32m    272\u001b[0m             raise ValueError(\"x and y can be no greater than 2-D, but have \"\n",
            "\u001b[0;31mValueError\u001b[0m: x and y must have same first dimension, but have shapes (3,) and (99,)"
          ]
        },
        {
          "output_type": "display_data",
          "data": {
            "image/png": "[encoded data removed]",
            "text/plain": [
              "<Figure size 432x288 with 1 Axes>"
            ]
          },
          "metadata": {
            "tags": []
          }
        }
      ]
    },
    {
      "cell_type": "code",
      "metadata": {
        "id": "gAeCsHCFiS0u",
        "colab_type": "code",
        "outputId": "7628d61d-5bfc-4c1d-d94d-75a7e8df80ff",
        "colab": {
          "base_uri": "https://localhost:8080/",
          "height": 52
        }
      },
      "source": [
        "X_train.columns.values"
      ],
      "execution_count": 0,
      "outputs": [
        {
          "output_type": "execute_result",
          "data": {
            "text/plain": [
              "array(['Block_name', 'District', 'Year', 'RAINFALL', 'GRDWTR', 'Indexing',\n",
              "       'Soil_Score', 'SOIL_TYPE', 'Elevation'], dtype=object)"
            ]
          },
          "metadata": {
            "tags": []
          },
          "execution_count": 95
        }
      ]
    },
    {
      "cell_type": "code",
      "metadata": {
        "id": "9-AY88ZmOzvw",
        "colab_type": "code",
        "outputId": "28f3af27-6e3e-4cb8-eabf-cde0c11dceb3",
        "colab": {
          "base_uri": "https://localhost:8080/",
          "height": 232
        }
      },
      "source": [
        "from xgboost.sklearn import XGBRegressor\n",
        "xgrb_rice = XGBRegressor(obj = 'reg:squarederror', n_estimators = 500)\n",
        "xgrb_rice.fit(X_train, y_train)"
      ],
      "execution_count": 181,
      "outputs": [
        {
          "output_type": "stream",
          "text": [
            "/usr/local/lib/python3.6/dist-packages/xgboost/core.py:587: FutureWarning: Series.base is deprecated and will be removed in a future version\n",
            "  if getattr(data, 'base', None) is not None and \\\n"
          ],
          "name": "stderr"
        },
        {
          "output_type": "stream",
          "text": [
            "[21:46:37] WARNING: /workspace/src/objective/regression_obj.cu:152: reg:linear is now deprecated in favor of reg:squarederror.\n"
          ],
          "name": "stdout"
        },
        {
          "output_type": "execute_result",
          "data": {
            "text/plain": [
              "XGBRegressor(base_score=0.5, booster='gbtree', colsample_bylevel=1,\n",
              "             colsample_bynode=1, colsample_bytree=1, gamma=0,\n",
              "             importance_type='gain', learning_rate=0.1, max_delta_step=0,\n",
              "             max_depth=3, min_child_weight=1, missing=None, n_estimators=500,\n",
              "             n_jobs=1, nthread=None, obj='reg:squarederror',\n",
              "             objective='reg:linear', random_state=0, reg_alpha=0, reg_lambda=1,\n",
              "             scale_pos_weight=1, seed=None, silent=None, subsample=1,\n",
              "             verbosity=1)"
            ]
          },
          "metadata": {
            "tags": []
          },
          "execution_count": 181
        }
      ]
    },
    {
      "cell_type": "code",
      "metadata": {
        "id": "jGqRovDpcI6N",
        "colab_type": "code",
        "outputId": "ce8e18cc-6d65-490e-e482-dde63ab0f975",
        "colab": {
          "base_uri": "https://localhost:8080/",
          "height": 212
        }
      },
      "source": [
        "merged_copy_jowar = merged_copy.drop(columns=['Rice_Yield'])\n",
        "print(merged_copy_jowar.columns.values)\n",
        "X_train, X_test, y_train, y_test =train_test_split(merged_copy_jowar.iloc[:,:-1], merged_copy_jowar['Jowar_Yield'], test_size = 0.2)\n",
        "\n"
      ],
      "execution_count": 0,
      "outputs": [
        {
          "output_type": "stream",
          "text": [
            "['Block_name' 'District' 'Year' 'RAINFALL' 'GRDWTR' 'Indexing'\n",
            " 'Soil_Score' 'SOIL_TYPE' 'Elevation' 'Jowar_Yield']\n"
          ],
          "name": "stdout"
        },
        {
          "output_type": "stream",
          "text": [
            "[Parallel(n_jobs=1)]: Using backend SequentialBackend with 1 concurrent workers.\n",
            "[Parallel(n_jobs=1)]: Done 100 out of 100 | elapsed:    0.5s finished\n"
          ],
          "name": "stderr"
        },
        {
          "output_type": "execute_result",
          "data": {
            "text/plain": [
              "RandomForestRegressor(bootstrap=True, ccp_alpha=0.0, criterion='mse',\n",
              "                      max_depth=10, max_features='auto', max_leaf_nodes=None,\n",
              "                      max_samples=None, min_impurity_decrease=0.0,\n",
              "                      min_impurity_split=None, min_samples_leaf=1,\n",
              "                      min_samples_split=2, min_weight_fraction_leaf=0.0,\n",
              "                      n_estimators=100, n_jobs=None, oob_score=False,\n",
              "                      random_state=False, verbose=1, warm_start=False)"
            ]
          },
          "metadata": {
            "tags": []
          },
          "execution_count": 94
        }
      ]
    },
    {
      "cell_type": "code",
      "metadata": {
        "id": "YJOZ1RWAimsf",
        "colab_type": "code",
        "outputId": "bb418bcb-8950-4b92-e183-ef2e6b7859d5",
        "colab": {
          "base_uri": "https://localhost:8080/",
          "height": 141
        }
      },
      "source": [
        "rf_jowar = RandomForestRegressor(max_depth = 10, n_estimators = 100, random_state= False, verbose=0)\n",
        "rf_jowar.fit(X_train, y_train)"
      ],
      "execution_count": 0,
      "outputs": [
        {
          "output_type": "execute_result",
          "data": {
            "text/plain": [
              "RandomForestRegressor(bootstrap=True, ccp_alpha=0.0, criterion='mse',\n",
              "                      max_depth=10, max_features='auto', max_leaf_nodes=None,\n",
              "                      max_samples=None, min_impurity_decrease=0.0,\n",
              "                      min_impurity_split=None, min_samples_leaf=1,\n",
              "                      min_samples_split=2, min_weight_fraction_leaf=0.0,\n",
              "                      n_estimators=100, n_jobs=None, oob_score=False,\n",
              "                      random_state=False, verbose=0, warm_start=False)"
            ]
          },
          "metadata": {
            "tags": []
          },
          "execution_count": 99
        }
      ]
    },
    {
      "cell_type": "code",
      "metadata": {
        "id": "7lfdTzUghxmD",
        "colab_type": "code",
        "outputId": "af98e643-912e-4376-ebe3-42785803d1c5",
        "colab": {
          "base_uri": "https://localhost:8080/",
          "height": 52
        }
      },
      "source": [
        "print(X_test.columns.values)"
      ],
      "execution_count": 0,
      "outputs": [
        {
          "output_type": "stream",
          "text": [
            "['Block_name' 'District' 'Year' 'RAINFALL' 'GRDWTR' 'Indexing'\n",
            " 'Soil_Score' 'SOIL_TYPE' 'Elevation']\n"
          ],
          "name": "stdout"
        }
      ]
    },
    {
      "cell_type": "code",
      "metadata": {
        "id": "tuaFUI08gVJX",
        "colab_type": "code",
        "outputId": "ee4f80da-3955-4a7b-b874-0c54b758a177",
        "colab": {
          "base_uri": "https://localhost:8080/",
          "height": 1000
        }
      },
      "source": [
        "val = rf_jowar.predict(np.array(X_test.iloc[1,:]).reshape(1,-1))[0]\n",
        "print(np.exp(val) - 1)\n",
        "for vals in range(1, X_test.shape[0]):\n",
        "  val1 = rf_jowar.predict(np.array(X_test.iloc[vals,:]).reshape(1,-1))[0]\n",
        "  val2 = rf_rice.predict(np.array(X_test.iloc[vals,:]).reshape(1,-1))[0]\n",
        "  if val1 > val2:\n",
        "    print(\"Cultivate Jowar, You can get yield of \", np.exp(val1) - 1)\n",
        "  else:\n",
        "    print(\"Cultivate Rice, You can get yield of \", np.exp(val2) - 1)"
      ],
      "execution_count": 0,
      "outputs": [
        {
          "output_type": "stream",
          "text": [
            "1170.6403112730613\n",
            "Cultivate Rice, You can get yield of  1170.6403112730613\n",
            "Cultivate Rice, You can get yield of  857.759084014366\n",
            "Cultivate Rice, You can get yield of  1199.8549533769296\n",
            "Cultivate Rice, You can get yield of  1191.5787860602175\n",
            "Cultivate Rice, You can get yield of  1773.3095352015132\n",
            "Cultivate Rice, You can get yield of  943.0392907689574\n",
            "Cultivate Rice, You can get yield of  1388.058270241465\n",
            "Cultivate Rice, You can get yield of  1200.3998970002335\n",
            "Cultivate Rice, You can get yield of  1211.655398518519\n",
            "Cultivate Rice, You can get yield of  1199.8410923285467\n",
            "Cultivate Rice, You can get yield of  895.1973414326766\n",
            "Cultivate Rice, You can get yield of  931.1686046435946\n",
            "Cultivate Rice, You can get yield of  1109.3706491142405\n",
            "Cultivate Rice, You can get yield of  1235.1151614277996\n",
            "Cultivate Rice, You can get yield of  677.7174116834053\n",
            "Cultivate Rice, You can get yield of  1200.239274857595\n",
            "Cultivate Rice, You can get yield of  1199.6972521738478\n",
            "Cultivate Rice, You can get yield of  1199.622846086543\n",
            "Cultivate Rice, You can get yield of  913.4148534149323\n",
            "Cultivate Rice, You can get yield of  1202.5361873686936\n",
            "Cultivate Rice, You can get yield of  1115.3090593140198\n",
            "Cultivate Rice, You can get yield of  1639.9169900009324\n",
            "Cultivate Rice, You can get yield of  1217.6588964690495\n",
            "Cultivate Rice, You can get yield of  1181.9237008901107\n",
            "Cultivate Rice, You can get yield of  1199.622846086543\n",
            "Cultivate Rice, You can get yield of  1255.359700890195\n",
            "Cultivate Rice, You can get yield of  1798.1429743854833\n",
            "Cultivate Rice, You can get yield of  1124.2738394948865\n",
            "Cultivate Rice, You can get yield of  1062.1309076941427\n",
            "Cultivate Rice, You can get yield of  1187.4481168632608\n",
            "Cultivate Rice, You can get yield of  1315.8513315083217\n",
            "Cultivate Rice, You can get yield of  1003.8520175282667\n",
            "Cultivate Rice, You can get yield of  807.5420857119045\n",
            "Cultivate Rice, You can get yield of  1795.3157680775523\n",
            "Cultivate Rice, You can get yield of  1198.8010216084242\n",
            "Cultivate Rice, You can get yield of  1046.8299246605932\n",
            "Cultivate Rice, You can get yield of  644.863452996771\n",
            "Cultivate Rice, You can get yield of  1083.7219173871486\n",
            "Cultivate Rice, You can get yield of  881.9803500405473\n",
            "Cultivate Rice, You can get yield of  1020.2392205016416\n",
            "Cultivate Rice, You can get yield of  1199.6857297732033\n",
            "Cultivate Rice, You can get yield of  1444.3828188010486\n",
            "Cultivate Rice, You can get yield of  1419.8208713820302\n",
            "Cultivate Rice, You can get yield of  1197.3392731821702\n",
            "Cultivate Rice, You can get yield of  1185.5538977431627\n",
            "Cultivate Rice, You can get yield of  1036.3664999301247\n",
            "Cultivate Rice, You can get yield of  783.1412339612164\n",
            "Cultivate Rice, You can get yield of  1787.6841298504903\n",
            "Cultivate Rice, You can get yield of  803.9029652661534\n",
            "Cultivate Rice, You can get yield of  1230.966001202866\n",
            "Cultivate Rice, You can get yield of  974.2388240892869\n",
            "Cultivate Rice, You can get yield of  973.8600133520773\n",
            "Cultivate Rice, You can get yield of  826.2238312494342\n",
            "Cultivate Rice, You can get yield of  1162.071851204409\n",
            "Cultivate Rice, You can get yield of  976.0202067727787\n",
            "Cultivate Rice, You can get yield of  802.0927841003531\n",
            "Cultivate Rice, You can get yield of  1262.5243008923808\n",
            "Cultivate Rice, You can get yield of  1211.8900635842622\n",
            "Cultivate Rice, You can get yield of  1457.0669791859018\n",
            "Cultivate Rice, You can get yield of  859.467832863182\n",
            "Cultivate Rice, You can get yield of  1112.6748204690114\n",
            "Cultivate Rice, You can get yield of  1207.4864340150239\n",
            "Cultivate Rice, You can get yield of  1629.8272612405199\n",
            "Cultivate Rice, You can get yield of  924.5694760762412\n",
            "Cultivate Rice, You can get yield of  1011.1263206940966\n",
            "Cultivate Rice, You can get yield of  1199.6857297732033\n",
            "Cultivate Rice, You can get yield of  1221.111797484891\n",
            "Cultivate Rice, You can get yield of  1193.7307286837988\n",
            "Cultivate Rice, You can get yield of  1060.079648270106\n",
            "Cultivate Rice, You can get yield of  1175.2847093960545\n",
            "Cultivate Rice, You can get yield of  1160.182439563933\n",
            "Cultivate Rice, You can get yield of  873.0364692848021\n",
            "Cultivate Rice, You can get yield of  1199.0625374473007\n",
            "Cultivate Rice, You can get yield of  1167.130798063845\n",
            "Cultivate Rice, You can get yield of  808.6190120548899\n",
            "Cultivate Rice, You can get yield of  1142.0843681461183\n",
            "Cultivate Rice, You can get yield of  1199.8526162201304\n",
            "Cultivate Rice, You can get yield of  1204.500797178215\n",
            "Cultivate Rice, You can get yield of  931.0214188534511\n",
            "Cultivate Rice, You can get yield of  1157.8892944660622\n",
            "Cultivate Rice, You can get yield of  835.6128686519011\n",
            "Cultivate Rice, You can get yield of  548.200445617607\n",
            "Cultivate Rice, You can get yield of  1082.5757695302611\n",
            "Cultivate Rice, You can get yield of  1250.0388466170546\n",
            "Cultivate Rice, You can get yield of  1522.730428181945\n",
            "Cultivate Rice, You can get yield of  915.5923201030076\n",
            "Cultivate Rice, You can get yield of  945.5192596324107\n",
            "Cultivate Rice, You can get yield of  948.9421125707541\n",
            "Cultivate Rice, You can get yield of  1200.3998970002335\n",
            "Cultivate Rice, You can get yield of  975.0513550557877\n",
            "Cultivate Rice, You can get yield of  1081.4877342169148\n",
            "Cultivate Rice, You can get yield of  1199.622846086543\n",
            "Cultivate Rice, You can get yield of  1139.570217051185\n",
            "Cultivate Rice, You can get yield of  1855.8826774393635\n",
            "Cultivate Rice, You can get yield of  861.7902964354747\n",
            "Cultivate Rice, You can get yield of  1269.2212870550143\n",
            "Cultivate Rice, You can get yield of  1852.9990868326342\n",
            "Cultivate Rice, You can get yield of  1254.764621378093\n",
            "Cultivate Rice, You can get yield of  1202.5639081327188\n",
            "Cultivate Rice, You can get yield of  2538.7088049820513\n",
            "Cultivate Rice, You can get yield of  625.849873390115\n",
            "Cultivate Rice, You can get yield of  1039.1649865684258\n",
            "Cultivate Rice, You can get yield of  1102.9743885224027\n",
            "Cultivate Rice, You can get yield of  1203.310868160306\n",
            "Cultivate Rice, You can get yield of  1063.8013294916784\n",
            "Cultivate Rice, You can get yield of  1055.486664639959\n",
            "Cultivate Rice, You can get yield of  1948.2824180697082\n",
            "Cultivate Rice, You can get yield of  1236.0345617560267\n",
            "Cultivate Rice, You can get yield of  1181.5574285731657\n",
            "Cultivate Rice, You can get yield of  889.5570312542324\n",
            "Cultivate Rice, You can get yield of  1529.2582240358556\n",
            "Cultivate Rice, You can get yield of  1119.6335586214925\n",
            "Cultivate Rice, You can get yield of  1845.5596506247457\n",
            "Cultivate Rice, You can get yield of  1263.4765460374226\n",
            "Cultivate Rice, You can get yield of  1190.6305809178796\n",
            "Cultivate Rice, You can get yield of  1200.4114262543958\n",
            "Cultivate Rice, You can get yield of  1248.858823283612\n",
            "Cultivate Rice, You can get yield of  1114.8408081324776\n",
            "Cultivate Rice, You can get yield of  1387.2707671343364\n",
            "Cultivate Rice, You can get yield of  1188.1168088164254\n",
            "Cultivate Rice, You can get yield of  1090.109338170066\n",
            "Cultivate Rice, You can get yield of  1075.0465518395279\n",
            "Cultivate Rice, You can get yield of  1193.8387139566375\n",
            "Cultivate Rice, You can get yield of  1199.0006685737187\n",
            "Cultivate Rice, You can get yield of  924.6250271471814\n",
            "Cultivate Rice, You can get yield of  962.8446186500755\n",
            "Cultivate Rice, You can get yield of  2253.464981143457\n",
            "Cultivate Rice, You can get yield of  893.5884412116383\n",
            "Cultivate Rice, You can get yield of  966.0515202052753\n",
            "Cultivate Rice, You can get yield of  1108.6682764054806\n",
            "Cultivate Rice, You can get yield of  1197.6661151325955\n",
            "Cultivate Rice, You can get yield of  1090.7155542116047\n",
            "Cultivate Rice, You can get yield of  2409.153424564308\n",
            "Cultivate Rice, You can get yield of  1065.3769750801403\n",
            "Cultivate Rice, You can get yield of  1196.108588201073\n",
            "Cultivate Rice, You can get yield of  1866.173422089283\n",
            "Cultivate Rice, You can get yield of  1105.3922318576924\n",
            "Cultivate Rice, You can get yield of  1080.5884603526004\n",
            "Cultivate Rice, You can get yield of  897.1737072040928\n",
            "Cultivate Rice, You can get yield of  1214.3927675719265\n",
            "Cultivate Rice, You can get yield of  865.1113033934288\n",
            "Cultivate Rice, You can get yield of  1002.9432330753507\n",
            "Cultivate Rice, You can get yield of  1162.7124138899992\n",
            "Cultivate Rice, You can get yield of  1174.2015406437517\n",
            "Cultivate Rice, You can get yield of  1082.9754816859886\n",
            "Cultivate Rice, You can get yield of  909.292810810041\n",
            "Cultivate Rice, You can get yield of  899.3859858343434\n",
            "Cultivate Rice, You can get yield of  1293.6988035402896\n",
            "Cultivate Rice, You can get yield of  1524.9660444454182\n",
            "Cultivate Rice, You can get yield of  833.3054672854169\n",
            "Cultivate Rice, You can get yield of  1081.3085997075966\n",
            "Cultivate Rice, You can get yield of  1159.32801192582\n",
            "Cultivate Rice, You can get yield of  2123.5539813954924\n",
            "Cultivate Rice, You can get yield of  1092.015509275882\n",
            "Cultivate Rice, You can get yield of  1264.491217697407\n",
            "Cultivate Rice, You can get yield of  722.9606586554099\n",
            "Cultivate Rice, You can get yield of  1757.2754412160543\n",
            "Cultivate Rice, You can get yield of  1015.3494335644606\n",
            "Cultivate Rice, You can get yield of  1130.833577267641\n",
            "Cultivate Rice, You can get yield of  1292.1814986321763\n",
            "Cultivate Rice, You can get yield of  1791.4630536772602\n",
            "Cultivate Rice, You can get yield of  863.2664654349026\n",
            "Cultivate Rice, You can get yield of  1226.054021985641\n",
            "Cultivate Rice, You can get yield of  1170.3804150774656\n",
            "Cultivate Rice, You can get yield of  758.4096179378057\n",
            "Cultivate Rice, You can get yield of  1190.3668259995866\n",
            "Cultivate Rice, You can get yield of  1151.1797745346148\n",
            "Cultivate Rice, You can get yield of  923.8589074644908\n",
            "Cultivate Rice, You can get yield of  1162.3114369711602\n",
            "Cultivate Rice, You can get yield of  1167.8360107314084\n",
            "Cultivate Rice, You can get yield of  1120.5316824639945\n",
            "Cultivate Rice, You can get yield of  1032.7858194882156\n",
            "Cultivate Rice, You can get yield of  1417.083403305305\n",
            "Cultivate Rice, You can get yield of  738.6369217417677\n",
            "Cultivate Rice, You can get yield of  875.2454236504491\n",
            "Cultivate Rice, You can get yield of  876.5569036606454\n",
            "Cultivate Rice, You can get yield of  894.6252278230985\n",
            "Cultivate Rice, You can get yield of  1119.2377939393784\n",
            "Cultivate Rice, You can get yield of  1385.1313103989514\n",
            "Cultivate Rice, You can get yield of  1407.6927630222997\n",
            "Cultivate Rice, You can get yield of  605.0156483651463\n",
            "Cultivate Rice, You can get yield of  1091.3590316102134\n",
            "Cultivate Rice, You can get yield of  1116.7094159539033\n",
            "Cultivate Rice, You can get yield of  1048.0539766625707\n",
            "Cultivate Rice, You can get yield of  1627.9919382530907\n",
            "Cultivate Rice, You can get yield of  1168.6189953912233\n",
            "Cultivate Rice, You can get yield of  1095.5411268076055\n",
            "Cultivate Rice, You can get yield of  966.6510458781356\n",
            "Cultivate Rice, You can get yield of  904.3434153098289\n",
            "Cultivate Rice, You can get yield of  1199.673875741128\n",
            "Cultivate Rice, You can get yield of  1201.320613244684\n",
            "Cultivate Rice, You can get yield of  1190.9674966941998\n",
            "Cultivate Rice, You can get yield of  1216.3288602629775\n",
            "Cultivate Rice, You can get yield of  1130.205409264673\n",
            "Cultivate Rice, You can get yield of  856.331472506007\n",
            "Cultivate Rice, You can get yield of  1217.6084528062593\n",
            "Cultivate Rice, You can get yield of  800.7298177309857\n",
            "Cultivate Rice, You can get yield of  1144.7833418650162\n",
            "Cultivate Rice, You can get yield of  914.2666233536959\n",
            "Cultivate Rice, You can get yield of  1470.8977815091841\n",
            "Cultivate Rice, You can get yield of  996.6938322962994\n",
            "Cultivate Rice, You can get yield of  1237.6944689293687\n",
            "Cultivate Rice, You can get yield of  906.0103593063479\n",
            "Cultivate Rice, You can get yield of  1083.0716015975775\n",
            "Cultivate Rice, You can get yield of  1356.9556257595625\n",
            "Cultivate Rice, You can get yield of  495.89568009277775\n",
            "Cultivate Rice, You can get yield of  2156.8178563143365\n",
            "Cultivate Rice, You can get yield of  1229.6328609704162\n",
            "Cultivate Rice, You can get yield of  954.263824680203\n",
            "Cultivate Rice, You can get yield of  1086.3275566896575\n",
            "Cultivate Rice, You can get yield of  1721.932319168421\n",
            "Cultivate Rice, You can get yield of  1199.7048187214389\n",
            "Cultivate Rice, You can get yield of  1008.3605209735881\n",
            "Cultivate Rice, You can get yield of  1199.603758441517\n",
            "Cultivate Rice, You can get yield of  1127.0007555742636\n",
            "Cultivate Rice, You can get yield of  1217.2157353359496\n",
            "Cultivate Rice, You can get yield of  1199.6857297732033\n",
            "Cultivate Rice, You can get yield of  815.4347660523474\n",
            "Cultivate Rice, You can get yield of  1156.1370017023037\n",
            "Cultivate Rice, You can get yield of  1055.0965815810525\n",
            "Cultivate Rice, You can get yield of  1225.9802177434165\n",
            "Cultivate Rice, You can get yield of  1204.1019489584153\n",
            "Cultivate Rice, You can get yield of  1439.607275673461\n",
            "Cultivate Rice, You can get yield of  1766.25564502543\n",
            "Cultivate Rice, You can get yield of  1230.603557781178\n",
            "Cultivate Rice, You can get yield of  2178.71991176061\n",
            "Cultivate Rice, You can get yield of  1154.8090752966639\n",
            "Cultivate Rice, You can get yield of  1123.9224451242721\n",
            "Cultivate Rice, You can get yield of  1059.2712139221328\n",
            "Cultivate Rice, You can get yield of  1260.7909774932366\n",
            "Cultivate Rice, You can get yield of  1200.3880359173875\n",
            "Cultivate Rice, You can get yield of  1783.6506437415821\n",
            "Cultivate Rice, You can get yield of  1199.6932962481828\n",
            "Cultivate Rice, You can get yield of  1186.3381236320336\n",
            "Cultivate Rice, You can get yield of  1203.440296838948\n",
            "Cultivate Rice, You can get yield of  1068.9324154836895\n",
            "Cultivate Rice, You can get yield of  1207.4977757517954\n",
            "Cultivate Rice, You can get yield of  886.145413263014\n",
            "Cultivate Rice, You can get yield of  1093.787484216345\n",
            "Cultivate Rice, You can get yield of  999.683749103368\n",
            "Cultivate Rice, You can get yield of  1198.9870581276607\n",
            "Cultivate Rice, You can get yield of  1206.0729390906088\n",
            "Cultivate Rice, You can get yield of  1233.4128290715278\n",
            "Cultivate Rice, You can get yield of  1154.221458352352\n",
            "Cultivate Rice, You can get yield of  1035.866073043447\n",
            "Cultivate Rice, You can get yield of  1202.7115450559709\n",
            "Cultivate Rice, You can get yield of  1165.6074240323937\n",
            "Cultivate Rice, You can get yield of  1151.388882036852\n",
            "Cultivate Rice, You can get yield of  1341.8486111687819\n",
            "Cultivate Rice, You can get yield of  2377.3158335290786\n",
            "Cultivate Rice, You can get yield of  1140.0639085710654\n",
            "Cultivate Rice, You can get yield of  1200.3998970002335\n",
            "Cultivate Rice, You can get yield of  2242.677693149642\n",
            "Cultivate Rice, You can get yield of  560.7196169741211\n",
            "Cultivate Rice, You can get yield of  706.9808198758075\n",
            "Cultivate Rice, You can get yield of  1347.5755095404113\n",
            "Cultivate Rice, You can get yield of  1183.5727559644681\n",
            "Cultivate Rice, You can get yield of  1183.677376601662\n",
            "Cultivate Rice, You can get yield of  1189.6569410978088\n",
            "Cultivate Rice, You can get yield of  763.4951685490913\n",
            "Cultivate Rice, You can get yield of  1161.489939064486\n",
            "Cultivate Rice, You can get yield of  1012.3608805673596\n",
            "Cultivate Rice, You can get yield of  1000.3437778296102\n",
            "Cultivate Rice, You can get yield of  924.7606240146487\n",
            "Cultivate Rice, You can get yield of  1565.3678257923355\n",
            "Cultivate Rice, You can get yield of  1159.020852357036\n",
            "Cultivate Rice, You can get yield of  1202.5361873686936\n",
            "Cultivate Rice, You can get yield of  1341.057483596595\n",
            "Cultivate Rice, You can get yield of  887.8715608320522\n",
            "Cultivate Rice, You can get yield of  1104.9002989739229\n",
            "Cultivate Rice, You can get yield of  2031.2492130605722\n",
            "Cultivate Rice, You can get yield of  991.3429008252092\n",
            "Cultivate Rice, You can get yield of  1207.6867572305898\n",
            "Cultivate Rice, You can get yield of  1199.6857297732033\n",
            "Cultivate Rice, You can get yield of  1434.5904136420245\n",
            "Cultivate Rice, You can get yield of  1156.878228853302\n",
            "Cultivate Rice, You can get yield of  926.8310052119517\n",
            "Cultivate Rice, You can get yield of  1162.3970149624936\n",
            "Cultivate Rice, You can get yield of  1200.3998970002335\n",
            "Cultivate Rice, You can get yield of  1033.3811568779918\n",
            "Cultivate Rice, You can get yield of  1111.153811343864\n",
            "Cultivate Rice, You can get yield of  921.0862696749069\n",
            "Cultivate Rice, You can get yield of  1004.9008901752247\n",
            "Cultivate Rice, You can get yield of  1214.364262144585\n",
            "Cultivate Rice, You can get yield of  1282.9459685935267\n",
            "Cultivate Rice, You can get yield of  940.3720047111354\n",
            "Cultivate Rice, You can get yield of  998.5431492629116\n",
            "Cultivate Rice, You can get yield of  1205.2999343057115\n",
            "Cultivate Rice, You can get yield of  1207.886713663365\n",
            "Cultivate Rice, You can get yield of  1758.1543625703755\n",
            "Cultivate Rice, You can get yield of  1178.9514269737379\n",
            "Cultivate Rice, You can get yield of  1178.3293388508291\n",
            "Cultivate Rice, You can get yield of  1188.1168088164254\n",
            "Cultivate Rice, You can get yield of  894.3692534844517\n",
            "Cultivate Rice, You can get yield of  929.330319149872\n",
            "Cultivate Rice, You can get yield of  1363.0749808531161\n",
            "Cultivate Rice, You can get yield of  1199.6152800555242\n",
            "Cultivate Rice, You can get yield of  1033.6386431710882\n",
            "Cultivate Rice, You can get yield of  1940.3573629200384\n",
            "Cultivate Rice, You can get yield of  616.409903419293\n",
            "Cultivate Rice, You can get yield of  1175.1586596819209\n",
            "Cultivate Rice, You can get yield of  1044.6862855582872\n",
            "Cultivate Rice, You can get yield of  1152.5995728146997\n",
            "Cultivate Rice, You can get yield of  1188.3580253799576\n",
            "Cultivate Rice, You can get yield of  785.822479985223\n",
            "Cultivate Rice, You can get yield of  1163.701970190813\n",
            "Cultivate Rice, You can get yield of  908.369800723021\n",
            "Cultivate Rice, You can get yield of  1845.410161070596\n",
            "Cultivate Rice, You can get yield of  1167.389042058295\n",
            "Cultivate Rice, You can get yield of  896.7436200578499\n",
            "Cultivate Rice, You can get yield of  1049.5161233276538\n",
            "Cultivate Rice, You can get yield of  1167.077762710706\n",
            "Cultivate Rice, You can get yield of  1097.7825627969405\n",
            "Cultivate Rice, You can get yield of  1440.047075317844\n",
            "Cultivate Rice, You can get yield of  1181.4083051022174\n",
            "Cultivate Rice, You can get yield of  1508.2315611394515\n",
            "Cultivate Rice, You can get yield of  460.40972023325975\n",
            "Cultivate Rice, You can get yield of  980.9632501489772\n",
            "Cultivate Rice, You can get yield of  1200.3294053791003\n",
            "Cultivate Rice, You can get yield of  1201.082442210599\n",
            "Cultivate Rice, You can get yield of  1078.9428116462077\n",
            "Cultivate Rice, You can get yield of  1198.5686419911333\n",
            "Cultivate Rice, You can get yield of  851.4280101425314\n",
            "Cultivate Rice, You can get yield of  1156.0020897291515\n",
            "Cultivate Rice, You can get yield of  1137.4034301773972\n",
            "Cultivate Rice, You can get yield of  901.7412312934892\n",
            "Cultivate Rice, You can get yield of  1229.7040675646226\n",
            "Cultivate Rice, You can get yield of  1229.223506458665\n",
            "Cultivate Rice, You can get yield of  1200.239274857595\n",
            "Cultivate Rice, You can get yield of  1643.7464056125202\n",
            "Cultivate Rice, You can get yield of  1198.3094955394383\n",
            "Cultivate Rice, You can get yield of  1020.1423691460172\n",
            "Cultivate Rice, You can get yield of  1187.9134568147915\n",
            "Cultivate Rice, You can get yield of  1022.9688083592366\n",
            "Cultivate Rice, You can get yield of  625.9109453680561\n",
            "Cultivate Rice, You can get yield of  1116.9808598306417\n",
            "Cultivate Rice, You can get yield of  1191.8505682453263\n",
            "Cultivate Rice, You can get yield of  1170.865687190813\n",
            "Cultivate Rice, You can get yield of  1199.603758441517\n",
            "Cultivate Rice, You can get yield of  1154.343542770376\n",
            "Cultivate Rice, You can get yield of  1195.3530783924862\n",
            "Cultivate Rice, You can get yield of  1383.8589296036184\n",
            "Cultivate Rice, You can get yield of  1206.0658609437469\n",
            "Cultivate Rice, You can get yield of  1179.8027147896019\n",
            "Cultivate Rice, You can get yield of  1199.8410923285467\n",
            "Cultivate Rice, You can get yield of  1300.4007492505232\n",
            "Cultivate Rice, You can get yield of  1262.6346517134625\n",
            "Cultivate Rice, You can get yield of  1067.8854527654182\n",
            "Cultivate Rice, You can get yield of  996.0837981376542\n",
            "Cultivate Rice, You can get yield of  897.5077993049659\n",
            "Cultivate Rice, You can get yield of  1258.3432350262244\n",
            "Cultivate Rice, You can get yield of  1226.4002446166485\n",
            "Cultivate Rice, You can get yield of  754.685504703566\n",
            "Cultivate Rice, You can get yield of  1049.4234587428289\n",
            "Cultivate Rice, You can get yield of  1050.1855780641579\n",
            "Cultivate Rice, You can get yield of  712.7693693265562\n",
            "Cultivate Rice, You can get yield of  969.8460531235604\n",
            "Cultivate Rice, You can get yield of  1199.622846086543\n",
            "Cultivate Rice, You can get yield of  1159.477958446946\n",
            "Cultivate Rice, You can get yield of  1083.2018468697113\n",
            "Cultivate Rice, You can get yield of  1190.8337424451981\n",
            "Cultivate Rice, You can get yield of  775.5314473193728\n",
            "Cultivate Rice, You can get yield of  1216.0470954229977\n",
            "Cultivate Rice, You can get yield of  990.5950566241303\n",
            "Cultivate Rice, You can get yield of  789.1531514485362\n",
            "Cultivate Rice, You can get yield of  886.9912289408326\n",
            "Cultivate Rice, You can get yield of  1190.599059881947\n",
            "Cultivate Rice, You can get yield of  1200.3998970002335\n",
            "Cultivate Rice, You can get yield of  1200.4074679757482\n",
            "Cultivate Rice, You can get yield of  1096.592820441684\n",
            "Cultivate Rice, You can get yield of  961.6412508503379\n",
            "Cultivate Rice, You can get yield of  1095.0433636330042\n",
            "Cultivate Rice, You can get yield of  979.1847502816772\n",
            "Cultivate Rice, You can get yield of  682.7584726642982\n",
            "Cultivate Rice, You can get yield of  1158.9858357144597\n",
            "Cultivate Rice, You can get yield of  1204.258344724083\n",
            "Cultivate Rice, You can get yield of  967.9694662230651\n",
            "Cultivate Rice, You can get yield of  952.9212919096539\n",
            "Cultivate Rice, You can get yield of  1178.8339224238812\n",
            "Cultivate Rice, You can get yield of  1221.423271727052\n",
            "Cultivate Rice, You can get yield of  954.4225410821734\n",
            "Cultivate Rice, You can get yield of  874.6691782253782\n",
            "Cultivate Rice, You can get yield of  1197.6661151325955\n",
            "Cultivate Rice, You can get yield of  1302.5199883106752\n",
            "Cultivate Rice, You can get yield of  1029.714971737626\n",
            "Cultivate Rice, You can get yield of  1214.2288443905227\n",
            "Cultivate Rice, You can get yield of  1202.4092363914258\n",
            "Cultivate Rice, You can get yield of  1115.6964595399122\n",
            "Cultivate Rice, You can get yield of  1177.5499449238591\n",
            "Cultivate Rice, You can get yield of  1168.6588207937896\n",
            "Cultivate Rice, You can get yield of  1196.472413332864\n",
            "Cultivate Rice, You can get yield of  1188.47006096004\n",
            "Cultivate Rice, You can get yield of  758.7329789759609\n",
            "Cultivate Rice, You can get yield of  1537.6070553636355\n",
            "Cultivate Rice, You can get yield of  1047.541366255122\n",
            "Cultivate Rice, You can get yield of  1528.6798755858856\n",
            "Cultivate Rice, You can get yield of  1724.8242587921638\n",
            "Cultivate Rice, You can get yield of  1009.8943651669675\n",
            "Cultivate Rice, You can get yield of  652.0984839079067\n",
            "Cultivate Rice, You can get yield of  1099.517694071784\n",
            "Cultivate Rice, You can get yield of  1241.2801361514425\n",
            "Cultivate Rice, You can get yield of  1064.3082611710015\n",
            "Cultivate Rice, You can get yield of  749.7464230228236\n",
            "Cultivate Rice, You can get yield of  1443.6607218619554\n",
            "Cultivate Rice, You can get yield of  921.6175499565534\n",
            "Cultivate Rice, You can get yield of  1153.9717923375001\n",
            "Cultivate Rice, You can get yield of  1177.3515361161217\n",
            "Cultivate Rice, You can get yield of  974.0587912529924\n",
            "Cultivate Rice, You can get yield of  1197.7021115650223\n",
            "Cultivate Rice, You can get yield of  1235.4680103411151\n",
            "Cultivate Rice, You can get yield of  1231.004076269494\n",
            "Cultivate Rice, You can get yield of  1223.509048588908\n",
            "Cultivate Rice, You can get yield of  1024.287013325197\n",
            "Cultivate Rice, You can get yield of  1196.7897714999517\n",
            "Cultivate Rice, You can get yield of  1006.841257557097\n",
            "Cultivate Rice, You can get yield of  1035.907381101053\n",
            "Cultivate Rice, You can get yield of  1126.3841453536515\n",
            "Cultivate Rice, You can get yield of  1199.6857297732033\n",
            "Cultivate Rice, You can get yield of  913.7891576484834\n",
            "Cultivate Rice, You can get yield of  1891.454838556997\n",
            "Cultivate Rice, You can get yield of  1160.8668997954876\n",
            "Cultivate Rice, You can get yield of  1199.603758441517\n",
            "Cultivate Rice, You can get yield of  1106.8995436204623\n",
            "Cultivate Rice, You can get yield of  1183.0894484928165\n",
            "Cultivate Rice, You can get yield of  1205.4902751614084\n",
            "Cultivate Rice, You can get yield of  1234.1041307777314\n",
            "Cultivate Rice, You can get yield of  1148.9475488945602\n",
            "Cultivate Rice, You can get yield of  1001.9706547050079\n",
            "Cultivate Rice, You can get yield of  1200.3880359173875\n"
          ],
          "name": "stdout"
        }
      ]
    },
    {
      "cell_type": "code",
      "metadata": {
        "id": "WojsAdL9eKCQ",
        "colab_type": "code",
        "outputId": "1e506197-2d99-4f09-a455-19164ff7eadd",
        "colab": {
          "base_uri": "https://localhost:8080/",
          "height": 297
        }
      },
      "source": [
        "import seaborn as sns\n",
        "sns.boxplot(x='SOIL_TYPE', y='Rice_Yield', data = merged_copy)"
      ],
      "execution_count": 0,
      "outputs": [
        {
          "output_type": "execute_result",
          "data": {
            "text/plain": [
              "<matplotlib.axes._subplots.AxesSubplot at 0x7f0474531d68>"
            ]
          },
          "metadata": {
            "tags": []
          },
          "execution_count": 69
        },
        {
          "output_type": "display_data",
          "data": {
            "image/png": "[encoded data removed]",
            "text/plain": [
              "<Figure size 432x288 with 1 Axes>"
            ]
          },
          "metadata": {
            "tags": []
          }
        }
      ]
    },
    {
      "cell_type": "code",
      "metadata": {
        "colab_type": "code",
        "outputId": "003107e9-6b56-4f2c-cf4c-d5d7ff2c6fcc",
        "id": "qFGJ-3rocysg",
        "colab": {
          "base_uri": "https://localhost:8080/",
          "height": 176
        }
      },
      "source": [
        ""
      ],
      "execution_count": 0,
      "outputs": [
        {
          "output_type": "stream",
          "text": [
            "[Parallel(n_jobs=1)]: Using backend SequentialBackend with 1 concurrent workers.\n",
            "[Parallel(n_jobs=1)]: Done 100 out of 100 | elapsed:    0.6s finished\n"
          ],
          "name": "stderr"
        },
        {
          "output_type": "execute_result",
          "data": {
            "text/plain": [
              "RandomForestRegressor(bootstrap=True, ccp_alpha=0.0, criterion='mse',\n",
              "                      max_depth=10, max_features='auto', max_leaf_nodes=None,\n",
              "                      max_samples=None, min_impurity_decrease=0.0,\n",
              "                      min_impurity_split=None, min_samples_leaf=1,\n",
              "                      min_samples_split=2, min_weight_fraction_leaf=0.0,\n",
              "                      n_estimators=100, n_jobs=None, oob_score=False,\n",
              "                      random_state=False, verbose=1, warm_start=False)"
            ]
          },
          "metadata": {
            "tags": []
          },
          "execution_count": 59
        }
      ]
    },
    {
      "cell_type": "code",
      "metadata": {
        "id": "ks0DJUfjxXX1",
        "colab_type": "code",
        "outputId": "1aa5089f-acbd-483b-993d-97281a9d68b3",
        "colab": {
          "base_uri": "https://localhost:8080/",
          "height": 87
        }
      },
      "source": [
        "from sklearn import metrics\n",
        "y_pred = rf.predict(X_test)\n",
        "print(metrics.mean_squared_error(y_test, y_pred))\n",
        "print(np.sqrt(metrics.mean_squared_error(y_test, y_pred)))"
      ],
      "execution_count": 0,
      "outputs": [
        {
          "output_type": "stream",
          "text": [
            "4.189321999677256e-05\n",
            "0.006472497199441075\n"
          ],
          "name": "stdout"
        },
        {
          "output_type": "stream",
          "text": [
            "[Parallel(n_jobs=1)]: Using backend SequentialBackend with 1 concurrent workers.\n",
            "[Parallel(n_jobs=1)]: Done 100 out of 100 | elapsed:    0.0s finished\n"
          ],
          "name": "stderr"
        }
      ]
    },
    {
      "cell_type": "code",
      "metadata": {
        "id": "3biG1E8h61sz",
        "colab_type": "code",
        "colab": {}
      },
      "source": [
        "'''\n",
        "CODE AFTER THIS CELL IS OLD CODE. It is data visualization at various levels of aggregation. Executing these cells\n",
        "may cause error. \n",
        "'''"
      ],
      "execution_count": 0,
      "outputs": []
    },
    {
      "cell_type": "code",
      "metadata": {
        "id": "VmOIBhI6JdKN",
        "colab_type": "code",
        "outputId": "dc1c5668-1c78-40de-ac9e-87d84d2fdfea",
        "colab": {
          "base_uri": "https://localhost:8080/",
          "height": 34
        }
      },
      "source": [
        "print(len(cyear))\n",
        "def extract_csv(df):\n",
        "  for year in years:\n",
        "    for row in range(1, total_rows):\n",
        "      if df.iloc[row,0][0] == \"R\":\n",
        "        curr_district = df.iloc[row,1]\n",
        "        continue\n",
        "      else:\n",
        "        cyear.append(int(year[0]))\n",
        "        if curr_district == 'A.Nagar':\n",
        "          curr_district = 'Ahmadnagar'\n",
        "        District.append(curr_district)\n",
        "        if df.iloc[row, 1] == 'A.Nagar':\n",
        "            Block_name.append('Ahmadnagar')\n",
        "        else:\n",
        "            Block_name.append(df.iloc[row, 1])\n",
        "        Yield.append(float(df.iloc[row, year[1]]))\n",
        "  return cyear, District, Block_name, Yield\n"
      ],
      "execution_count": 0,
      "outputs": [
        {
          "output_type": "stream",
          "text": [
            "0\n"
          ],
          "name": "stdout"
        }
      ]
    },
    {
      "cell_type": "code",
      "metadata": {
        "id": "hmvdN64YOWkb",
        "colab_type": "code",
        "colab": {}
      },
      "source": [
        "cyear, District, Block_name, Yield = extract_csv(df_rice)"
      ],
      "execution_count": 0,
      "outputs": []
    },
    {
      "cell_type": "code",
      "metadata": {
        "id": "vrJThtd8NHxZ",
        "colab_type": "code",
        "colab": {}
      },
      "source": [
        "new_rice = {'District':District, 'Block_name':Block_name, 'Year':cyear, 'Yield':Yield}\n",
        "df_nrice = pd.DataFrame(new_rice)\n",
        "df_nrice.head()\n",
        "df_nrice.to_csv('Restructured_Data.csv', index=False)"
      ],
      "execution_count": 0,
      "outputs": []
    },
    {
      "cell_type": "code",
      "metadata": {
        "id": "zZBWoalhQoEx",
        "colab_type": "code",
        "colab": {}
      },
      "source": [
        "import seaborn as sns\n",
        "\n",
        "\n",
        "def getCrossTab(feature_name, label, dataframe):\n",
        "  data_ct = pd.crosstab(dataframe[feature_name], dataframe[label], margins = False)\n",
        "  return data_ct\n",
        "\n",
        "def drawBoxPlot(feature, label, df_, subplots = False, nrows = 0, ncolumns = 0):\n",
        "  if not subplots:\n",
        "    sns.boxplot(x=label, y = feature, data = df_)\n",
        "  else:\n",
        "    fig, ax = plt.subplots(nrows, ncolumns, figsize = (15,15))\n",
        "    fig.subplots_adjust(hspace = 0.8, wspace = 0.8)\n",
        "    d = 0\n",
        "    for row in range(nrows):\n",
        "      for col in range(ncolumns):\n",
        "        sns.boxplot(x=label, y=feature[d], data=df_, ax = ax[row, col])\n",
        "        d += 1\n",
        "        if d >= len(feature):\n",
        "          return\n",
        "\n",
        "def drawHist(feature, df_, subplots = False, nrows = 0, ncolumns = 0):\n",
        "  if not subplots:\n",
        "    plt.hist(df_[feature])\n",
        "  else:\n",
        "    fig, ax = plt.subplots(nrows, ncolumns, figsize = (15,15))\n",
        "    fig.subplots_adjust(hspace = 0.8, wspace = 0.8)\n",
        "    d = 0\n",
        "    for row in range(nrows):\n",
        "      for col in range(ncolumns):\n",
        "        ax[row, col].hist(df_[feature[d]])\n",
        "        ax[row, col].set_xlabel(feature[d])\n",
        "        d += 1\n",
        "        if d >= len(feature):\n",
        "          return"
      ],
      "execution_count": 0,
      "outputs": []
    },
    {
      "cell_type": "code",
      "metadata": {
        "id": "-mUYcVNqQvOx",
        "colab_type": "code",
        "colab": {}
      },
      "source": [
        "df_nrice.loc[:,'Yield'] = df_nrice['Yield'].astype(dtype = 'float64')"
      ],
      "execution_count": 0,
      "outputs": []
    },
    {
      "cell_type": "code",
      "metadata": {
        "id": "luUimkl9VpSH",
        "colab_type": "code",
        "colab": {}
      },
      "source": [
        "from sklearn.impute import SimpleImputer\n",
        "imp = SimpleImputer(strategy='median')\n",
        "df_nrice['Yield'] = imp.fit_transform(df_nrice['Yield'].values.reshape(-1,1))"
      ],
      "execution_count": 0,
      "outputs": []
    },
    {
      "cell_type": "code",
      "metadata": {
        "id": "7vdC-HxpRB8G",
        "colab_type": "code",
        "outputId": "e1f26946-5b6e-435b-fac2-21707aa8bb18",
        "colab": {
          "base_uri": "https://localhost:8080/",
          "height": 436
        }
      },
      "source": [
        "df_agg = ((df_nrice.groupby(['District', 'Year'])).mean()).loc[:,['Yield']]\n",
        "df_agg"
      ],
      "execution_count": 0,
      "outputs": [
        {
          "output_type": "execute_result",
          "data": {
            "text/html": [
              "<div>\n",
              "<style scoped>\n",
              "    .dataframe tbody tr th:only-of-type {\n",
              "        vertical-align: middle;\n",
              "    }\n",
              "\n",
              "    .dataframe tbody tr th {\n",
              "        vertical-align: top;\n",
              "    }\n",
              "\n",
              "    .dataframe thead th {\n",
              "        text-align: right;\n",
              "    }\n",
              "</style>\n",
              "<table border=\"1\" class=\"dataframe\">\n",
              "  <thead>\n",
              "    <tr style=\"text-align: right;\">\n",
              "      <th></th>\n",
              "      <th></th>\n",
              "      <th>Yield</th>\n",
              "    </tr>\n",
              "    <tr>\n",
              "      <th>District</th>\n",
              "      <th>Year</th>\n",
              "      <th></th>\n",
              "    </tr>\n",
              "  </thead>\n",
              "  <tbody>\n",
              "    <tr>\n",
              "      <th rowspan=\"5\" valign=\"top\">Ahmadnagar</th>\n",
              "      <th>2000</th>\n",
              "      <td>599.0</td>\n",
              "    </tr>\n",
              "    <tr>\n",
              "      <th>2001</th>\n",
              "      <td>500.0</td>\n",
              "    </tr>\n",
              "    <tr>\n",
              "      <th>2002</th>\n",
              "      <td>224.3</td>\n",
              "    </tr>\n",
              "    <tr>\n",
              "      <th>2003</th>\n",
              "      <td>947.1</td>\n",
              "    </tr>\n",
              "    <tr>\n",
              "      <th>2004</th>\n",
              "      <td>836.0</td>\n",
              "    </tr>\n",
              "    <tr>\n",
              "      <th>...</th>\n",
              "      <th>...</th>\n",
              "      <td>...</td>\n",
              "    </tr>\n",
              "    <tr>\n",
              "      <th rowspan=\"5\" valign=\"top\">Yavatmal</th>\n",
              "      <th>2012</th>\n",
              "      <td>NaN</td>\n",
              "    </tr>\n",
              "    <tr>\n",
              "      <th>2013</th>\n",
              "      <td>NaN</td>\n",
              "    </tr>\n",
              "    <tr>\n",
              "      <th>2014</th>\n",
              "      <td>NaN</td>\n",
              "    </tr>\n",
              "    <tr>\n",
              "      <th>2015</th>\n",
              "      <td>NaN</td>\n",
              "    </tr>\n",
              "    <tr>\n",
              "      <th>2016</th>\n",
              "      <td>NaN</td>\n",
              "    </tr>\n",
              "  </tbody>\n",
              "</table>\n",
              "<p>595 rows × 1 columns</p>\n",
              "</div>"
            ],
            "text/plain": [
              "                 Yield\n",
              "District   Year       \n",
              "Ahmadnagar 2000  599.0\n",
              "           2001  500.0\n",
              "           2002  224.3\n",
              "           2003  947.1\n",
              "           2004  836.0\n",
              "...                ...\n",
              "Yavatmal   2012    NaN\n",
              "           2013    NaN\n",
              "           2014    NaN\n",
              "           2015    NaN\n",
              "           2016    NaN\n",
              "\n",
              "[595 rows x 1 columns]"
            ]
          },
          "metadata": {
            "tags": []
          },
          "execution_count": 125
        }
      ]
    },
    {
      "cell_type": "code",
      "metadata": {
        "id": "_yW8Edg5FMMG",
        "colab_type": "code",
        "outputId": "f13f5dcd-9c23-4555-d6a5-d8bf21ea7491",
        "colab": {
          "base_uri": "https://localhost:8080/",
          "height": 443
        }
      },
      "source": [
        "(df_soil[(df_soil['DISTRICT'] == 'Ratnagiri') & (df_soil['YEAR_OBS']>=2000)]).groupby()"
      ],
      "execution_count": 0,
      "outputs": [
        {
          "output_type": "execute_result",
          "data": {
            "text/html": [
              "<div>\n",
              "<style scoped>\n",
              "    .dataframe tbody tr th:only-of-type {\n",
              "        vertical-align: middle;\n",
              "    }\n",
              "\n",
              "    .dataframe tbody tr th {\n",
              "        vertical-align: top;\n",
              "    }\n",
              "\n",
              "    .dataframe thead th {\n",
              "        text-align: right;\n",
              "    }\n",
              "</style>\n",
              "<table border=\"1\" class=\"dataframe\">\n",
              "  <thead>\n",
              "    <tr style=\"text-align: right;\">\n",
              "      <th></th>\n",
              "      <th>x</th>\n",
              "      <th>DISTRICT</th>\n",
              "      <th>TEH_NAME</th>\n",
              "      <th>BLOCK_NAME</th>\n",
              "      <th>LAT</th>\n",
              "      <th>LON</th>\n",
              "      <th>SITE_NAME</th>\n",
              "      <th>YEAR_OBS</th>\n",
              "      <th>RAINFALL</th>\n",
              "      <th>GRDWTR</th>\n",
              "      <th>SOIL_TYPE</th>\n",
              "      <th>Soil_Score</th>\n",
              "      <th>Elevation</th>\n",
              "      <th>Indexing</th>\n",
              "    </tr>\n",
              "  </thead>\n",
              "  <tbody>\n",
              "    <tr>\n",
              "      <th>840</th>\n",
              "      <td>MS</td>\n",
              "      <td>Ratnagiri</td>\n",
              "      <td>Guhagar</td>\n",
              "      <td>Dapoli</td>\n",
              "      <td>17.762500</td>\n",
              "      <td>73.191667</td>\n",
              "      <td>Dapoli</td>\n",
              "      <td>2010</td>\n",
              "      <td>4201.70</td>\n",
              "      <td>5.58</td>\n",
              "      <td>Laterite</td>\n",
              "      <td>3</td>\n",
              "      <td>14</td>\n",
              "      <td>16836.54</td>\n",
              "    </tr>\n",
              "    <tr>\n",
              "      <th>841</th>\n",
              "      <td>MS</td>\n",
              "      <td>Ratnagiri</td>\n",
              "      <td>Kherdi</td>\n",
              "      <td>Lanja</td>\n",
              "      <td>16.790278</td>\n",
              "      <td>73.575556</td>\n",
              "      <td>Vankhed</td>\n",
              "      <td>2010</td>\n",
              "      <td>4201.70</td>\n",
              "      <td>4.286666667</td>\n",
              "      <td>Laterite</td>\n",
              "      <td>3</td>\n",
              "      <td>12</td>\n",
              "      <td>16831.66</td>\n",
              "    </tr>\n",
              "    <tr>\n",
              "      <th>842</th>\n",
              "      <td>MS</td>\n",
              "      <td>Ratnagiri</td>\n",
              "      <td>Khed</td>\n",
              "      <td>Khed</td>\n",
              "      <td>17.766667</td>\n",
              "      <td>73.416667</td>\n",
              "      <td>Kalvane</td>\n",
              "      <td>2010</td>\n",
              "      <td>4201.70</td>\n",
              "      <td>3.89</td>\n",
              "      <td>Laterite</td>\n",
              "      <td>3</td>\n",
              "      <td>616</td>\n",
              "      <td>17132.47</td>\n",
              "    </tr>\n",
              "    <tr>\n",
              "      <th>843</th>\n",
              "      <td>MS</td>\n",
              "      <td>Ratnagiri</td>\n",
              "      <td>Guhagar</td>\n",
              "      <td>Dapoli</td>\n",
              "      <td>17.590000</td>\n",
              "      <td>73.176944</td>\n",
              "      <td>Dabhol</td>\n",
              "      <td>2010</td>\n",
              "      <td>4201.70</td>\n",
              "      <td>4.696666667</td>\n",
              "      <td>Laterite</td>\n",
              "      <td>3</td>\n",
              "      <td>14</td>\n",
              "      <td>16833.89</td>\n",
              "    </tr>\n",
              "    <tr>\n",
              "      <th>844</th>\n",
              "      <td>MS</td>\n",
              "      <td>Ratnagiri</td>\n",
              "      <td>Guhagar</td>\n",
              "      <td>Dapoli</td>\n",
              "      <td>17.783889</td>\n",
              "      <td>73.238611</td>\n",
              "      <td>Karanjani</td>\n",
              "      <td>2010</td>\n",
              "      <td>4201.70</td>\n",
              "      <td>5.766666667</td>\n",
              "      <td>Laterite</td>\n",
              "      <td>3</td>\n",
              "      <td>14</td>\n",
              "      <td>16837.1</td>\n",
              "    </tr>\n",
              "    <tr>\n",
              "      <th>...</th>\n",
              "      <td>...</td>\n",
              "      <td>...</td>\n",
              "      <td>...</td>\n",
              "      <td>...</td>\n",
              "      <td>...</td>\n",
              "      <td>...</td>\n",
              "      <td>...</td>\n",
              "      <td>...</td>\n",
              "      <td>...</td>\n",
              "      <td>...</td>\n",
              "      <td>...</td>\n",
              "      <td>...</td>\n",
              "      <td>...</td>\n",
              "      <td>...</td>\n",
              "    </tr>\n",
              "    <tr>\n",
              "      <th>13587</th>\n",
              "      <td>MS</td>\n",
              "      <td>Ratnagiri</td>\n",
              "      <td>Nachane</td>\n",
              "      <td>Ratnagiri</td>\n",
              "      <td>16.912500</td>\n",
              "      <td>73.347222</td>\n",
              "      <td>Pomendi (Kh)</td>\n",
              "      <td>2000</td>\n",
              "      <td>4619.05</td>\n",
              "      <td>3.9675</td>\n",
              "      <td>Laterite</td>\n",
              "      <td>3</td>\n",
              "      <td>129</td>\n",
              "      <td>18558.6025</td>\n",
              "    </tr>\n",
              "    <tr>\n",
              "      <th>13588</th>\n",
              "      <td>MS</td>\n",
              "      <td>Ratnagiri</td>\n",
              "      <td>Rajapur</td>\n",
              "      <td>Rajapur</td>\n",
              "      <td>16.650000</td>\n",
              "      <td>73.516667</td>\n",
              "      <td>Rajapur</td>\n",
              "      <td>2000</td>\n",
              "      <td>4619.05</td>\n",
              "      <td>12.005</td>\n",
              "      <td>Laterite</td>\n",
              "      <td>3</td>\n",
              "      <td>34</td>\n",
              "      <td>18535.215</td>\n",
              "    </tr>\n",
              "    <tr>\n",
              "      <th>13589</th>\n",
              "      <td>MS</td>\n",
              "      <td>Ratnagiri</td>\n",
              "      <td>Rajapur</td>\n",
              "      <td>Rajapur</td>\n",
              "      <td>16.655833</td>\n",
              "      <td>73.430556</td>\n",
              "      <td>Solgaon</td>\n",
              "      <td>2000</td>\n",
              "      <td>4619.05</td>\n",
              "      <td>4.8675</td>\n",
              "      <td>Laterite</td>\n",
              "      <td>3</td>\n",
              "      <td>34</td>\n",
              "      <td>18513.8025</td>\n",
              "    </tr>\n",
              "    <tr>\n",
              "      <th>13590</th>\n",
              "      <td>MS</td>\n",
              "      <td>Ratnagiri</td>\n",
              "      <td>Rajapur</td>\n",
              "      <td>Rajapur</td>\n",
              "      <td>16.700000</td>\n",
              "      <td>73.700000</td>\n",
              "      <td>Raipatan</td>\n",
              "      <td>2000</td>\n",
              "      <td>4619.05</td>\n",
              "      <td>3.59</td>\n",
              "      <td>Laterite</td>\n",
              "      <td>3</td>\n",
              "      <td>34</td>\n",
              "      <td>18509.97</td>\n",
              "    </tr>\n",
              "    <tr>\n",
              "      <th>13591</th>\n",
              "      <td>MS</td>\n",
              "      <td>Ratnagiri</td>\n",
              "      <td>Guhagar</td>\n",
              "      <td>Dapoli</td>\n",
              "      <td>17.590000</td>\n",
              "      <td>73.176944</td>\n",
              "      <td>Dabhol</td>\n",
              "      <td>2000</td>\n",
              "      <td>4619.05</td>\n",
              "      <td>4.523333333</td>\n",
              "      <td>Laterite</td>\n",
              "      <td>3</td>\n",
              "      <td>14</td>\n",
              "      <td>18502.77</td>\n",
              "    </tr>\n",
              "  </tbody>\n",
              "</table>\n",
              "<p>524 rows × 14 columns</p>\n",
              "</div>"
            ],
            "text/plain": [
              "        x   DISTRICT TEH_NAME  ... Soil_Score  Elevation    Indexing\n",
              "840    MS  Ratnagiri  Guhagar  ...          3         14    16836.54\n",
              "841    MS  Ratnagiri   Kherdi  ...          3         12    16831.66\n",
              "842    MS  Ratnagiri     Khed  ...          3        616    17132.47\n",
              "843    MS  Ratnagiri  Guhagar  ...          3         14    16833.89\n",
              "844    MS  Ratnagiri  Guhagar  ...          3         14     16837.1\n",
              "...    ..        ...      ...  ...        ...        ...         ...\n",
              "13587  MS  Ratnagiri  Nachane  ...          3        129  18558.6025\n",
              "13588  MS  Ratnagiri  Rajapur  ...          3         34   18535.215\n",
              "13589  MS  Ratnagiri  Rajapur  ...          3         34  18513.8025\n",
              "13590  MS  Ratnagiri  Rajapur  ...          3         34    18509.97\n",
              "13591  MS  Ratnagiri  Guhagar  ...          3         14    18502.77\n",
              "\n",
              "[524 rows x 14 columns]"
            ]
          },
          "metadata": {
            "tags": []
          },
          "execution_count": 88
        }
      ]
    },
    {
      "cell_type": "code",
      "metadata": {
        "id": "Z9LZXFU3Xmwh",
        "colab_type": "code",
        "outputId": "1b86eb42-fe73-4f35-a030-531350a76983",
        "colab": {
          "base_uri": "https://localhost:8080/",
          "height": 282
        }
      },
      "source": [
        "x = (df_soil[(df_soil['DISTRICT'] == 'Ratnagiri') & (df_soil['YEAR_OBS']>=2000)]).groupby(['YEAR_OBS']).mean().loc[:,'RAINFALL']\n",
        "y = df_nrice[(df_nrice['District'] == 'Ratnagiri') & (df_nrice['Year'] <=2010)].groupby(['Year']).mean().loc[:,['Yield']]\n",
        "plt.scatter(x,y)"
      ],
      "execution_count": 0,
      "outputs": [
        {
          "output_type": "execute_result",
          "data": {
            "text/plain": [
              "<matplotlib.collections.PathCollection at 0x7f64c9e2ea20>"
            ]
          },
          "metadata": {
            "tags": []
          },
          "execution_count": 113
        },
        {
          "output_type": "display_data",
          "data": {
            "image/png": "[encoded data removed]",
            "text/plain": [
              "<Figure size 432x288 with 1 Axes>"
            ]
          },
          "metadata": {
            "tags": []
          }
        }
      ]
    },
    {
      "cell_type": "code",
      "metadata": {
        "id": "G5D3wiaMZiRF",
        "colab_type": "code",
        "outputId": "b7c508e4-1a97-4761-c300-65148e80cbf6",
        "colab": {
          "base_uri": "https://localhost:8080/",
          "height": 282
        }
      },
      "source": [
        "x = (df_soil[(df_soil['DISTRICT'] == 'Sindhudurg') & (df_soil['YEAR_OBS']>=2000)]).groupby(['YEAR_OBS']).mean().loc[:,'RAINFALL']\n",
        "y = df_nrice[(df_nrice['District'] == 'Sindhudurg') & (df_nrice['Year'] <=2010)].groupby(['Year']).mean().loc[:,['Yield']]\n",
        "plt.scatter(x,y)"
      ],
      "execution_count": 0,
      "outputs": [
        {
          "output_type": "execute_result",
          "data": {
            "text/plain": [
              "<matplotlib.collections.PathCollection at 0x7f64c9e01b00>"
            ]
          },
          "metadata": {
            "tags": []
          },
          "execution_count": 114
        },
        {
          "output_type": "display_data",
          "data": {
            "image/png": "[encoded data removed]",
            "text/plain": [
              "<Figure size 432x288 with 1 Axes>"
            ]
          },
          "metadata": {
            "tags": []
          }
        }
      ]
    },
    {
      "cell_type": "code",
      "metadata": {
        "id": "Ts-CUi1bZsb7",
        "colab_type": "code",
        "outputId": "855c5483-b0ba-4d04-f93a-a3d2802ae752",
        "colab": {
          "base_uri": "https://localhost:8080/",
          "height": 282
        }
      },
      "source": [
        "x = (df_soil[(df_soil['YEAR_OBS']>=2000)]).groupby(['DISTRICT','YEAR_OBS']).mean().loc[:,'RAINFALL']\n",
        "y = df_nrice[(df_nrice['Year'] <=2010)].groupby(['District','Year']).mean().loc[:,['Yield']]\n",
        "plt.scatter(x,y)"
      ],
      "execution_count": 0,
      "outputs": [
        {
          "output_type": "execute_result",
          "data": {
            "text/plain": [
              "<matplotlib.collections.PathCollection at 0x7f64c9ddaa20>"
            ]
          },
          "metadata": {
            "tags": []
          },
          "execution_count": 115
        },
        {
          "output_type": "display_data",
          "data": {
            "image/png": "[encoded data removed]",
            "text/plain": [
              "<Figure size 432x288 with 1 Axes>"
            ]
          },
          "metadata": {
            "tags": []
          }
        }
      ]
    },
    {
      "cell_type": "code",
      "metadata": {
        "id": "HLxClYoVaPGR",
        "colab_type": "code",
        "outputId": "712172f8-c268-4e5c-8bab-21bb24ccd9ce",
        "colab": {
          "base_uri": "https://localhost:8080/",
          "height": 34
        }
      },
      "source": [
        "df_soil[df_soil['YEAR_OBS'] >= 2000].shape, df_nrice[df_nrice['Year'] <= 2010].shape"
      ],
      "execution_count": 0,
      "outputs": [
        {
          "output_type": "execute_result",
          "data": {
            "text/plain": [
              "((13955, 14), (3938, 4))"
            ]
          },
          "metadata": {
            "tags": []
          },
          "execution_count": 129
        }
      ]
    },
    {
      "cell_type": "code",
      "metadata": {
        "id": "bpK7nq4agm7R",
        "colab_type": "code",
        "outputId": "9019419e-77d0-4b60-8b07-a8354199cb14",
        "colab": {
          "base_uri": "https://localhost:8080/",
          "height": 230
        }
      },
      "source": [
        "df_soil['SOIL_TYPE']"
      ],
      "execution_count": 0,
      "outputs": [
        {
          "output_type": "execute_result",
          "data": {
            "text/plain": [
              "0        Black\n",
              "1        Black\n",
              "2        Black\n",
              "3        Black\n",
              "4        Black\n",
              "         ...  \n",
              "19021    Black\n",
              "19022    Black\n",
              "19023    Black\n",
              "19024    Black\n",
              "19025    Black\n",
              "Name: SOIL_TYPE, Length: 19026, dtype: object"
            ]
          },
          "metadata": {
            "tags": []
          },
          "execution_count": 132
        }
      ]
    },
    {
      "cell_type": "code",
      "metadata": {
        "id": "v3hm6eh_Fd8t",
        "colab_type": "code",
        "outputId": "de74d4ce-7810-4343-b057-b8408954eb83",
        "colab": {
          "base_uri": "https://localhost:8080/",
          "height": 436
        }
      },
      "source": [
        "(df_soil.groupby(['DISTRICT', 'YEAR_OBS']).mean()).loc[:,['RAINFALL']]"
      ],
      "execution_count": 0,
      "outputs": [
        {
          "output_type": "execute_result",
          "data": {
            "text/html": [
              "<div>\n",
              "<style scoped>\n",
              "    .dataframe tbody tr th:only-of-type {\n",
              "        vertical-align: middle;\n",
              "    }\n",
              "\n",
              "    .dataframe tbody tr th {\n",
              "        vertical-align: top;\n",
              "    }\n",
              "\n",
              "    .dataframe thead th {\n",
              "        text-align: right;\n",
              "    }\n",
              "</style>\n",
              "<table border=\"1\" class=\"dataframe\">\n",
              "  <thead>\n",
              "    <tr style=\"text-align: right;\">\n",
              "      <th></th>\n",
              "      <th></th>\n",
              "      <th>RAINFALL</th>\n",
              "    </tr>\n",
              "    <tr>\n",
              "      <th>DISTRICT</th>\n",
              "      <th>YEAR_OBS</th>\n",
              "      <th></th>\n",
              "    </tr>\n",
              "  </thead>\n",
              "  <tbody>\n",
              "    <tr>\n",
              "      <th rowspan=\"5\" valign=\"top\">Ahmadnagar</th>\n",
              "      <th>1996</th>\n",
              "      <td>965.080</td>\n",
              "    </tr>\n",
              "    <tr>\n",
              "      <th>1997</th>\n",
              "      <td>953.641</td>\n",
              "    </tr>\n",
              "    <tr>\n",
              "      <th>1998</th>\n",
              "      <td>940.414</td>\n",
              "    </tr>\n",
              "    <tr>\n",
              "      <th>1999</th>\n",
              "      <td>825.431</td>\n",
              "    </tr>\n",
              "    <tr>\n",
              "      <th>2000</th>\n",
              "      <td>595.302</td>\n",
              "    </tr>\n",
              "    <tr>\n",
              "      <th>...</th>\n",
              "      <th>...</th>\n",
              "      <td>...</td>\n",
              "    </tr>\n",
              "    <tr>\n",
              "      <th rowspan=\"5\" valign=\"top\">Yavatmal</th>\n",
              "      <th>2006</th>\n",
              "      <td>1290.000</td>\n",
              "    </tr>\n",
              "    <tr>\n",
              "      <th>2007</th>\n",
              "      <td>796.100</td>\n",
              "    </tr>\n",
              "    <tr>\n",
              "      <th>2008</th>\n",
              "      <td>704.500</td>\n",
              "    </tr>\n",
              "    <tr>\n",
              "      <th>2009</th>\n",
              "      <td>570.000</td>\n",
              "    </tr>\n",
              "    <tr>\n",
              "      <th>2010</th>\n",
              "      <td>1201.700</td>\n",
              "    </tr>\n",
              "  </tbody>\n",
              "</table>\n",
              "<p>525 rows × 1 columns</p>\n",
              "</div>"
            ],
            "text/plain": [
              "                     RAINFALL\n",
              "DISTRICT   YEAR_OBS          \n",
              "Ahmadnagar 1996       965.080\n",
              "           1997       953.641\n",
              "           1998       940.414\n",
              "           1999       825.431\n",
              "           2000       595.302\n",
              "...                       ...\n",
              "Yavatmal   2006      1290.000\n",
              "           2007       796.100\n",
              "           2008       704.500\n",
              "           2009       570.000\n",
              "           2010      1201.700\n",
              "\n",
              "[525 rows x 1 columns]"
            ]
          },
          "metadata": {
            "tags": []
          },
          "execution_count": 14
        }
      ]
    },
    {
      "cell_type": "code",
      "metadata": {
        "id": "lWGR16TPejO2",
        "colab_type": "code",
        "outputId": "a7d2c03d-ee82-4185-ff7e-64efe2bacd73",
        "colab": {
          "base_uri": "https://localhost:8080/",
          "height": 478
        }
      },
      "source": [
        "x = df_soil.groupby(['DISTRICT','BLOCK_NAME','YEAR_OBS']).aggregate({'BLOCK_NAME':'max','DISTRICT':'max','YEAR_OBS':'max','RAINFALL':np.mean, 'GRDWTR':np.mean, 'Indexing':np.mean,'Soil_Score':'max','SOIL_TYPE':'max','Elevation':'max'})\n",
        "print(x.columns.values)\n",
        "# x = x.loc[(x['DISTRICT'] == 'Ratnagiri') & (x['YEAR_OBS']>=2000),:]\n",
        "y = df_nrice\n",
        "print(x.head(20))"
      ],
      "execution_count": 0,
      "outputs": [
        {
          "output_type": "stream",
          "text": [
            "['BLOCK_NAME' 'DISTRICT' 'YEAR_OBS' 'RAINFALL' 'GRDWTR' 'Indexing'\n",
            " 'Soil_Score' 'SOIL_TYPE' 'Elevation']\n",
            "                               BLOCK_NAME    DISTRICT  ...  SOIL_TYPE  Elevation\n",
            "DISTRICT   BLOCK_NAME YEAR_OBS                         ...                      \n",
            "Ahmadnagar Akola      1996          Akola  Ahmadnagar  ...      Black        649\n",
            "                      1997          Akola  Ahmadnagar  ...      Black        649\n",
            "                      1998          Akola  Ahmadnagar  ...      Black        649\n",
            "                      1999          Akola  Ahmadnagar  ...      Black        649\n",
            "                      2000          Akola  Ahmadnagar  ...      Black        649\n",
            "                      2001          Akola  Ahmadnagar  ...      Black        649\n",
            "                      2002          Akola  Ahmadnagar  ...      Black        649\n",
            "                      2003          Akola  Ahmadnagar  ...      Black        649\n",
            "                      2004          Akola  Ahmadnagar  ...      Black        649\n",
            "                      2005          Akola  Ahmadnagar  ...      Black        649\n",
            "                      2006          Akola  Ahmadnagar  ...      Black        649\n",
            "                      2007          Akola  Ahmadnagar  ...      Black        649\n",
            "                      2008          Akola  Ahmadnagar  ...      Black        649\n",
            "                      2009          Akola  Ahmadnagar  ...      Black        649\n",
            "                      2010          Akola  Ahmadnagar  ...      Black        649\n",
            "           Jamkhed    1996        Jamkhed  Ahmadnagar  ...      Black        650\n",
            "                      1997        Jamkhed  Ahmadnagar  ...      Black        650\n",
            "                      1998        Jamkhed  Ahmadnagar  ...      Black        650\n",
            "                      1999        Jamkhed  Ahmadnagar  ...      Black        650\n",
            "                      2000        Jamkhed  Ahmadnagar  ...      Black        650\n",
            "\n",
            "[20 rows x 9 columns]\n"
          ],
          "name": "stdout"
        }
      ]
    },
    {
      "cell_type": "code",
      "metadata": {
        "id": "0-kzAc_SmBZG",
        "colab_type": "code",
        "outputId": "8f2dc295-919e-406a-d2ef-2cd97f29e0d6",
        "colab": {
          "base_uri": "https://localhost:8080/",
          "height": 90
        }
      },
      "source": [
        "distsoil = list(set(df_soil['DISTRICT']))\n",
        "districe = list(set(df_nrice['District']))\n",
        "matched = []\n",
        "for k in districe:\n",
        "  if k in distsoil:\n",
        "    matched.append(k)\n",
        "print(matched)\n",
        "print(len(matched), len(districe))\n",
        "unmatched = [r for r in districe if r not in matched]\n",
        "print(unmatched)"
      ],
      "execution_count": 0,
      "outputs": [
        {
          "output_type": "stream",
          "text": [
            "['Pune', 'Nashik', 'Dhule', 'Amravati', 'Chandrapur', 'Satara', 'Latur', 'Bhandara', 'Nagpur', 'Yavatmal', 'Osmanabad', 'Wardha', 'Ahmadnagar', 'Jalna', 'Thane', 'Solapur', 'Ratnagiri', 'Aurangabad', 'Nandurbar', 'Washim', 'Akola', 'Kolhapur', 'Hingoli', 'Parbhani', 'Jalgaon', 'Nanded', 'Sindhudurg']\n",
            "27 35\n",
            "['Beed', 'Gadchiroli', 'Gondia', 'Sangali', 'Raigad', 'Gr.Bombay', 'Buldhana', 'Palghar']\n"
          ],
          "name": "stdout"
        }
      ]
    },
    {
      "cell_type": "code",
      "metadata": {
        "id": "7qxwopVUoHwC",
        "colab_type": "code",
        "outputId": "6fab5a51-1208-43f8-d5c8-43efef89d5f1",
        "colab": {
          "base_uri": "https://localhost:8080/",
          "height": 34
        }
      },
      "source": [
        "df_nnrice = df_nrice[(df_nrice['District'].isin(matched)) & (df_nrice['Year'] <= 2010)]\n",
        "df_nnrice.columns.values"
      ],
      "execution_count": 0,
      "outputs": [
        {
          "output_type": "execute_result",
          "data": {
            "text/plain": [
              "array(['District', 'Block_name', 'Year', 'Yield'], dtype=object)"
            ]
          },
          "metadata": {
            "tags": []
          },
          "execution_count": 207
        }
      ]
    },
    {
      "cell_type": "code",
      "metadata": {
        "id": "sTRm60o_pJYG",
        "colab_type": "code",
        "outputId": "cdd01b61-ca76-432a-917d-8393332ba161",
        "colab": {
          "base_uri": "https://localhost:8080/",
          "height": 52
        }
      },
      "source": [
        "x = x[x['YEAR_OBS']>=2000]\n",
        "x = x.rename(columns = {\"YEAR_OBS\": \"Year\", \"BLOCK_NAME\":\"Block_name\", \"DISTRICT\":\"District\"})\n",
        "x.columns.values"
      ],
      "execution_count": 0,
      "outputs": [
        {
          "output_type": "execute_result",
          "data": {
            "text/plain": [
              "array(['Block_name', 'District', 'Year', 'RAINFALL', 'GRDWTR', 'Indexing',\n",
              "       'Soil_Score', 'SOIL_TYPE', 'Elevation'], dtype=object)"
            ]
          },
          "metadata": {
            "tags": []
          },
          "execution_count": 208
        }
      ]
    },
    {
      "cell_type": "code",
      "metadata": {
        "id": "q3BhCILlrBDW",
        "colab_type": "code",
        "outputId": "e737acb5-bbf4-497c-ae9c-283348fc4567",
        "colab": {
          "base_uri": "https://localhost:8080/",
          "height": 265
        }
      },
      "source": [
        "merged = pd.merge(x, df_nnrice, on = [\"Year\", \"Block_name\", \"District\"])\n",
        "print(merged)"
      ],
      "execution_count": 0,
      "outputs": [
        {
          "output_type": "stream",
          "text": [
            "     Block_name    District  Year  ...  SOIL_TYPE  Elevation    Yield\n",
            "0         Akola  Ahmadnagar  2000  ...      Black        649   599.00\n",
            "1         Akola  Ahmadnagar  2001  ...      Black        649   500.00\n",
            "2         Akola  Ahmadnagar  2002  ...      Black        649   224.30\n",
            "3         Akola  Ahmadnagar  2003  ...      Black        649   947.10\n",
            "4         Akola  Ahmadnagar  2004  ...      Black        649   836.00\n",
            "...         ...         ...   ...  ...        ...        ...      ...\n",
            "2142   Yavatmal    Yavatmal  2006  ...      Black        457   431.00\n",
            "2143   Yavatmal    Yavatmal  2007  ...      Black        457   831.00\n",
            "2144   Yavatmal    Yavatmal  2008  ...      Black        457  1203.75\n",
            "2145   Yavatmal    Yavatmal  2009  ...      Black        457  1203.75\n",
            "2146   Yavatmal    Yavatmal  2010  ...      Black        457  1203.75\n",
            "\n",
            "[2147 rows x 10 columns]\n"
          ],
          "name": "stdout"
        }
      ]
    },
    {
      "cell_type": "code",
      "metadata": {
        "id": "7Pj-Gg2ssO6X",
        "colab_type": "code",
        "outputId": "8b847113-6e9b-4a4f-c872-551bb72fe31c",
        "colab": {
          "base_uri": "https://localhost:8080/",
          "height": 284
        }
      },
      "source": [
        "%matplotlib inline\n",
        "drawBoxPlot('Yield', 'SOIL_TYPE', merged)"
      ],
      "execution_count": 0,
      "outputs": [
        {
          "output_type": "display_data",
          "data": {
            "image/png": "[encoded data removed]",
            "text/plain": [
              "<Figure size 432x288 with 1 Axes>"
            ]
          },
          "metadata": {
            "tags": []
          }
        }
      ]
    },
    {
      "cell_type": "code",
      "metadata": {
        "id": "yUD9LaATtiWc",
        "colab_type": "code",
        "outputId": "b6d191e3-356f-48fc-d0b9-b53ab48ba1d4",
        "colab": {
          "base_uri": "https://localhost:8080/",
          "height": 281
        }
      },
      "source": [
        "drawBoxPlot('Yield', 'Soil_Score', merged)"
      ],
      "execution_count": 0,
      "outputs": [
        {
          "output_type": "display_data",
          "data": {
            "image/png": "[encoded data removed]",
            "text/plain": [
              "<Figure size 432x288 with 1 Axes>"
            ]
          },
          "metadata": {
            "tags": []
          }
        }
      ]
    },
    {
      "cell_type": "markdown",
      "metadata": {
        "id": "NQnga5YDtCf4",
        "colab_type": "text"
      },
      "source": [
        "The dots in the plots above are indicative of outliers"
      ]
    },
    {
      "cell_type": "code",
      "metadata": {
        "id": "eYvvtpCwtp-B",
        "colab_type": "code",
        "outputId": "518999ed-cf9c-4b48-9c7c-7144974f9cdb",
        "colab": {
          "base_uri": "https://localhost:8080/",
          "height": 744
        }
      },
      "source": [
        "columns = ['RAINFALL', 'SOIL_TYPE', 'Soil_Score', 'Elevation', 'Yield']\n",
        "sns.pairplot(merged[columns])"
      ],
      "execution_count": 0,
      "outputs": [
        {
          "output_type": "execute_result",
          "data": {
            "text/plain": [
              "<seaborn.axisgrid.PairGrid at 0x7f64cd0703c8>"
            ]
          },
          "metadata": {
            "tags": []
          },
          "execution_count": 217
        },
        {
          "output_type": "display_data",
          "data": {
            "image/png": "[encoded data removed]",
            "text/plain": [
              "<Figure size 720x720 with 20 Axes>"
            ]
          },
          "metadata": {
            "tags": []
          }
        }
      ]
    },
    {
      "cell_type": "code",
      "metadata": {
        "id": "JptSp4opuLRt",
        "colab_type": "code",
        "outputId": "069d938c-519f-4c24-db9f-3b326f835f41",
        "colab": {
          "base_uri": "https://localhost:8080/",
          "height": 592
        }
      },
      "source": [
        "%matplotlib inline\n",
        "sns.set(font_scale = 1)\n",
        "cmap_, ax = plt.subplots(figsize = (10,10))\n",
        "corr = merged[columns].corr(method = 'pearson')\n",
        "# cmap = sns.diverging_palette(220, 10, as_cmap = True)\n",
        "sns.heatmap(corr, cmap = cmap, square = True, \n",
        "            ax=ax, annot=True,\n",
        "           annot_kws = {'fontsize': 10})"
      ],
      "execution_count": 0,
      "outputs": [
        {
          "output_type": "execute_result",
          "data": {
            "text/plain": [
              "<matplotlib.axes._subplots.AxesSubplot at 0x7f64c8152278>"
            ]
          },
          "metadata": {
            "tags": []
          },
          "execution_count": 229
        },
        {
          "output_type": "display_data",
          "data": {
            "image/png": "[encoded data removed]",
            "text/plain": [
              "<Figure size 720x720 with 2 Axes>"
            ]
          },
          "metadata": {
            "tags": []
          }
        }
      ]
    }
  ]
}